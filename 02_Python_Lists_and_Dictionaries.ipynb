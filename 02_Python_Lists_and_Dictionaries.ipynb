{
  "nbformat": 4,
  "nbformat_minor": 0,
  "metadata": {
    "colab": {
      "name": "Python - Lists and Dictionaries.ipynb",
      "provenance": [],
      "collapsed_sections": [],
      "include_colab_link": true
    },
    "kernelspec": {
      "name": "python3",
      "display_name": "Python 3"
    }
  },
  "cells": [
    {
      "cell_type": "markdown",
      "metadata": {
        "id": "view-in-github",
        "colab_type": "text"
      },
      "source": [
        "<a href=\"https://colab.research.google.com/github/DarnosAeth/IntroductionToProgramming2019-2020/blob/master/02_Python_Lists_and_Dictionaries.ipynb\" target=\"_parent\"><img src=\"https://colab.research.google.com/assets/colab-badge.svg\" alt=\"Open In Colab\"/></a>"
      ]
    },
    {
      "cell_type": "markdown",
      "metadata": {
        "id": "GNqos2DfbTQg",
        "colab_type": "text"
      },
      "source": [
        "# Data Structure\n",
        "\n",
        "Until now we have seen basic variables and operations. However, commonly programs work with several variables at the same time, not just one or two. \n",
        "\n",
        "To facilitate these operations, data structures were created. \n",
        "\n",
        "Data structures are collection of variables and items, organized together in an ordered fashion, as to ease their manipulation. \n",
        "\n",
        "In Python, we four different kinds of data structures: lists, tuples, dictionaries and sets. \n",
        "\n",
        "• Lists can contain zero or more elements of different types. They are mutable, therefore their elements can be easily modifiedorexchanged. \n",
        "\n",
        "• Tuples can contain zero or more elements of different types. At variance with lists, tuples are immutable. \n",
        "\n",
        "• Dictionaries are similar to lists, but the order of the items does not matter and they cannot be selected by their offset. Instead, each element has a unique key associated to its value. Dictionaries are mutable, but can be composed of immutable elements, like tuples. \n",
        "\n",
        "• Sets are dictionaries containing only keys with no values. They are usually employed to keep track of some variables or otheritems, independently of their value. We will not talk about them in these lessons. "
      ]
    },
    {
      "cell_type": "markdown",
      "metadata": {
        "id": "5ngwNVu7bmKX",
        "colab_type": "text"
      },
      "source": [
        "# Lists\n",
        "\n",
        "Lists are good for keeping track of things by their order, especially when the order and contents might change. Unlike strings, lists are mutable. You can change a list in place, add new elements, and delete or overwrite existing elements. \n",
        "\n",
        "A list is made from zero or more elements, separated by commas, and surrounded by square brackets"
      ]
    },
    {
      "cell_type": "code",
      "metadata": {
        "id": "nD4_azS-bowH",
        "colab_type": "code",
        "outputId": "33a816bd-17dc-48bb-f30d-7d2a0b0b4bf0",
        "colab": {
          "base_uri": "https://localhost:8080/",
          "height": 34
        }
      },
      "source": [
        "empty_list=[]\n",
        "empty_list"
      ],
      "execution_count": 0,
      "outputs": [
        {
          "output_type": "execute_result",
          "data": {
            "text/plain": [
              "[]"
            ]
          },
          "metadata": {
            "tags": []
          },
          "execution_count": 1
        }
      ]
    },
    {
      "cell_type": "code",
      "metadata": {
        "id": "mDwc_h6IbxBo",
        "colab_type": "code",
        "outputId": "a8537b61-98b4-403c-e49c-a4323ee6d5f6",
        "colab": {
          "base_uri": "https://localhost:8080/",
          "height": 34
        }
      },
      "source": [
        "weekdays=['Monday', 'Tuesday', 'Wednesday', 'Thursday', 'Friday']\n",
        "weekdays"
      ],
      "execution_count": 0,
      "outputs": [
        {
          "output_type": "execute_result",
          "data": {
            "text/plain": [
              "['Monday', 'Tuesday', 'Wednesday', 'Thursday', 'Friday']"
            ]
          },
          "metadata": {
            "tags": []
          },
          "execution_count": 2
        }
      ]
    },
    {
      "cell_type": "markdown",
      "metadata": {
        "id": "WizEeJNrb3-f",
        "colab_type": "text"
      },
      "source": [
        "Since lists do not care about the uniqueness of their elements (unlike dictionaries), the same value can occur more than once."
      ]
    },
    {
      "cell_type": "code",
      "metadata": {
        "id": "ol8YTmqqb4PJ",
        "colab_type": "code",
        "outputId": "60cf25e2-0106-47a1-f006-beea34560632",
        "colab": {
          "base_uri": "https://localhost:8080/",
          "height": 34
        }
      },
      "source": [
        "weekdays= ['Monday', 'Monday', 'Monday', 'Monday', 'Monday'] \n",
        "weekdays"
      ],
      "execution_count": 0,
      "outputs": [
        {
          "output_type": "execute_result",
          "data": {
            "text/plain": [
              "['Monday', 'Monday', 'Monday', 'Monday', 'Monday']"
            ]
          },
          "metadata": {
            "tags": []
          },
          "execution_count": 3
        }
      ]
    },
    {
      "cell_type": "markdown",
      "metadata": {
        "id": "7uPSbDzQcCgI",
        "colab_type": "text"
      },
      "source": [
        "Another way to create a list is by using the list() function."
      ]
    },
    {
      "cell_type": "code",
      "metadata": {
        "id": "bbyEkjrWcDRo",
        "colab_type": "code",
        "outputId": "92138485-0e8d-4775-d39b-c3e516de1258",
        "colab": {
          "base_uri": "https://localhost:8080/",
          "height": 34
        }
      },
      "source": [
        "empty_list=list()\n",
        "empty_list"
      ],
      "execution_count": 0,
      "outputs": [
        {
          "output_type": "execute_result",
          "data": {
            "text/plain": [
              "[]"
            ]
          },
          "metadata": {
            "tags": []
          },
          "execution_count": 4
        }
      ]
    },
    {
      "cell_type": "markdown",
      "metadata": {
        "id": "DlJNAuetcP3h",
        "colab_type": "text"
      },
      "source": [
        "However, the list() function takes just one argument. "
      ]
    },
    {
      "cell_type": "code",
      "metadata": {
        "id": "RYqC23BacQwZ",
        "colab_type": "code",
        "outputId": "5ba749d2-6c8f-4e80-8b9c-93f0f4b502a9",
        "colab": {
          "base_uri": "https://localhost:8080/",
          "height": 167
        }
      },
      "source": [
        " weekdays=list('Monday', 'Tuesday', 'Wednesday', 'Thursday', 'Friday') "
      ],
      "execution_count": 0,
      "outputs": [
        {
          "output_type": "error",
          "ename": "TypeError",
          "evalue": "ignored",
          "traceback": [
            "\u001b[0;31m---------------------------------------------------------------------------\u001b[0m",
            "\u001b[0;31mTypeError\u001b[0m                                 Traceback (most recent call last)",
            "\u001b[0;32m<ipython-input-6-58beb7955f33>\u001b[0m in \u001b[0;36m<module>\u001b[0;34m()\u001b[0m\n\u001b[0;32m----> 1\u001b[0;31m \u001b[0mweekdays\u001b[0m\u001b[0;34m=\u001b[0m\u001b[0mlist\u001b[0m\u001b[0;34m(\u001b[0m\u001b[0;34m'Monday'\u001b[0m\u001b[0;34m,\u001b[0m \u001b[0;34m'Tuesday'\u001b[0m\u001b[0;34m,\u001b[0m \u001b[0;34m'Wednesday'\u001b[0m\u001b[0;34m,\u001b[0m \u001b[0;34m'Thursday'\u001b[0m\u001b[0;34m,\u001b[0m \u001b[0;34m'Friday'\u001b[0m\u001b[0;34m)\u001b[0m\u001b[0;34m\u001b[0m\u001b[0;34m\u001b[0m\u001b[0m\n\u001b[0m",
            "\u001b[0;31mTypeError\u001b[0m: list() takes at most 1 argument (5 given)"
          ]
        }
      ]
    },
    {
      "cell_type": "markdown",
      "metadata": {
        "id": "VGj3Akc5c62o",
        "colab_type": "text"
      },
      "source": [
        "The list() function can also be used to convert other data types to list. "
      ]
    },
    {
      "cell_type": "code",
      "metadata": {
        "id": "15QSuzqYc7b6",
        "colab_type": "code",
        "outputId": "90749868-c4d0-4425-ebe6-16801991e9bb",
        "colab": {
          "base_uri": "https://localhost:8080/",
          "height": 34
        }
      },
      "source": [
        " list('Monday') "
      ],
      "execution_count": 0,
      "outputs": [
        {
          "output_type": "execute_result",
          "data": {
            "text/plain": [
              "['M', 'o', 'n', 'd', 'a', 'y']"
            ]
          },
          "metadata": {
            "tags": []
          },
          "execution_count": 7
        }
      ]
    },
    {
      "cell_type": "markdown",
      "metadata": {
        "id": "9q42Ly_Dc_T4",
        "colab_type": "text"
      },
      "source": [
        "The split() function shown previously creates a list of object, too."
      ]
    },
    {
      "cell_type": "code",
      "metadata": {
        "id": "L7SzPYIWc_iq",
        "colab_type": "code",
        "outputId": "0f941d0a-e41b-48e4-cd93-ed0fa0eede58",
        "colab": {
          "base_uri": "https://localhost:8080/",
          "height": 34
        }
      },
      "source": [
        "bat='NaNaNaNaNaNaNaNaNaNaNaNaNaNaNaNa, Batman!' \n",
        "bat.split(',')"
      ],
      "execution_count": 0,
      "outputs": [
        {
          "output_type": "execute_result",
          "data": {
            "text/plain": [
              "['NaNaNaNaNaNaNaNaNaNaNaNaNaNaNaNa', ' Batman!']"
            ]
          },
          "metadata": {
            "tags": []
          },
          "execution_count": 8
        }
      ]
    },
    {
      "cell_type": "markdown",
      "metadata": {
        "id": "pvmHZUM_dJSb",
        "colab_type": "text"
      },
      "source": [
        "Since a list can contain empty objects, something like this can happen, too. "
      ]
    },
    {
      "cell_type": "code",
      "metadata": {
        "id": "UmNN3W9idJrZ",
        "colab_type": "code",
        "outputId": "28972ed7-21db-491c-b8d5-b8795c1e76b0",
        "colab": {
          "base_uri": "https://localhost:8080/",
          "height": 34
        }
      },
      "source": [
        "splitme='a/b//c/d///e'\n",
        "splitme.split('/') "
      ],
      "execution_count": 0,
      "outputs": [
        {
          "output_type": "execute_result",
          "data": {
            "text/plain": [
              "['a', 'b', '', 'c', 'd', '', '', 'e']"
            ]
          },
          "metadata": {
            "tags": []
          },
          "execution_count": 9
        }
      ]
    },
    {
      "cell_type": "markdown",
      "metadata": {
        "id": "XcQttUN5dPki",
        "colab_type": "text"
      },
      "source": [
        "Furthermore, it is possible to convert a list in a string by using the join() function. We have already seen this previously. "
      ]
    },
    {
      "cell_type": "code",
      "metadata": {
        "id": "z_bYNMmCdP8Q",
        "colab_type": "code",
        "outputId": "764ac6ce-04ff-41b1-9933-12067880edb0",
        "colab": {
          "base_uri": "https://localhost:8080/",
          "height": 34
        }
      },
      "source": [
        "monday=['M','o','n','d','a','y']\n",
        "''.join(monday) "
      ],
      "execution_count": 0,
      "outputs": [
        {
          "output_type": "execute_result",
          "data": {
            "text/plain": [
              "'Monday'"
            ]
          },
          "metadata": {
            "tags": []
          },
          "execution_count": 10
        }
      ]
    },
    {
      "cell_type": "markdown",
      "metadata": {
        "id": "9fEdObmxdXdK",
        "colab_type": "text"
      },
      "source": [
        "As we can see here, the join() function is the opposite of the split() function.\n"
      ]
    },
    {
      "cell_type": "markdown",
      "metadata": {
        "id": "P-so8TyadY9h",
        "colab_type": "text"
      },
      "source": [
        "Since lists are ordered, it is possible to return an element of a list by using its offset. This approach is similar to the one used with strings. "
      ]
    },
    {
      "cell_type": "code",
      "metadata": {
        "id": "WOOZnuS7dZrS",
        "colab_type": "code",
        "outputId": "925df7e1-1491-4245-9a4f-9bbb317461f4",
        "colab": {
          "base_uri": "https://localhost:8080/",
          "height": 34
        }
      },
      "source": [
        "weekdays=['Monday', 'Tuesday', 'Wednesday', 'Thursday', 'Friday']\n",
        "weekdays[0]"
      ],
      "execution_count": 0,
      "outputs": [
        {
          "output_type": "execute_result",
          "data": {
            "text/plain": [
              "'Monday'"
            ]
          },
          "metadata": {
            "tags": []
          },
          "execution_count": 11
        }
      ]
    },
    {
      "cell_type": "code",
      "metadata": {
        "id": "qL6n2sqVdz0p",
        "colab_type": "code",
        "outputId": "d1d58095-f05d-42a4-96e8-428cb07a2bd5",
        "colab": {
          "base_uri": "https://localhost:8080/",
          "height": 34
        }
      },
      "source": [
        "weekdays[3]"
      ],
      "execution_count": 0,
      "outputs": [
        {
          "output_type": "execute_result",
          "data": {
            "text/plain": [
              "'Thursday'"
            ]
          },
          "metadata": {
            "tags": []
          },
          "execution_count": 12
        }
      ]
    },
    {
      "cell_type": "code",
      "metadata": {
        "id": "O9wmuFNxd1r5",
        "colab_type": "code",
        "outputId": "fb81fd72-43e2-4324-fd45-066557254ca1",
        "colab": {
          "base_uri": "https://localhost:8080/",
          "height": 34
        }
      },
      "source": [
        "weekdays[-2]"
      ],
      "execution_count": 0,
      "outputs": [
        {
          "output_type": "execute_result",
          "data": {
            "text/plain": [
              "'Thursday'"
            ]
          },
          "metadata": {
            "tags": []
          },
          "execution_count": 14
        }
      ]
    },
    {
      "cell_type": "markdown",
      "metadata": {
        "id": "Dbom8fSnd5ur",
        "colab_type": "text"
      },
      "source": [
        "If the offset is out of bound, i.e. your list is too small, you will receive an exception. "
      ]
    },
    {
      "cell_type": "code",
      "metadata": {
        "id": "1wcVSgf5d6A6",
        "colab_type": "code",
        "outputId": "efac67ef-27cd-4eb0-b0d4-7e5c40bde2b7",
        "colab": {
          "base_uri": "https://localhost:8080/",
          "height": 167
        }
      },
      "source": [
        "weekdays[5] "
      ],
      "execution_count": 0,
      "outputs": [
        {
          "output_type": "error",
          "ename": "IndexError",
          "evalue": "ignored",
          "traceback": [
            "\u001b[0;31m---------------------------------------------------------------------------\u001b[0m",
            "\u001b[0;31mIndexError\u001b[0m                                Traceback (most recent call last)",
            "\u001b[0;32m<ipython-input-15-d92b0f8a2fc7>\u001b[0m in \u001b[0;36m<module>\u001b[0;34m()\u001b[0m\n\u001b[0;32m----> 1\u001b[0;31m \u001b[0mweekdays\u001b[0m\u001b[0;34m[\u001b[0m\u001b[0;36m5\u001b[0m\u001b[0;34m]\u001b[0m\u001b[0;34m\u001b[0m\u001b[0;34m\u001b[0m\u001b[0m\n\u001b[0m",
            "\u001b[0;31mIndexError\u001b[0m: list index out of range"
          ]
        }
      ]
    },
    {
      "cell_type": "code",
      "metadata": {
        "id": "MOhEDr6id9rJ",
        "colab_type": "code",
        "outputId": "c0cbab5f-9837-4230-969e-77ec862c5d30",
        "colab": {
          "base_uri": "https://localhost:8080/",
          "height": 167
        }
      },
      "source": [
        "weekdays[-6]"
      ],
      "execution_count": 0,
      "outputs": [
        {
          "output_type": "error",
          "ename": "IndexError",
          "evalue": "ignored",
          "traceback": [
            "\u001b[0;31m---------------------------------------------------------------------------\u001b[0m",
            "\u001b[0;31mIndexError\u001b[0m                                Traceback (most recent call last)",
            "\u001b[0;32m<ipython-input-17-cab43e5ef0bb>\u001b[0m in \u001b[0;36m<module>\u001b[0;34m()\u001b[0m\n\u001b[0;32m----> 1\u001b[0;31m \u001b[0mweekdays\u001b[0m\u001b[0;34m[\u001b[0m\u001b[0;34m-\u001b[0m\u001b[0;36m6\u001b[0m\u001b[0;34m]\u001b[0m\u001b[0;34m\u001b[0m\u001b[0;34m\u001b[0m\u001b[0m\n\u001b[0m",
            "\u001b[0;31mIndexError\u001b[0m: list index out of range"
          ]
        }
      ]
    },
    {
      "cell_type": "markdown",
      "metadata": {
        "id": "7TOk7sknfOid",
        "colab_type": "text"
      },
      "source": [
        "Lists can also contain elements of different type. Including other lists. "
      ]
    },
    {
      "cell_type": "code",
      "metadata": {
        "id": "uZu9wwJPfRVa",
        "colab_type": "code",
        "outputId": "f4102d99-3466-46d6-c08a-55f22bb807cf",
        "colab": {
          "base_uri": "https://localhost:8080/",
          "height": 87
        }
      },
      "source": [
        "small_birds=['hummingbird', 'finch']\n",
        "extinct_birds=['dodo', 'passenger pigeon', 'Norwegian Blue'] \n",
        "carol_birds=[3, 'French hens', 2, 'turtledoves']\n",
        "all_birds=[small_birds, extinct_birds, 'macaw', carol_birds] \n",
        "all_birds"
      ],
      "execution_count": 0,
      "outputs": [
        {
          "output_type": "execute_result",
          "data": {
            "text/plain": [
              "[['hummingbird', 'finch'],\n",
              " ['dodo', 'passenger pigeon', 'Norwegian Blue'],\n",
              " 'macaw',\n",
              " [3, 'French hens', 2, 'turtledoves']]"
            ]
          },
          "metadata": {
            "tags": []
          },
          "execution_count": 20
        }
      ]
    },
    {
      "cell_type": "markdown",
      "metadata": {
        "id": "hF7RKmmSffn_",
        "colab_type": "text"
      },
      "source": [
        "Each list can be selected using its offset: "
      ]
    },
    {
      "cell_type": "code",
      "metadata": {
        "id": "MBr1qNepff3z",
        "colab_type": "code",
        "outputId": "ac6ee0e8-e0be-4755-f1a2-50f9ca3e8dac",
        "colab": {
          "base_uri": "https://localhost:8080/",
          "height": 34
        }
      },
      "source": [
        "all_birds[1] "
      ],
      "execution_count": 0,
      "outputs": [
        {
          "output_type": "execute_result",
          "data": {
            "text/plain": [
              "['dodo', 'passenger pigeon', 'Norwegian Blue']"
            ]
          },
          "metadata": {
            "tags": []
          },
          "execution_count": 21
        }
      ]
    },
    {
      "cell_type": "markdown",
      "metadata": {
        "id": "P0qxUy0YfiYD",
        "colab_type": "text"
      },
      "source": [
        "By providing two offsets, it is possible to obtain a single element of a list of lists: "
      ]
    },
    {
      "cell_type": "code",
      "metadata": {
        "id": "tRdMDdFMfirC",
        "colab_type": "code",
        "outputId": "8bd01dbd-339d-4b00-c213-52383e6a614d",
        "colab": {
          "base_uri": "https://localhost:8080/",
          "height": 34
        }
      },
      "source": [
        "all_birds[1][0]"
      ],
      "execution_count": 0,
      "outputs": [
        {
          "output_type": "execute_result",
          "data": {
            "text/plain": [
              "'dodo'"
            ]
          },
          "metadata": {
            "tags": []
          },
          "execution_count": 22
        }
      ]
    },
    {
      "cell_type": "markdown",
      "metadata": {
        "id": "QA8elQyTflcL",
        "colab_type": "text"
      },
      "source": [
        "Or change it, because lists are mutable: "
      ]
    },
    {
      "cell_type": "code",
      "metadata": {
        "id": "l6GiDTPBfloz",
        "colab_type": "code",
        "outputId": "ede17531-484f-4591-f6af-fa644c2a6516",
        "colab": {
          "base_uri": "https://localhost:8080/",
          "height": 34
        }
      },
      "source": [
        "all_birds[1][0]='pigeon'\n",
        "all_birds[1][0]"
      ],
      "execution_count": 0,
      "outputs": [
        {
          "output_type": "execute_result",
          "data": {
            "text/plain": [
              "'pigeon'"
            ]
          },
          "metadata": {
            "tags": []
          },
          "execution_count": 25
        }
      ]
    },
    {
      "cell_type": "markdown",
      "metadata": {
        "id": "byDfZwhEgCBT",
        "colab_type": "text"
      },
      "source": [
        "Another way to get an item from a list, or more than one, is by using the slice function.\n",
        "\n",
        "You may have noticed that lists and strings share some functions. Here, the slice function works in the same way you previously saw when working with strings. "
      ]
    },
    {
      "cell_type": "code",
      "metadata": {
        "id": "dcCzXnzogDbm",
        "colab_type": "code",
        "outputId": "852ccddc-76c3-45ff-a402-bb921886a75b",
        "colab": {
          "base_uri": "https://localhost:8080/",
          "height": 34
        }
      },
      "source": [
        "weekdays=['Monday', 'Tuesday', 'Wednesday', 'Thursday', 'Friday'] \n",
        "weekdays[:2] "
      ],
      "execution_count": 0,
      "outputs": [
        {
          "output_type": "execute_result",
          "data": {
            "text/plain": [
              "['Monday', 'Tuesday']"
            ]
          },
          "metadata": {
            "tags": []
          },
          "execution_count": 26
        }
      ]
    },
    {
      "cell_type": "code",
      "metadata": {
        "id": "RF5trc40gH2c",
        "colab_type": "code",
        "outputId": "08d62b26-2fa2-40b7-b9d1-4c11659b1c5d",
        "colab": {
          "base_uri": "https://localhost:8080/",
          "height": 34
        }
      },
      "source": [
        "weekdays[::2] "
      ],
      "execution_count": 0,
      "outputs": [
        {
          "output_type": "execute_result",
          "data": {
            "text/plain": [
              "['Monday', 'Wednesday', 'Friday']"
            ]
          },
          "metadata": {
            "tags": []
          },
          "execution_count": 27
        }
      ]
    },
    {
      "cell_type": "code",
      "metadata": {
        "id": "Z81gepewgJVU",
        "colab_type": "code",
        "outputId": "5b84b704-aeb9-4437-b226-26bde59dec1a",
        "colab": {
          "base_uri": "https://localhost:8080/",
          "height": 34
        }
      },
      "source": [
        "weekdays[::-2]"
      ],
      "execution_count": 0,
      "outputs": [
        {
          "output_type": "execute_result",
          "data": {
            "text/plain": [
              "['Friday', 'Wednesday', 'Monday']"
            ]
          },
          "metadata": {
            "tags": []
          },
          "execution_count": 28
        }
      ]
    },
    {
      "cell_type": "code",
      "metadata": {
        "id": "StzW1txIgLI8",
        "colab_type": "code",
        "outputId": "70a16a67-8b33-4632-844e-df8f6e42a249",
        "colab": {
          "base_uri": "https://localhost:8080/",
          "height": 34
        }
      },
      "source": [
        "weekdays[2::-3] "
      ],
      "execution_count": 0,
      "outputs": [
        {
          "output_type": "execute_result",
          "data": {
            "text/plain": [
              "['Wednesday']"
            ]
          },
          "metadata": {
            "tags": []
          },
          "execution_count": 29
        }
      ]
    },
    {
      "cell_type": "code",
      "metadata": {
        "id": "S-ZSKym4gNGL",
        "colab_type": "code",
        "outputId": "73734f18-f086-483c-a112-af14f9833f09",
        "colab": {
          "base_uri": "https://localhost:8080/",
          "height": 34
        }
      },
      "source": [
        "weekdays[-2:-1]"
      ],
      "execution_count": 0,
      "outputs": [
        {
          "output_type": "execute_result",
          "data": {
            "text/plain": [
              "['Thursday']"
            ]
          },
          "metadata": {
            "tags": []
          },
          "execution_count": 30
        }
      ]
    },
    {
      "cell_type": "markdown",
      "metadata": {
        "id": "4fzpQDK2ht2s",
        "colab_type": "text"
      },
      "source": [
        "Like with strings, lists can be combined by using the + symbol. "
      ]
    },
    {
      "cell_type": "code",
      "metadata": {
        "id": "uxIdSJFuhu1G",
        "colab_type": "code",
        "outputId": "f447fe2a-2bfc-48b5-e43b-45950406523e",
        "colab": {
          "base_uri": "https://localhost:8080/",
          "height": 34
        }
      },
      "source": [
        "weekdays=['Monday', 'Tuesday', 'Wednesday', 'Thursday', 'Friday']\n",
        "weekend =['Saturday', 'Sunday']\n",
        "weekdays+weekend"
      ],
      "execution_count": 0,
      "outputs": [
        {
          "output_type": "execute_result",
          "data": {
            "text/plain": [
              "['Monday', 'Tuesday', 'Wednesday', 'Thursday', 'Friday', 'Saturday', 'Sunday']"
            ]
          },
          "metadata": {
            "tags": []
          },
          "execution_count": 31
        }
      ]
    },
    {
      "cell_type": "markdown",
      "metadata": {
        "id": "o79YmjCjh4SN",
        "colab_type": "text"
      },
      "source": [
        "Alternatively, it is possible to use the =+ notation, changing the values of the first list. "
      ]
    },
    {
      "cell_type": "code",
      "metadata": {
        "id": "IaRozR_uh4n0",
        "colab_type": "code",
        "outputId": "5b98398d-a937-4af1-d761-17e2a6ed5ba8",
        "colab": {
          "base_uri": "https://localhost:8080/",
          "height": 34
        }
      },
      "source": [
        "weekdays+=weekend \n",
        "weekdays"
      ],
      "execution_count": 0,
      "outputs": [
        {
          "output_type": "execute_result",
          "data": {
            "text/plain": [
              "['Monday', 'Tuesday', 'Wednesday', 'Thursday', 'Friday', 'Saturday', 'Sunday']"
            ]
          },
          "metadata": {
            "tags": []
          },
          "execution_count": 32
        }
      ]
    },
    {
      "cell_type": "markdown",
      "metadata": {
        "id": "tO9Qi80bh9tG",
        "colab_type": "text"
      },
      "source": [
        "A similar result can be achieved using the function extend(). "
      ]
    },
    {
      "cell_type": "code",
      "metadata": {
        "id": "Ia-fB5oUh970",
        "colab_type": "code",
        "outputId": "3fde659f-62f8-495e-9395-06da5d55624e",
        "colab": {
          "base_uri": "https://localhost:8080/",
          "height": 34
        }
      },
      "source": [
        "weekdays=['Monday', 'Tuesday', 'Wednesday', 'Thursday', 'Friday']\n",
        "weekdays.extend(weekend)\n",
        "weekdays"
      ],
      "execution_count": 0,
      "outputs": [
        {
          "output_type": "execute_result",
          "data": {
            "text/plain": [
              "['Monday', 'Tuesday', 'Wednesday', 'Thursday', 'Friday', 'Saturday', 'Sunday']"
            ]
          },
          "metadata": {
            "tags": []
          },
          "execution_count": 33
        }
      ]
    },
    {
      "cell_type": "markdown",
      "metadata": {
        "id": "rJLg9TPeiGZ3",
        "colab_type": "text"
      },
      "source": [
        "By using the append() function, instead, the second list can be added as an item of the first one. "
      ]
    },
    {
      "cell_type": "code",
      "metadata": {
        "id": "-MfZbMYciHE1",
        "colab_type": "code",
        "outputId": "2df0f7c9-4d36-4895-e9d7-149dee0a1a91",
        "colab": {
          "base_uri": "https://localhost:8080/",
          "height": 123
        }
      },
      "source": [
        "weekdays=['Monday', 'Tuesday', 'Wednesday', 'Thursday', 'Friday']\n",
        "weekdays.append(weekend)\n",
        "weekdays"
      ],
      "execution_count": 0,
      "outputs": [
        {
          "output_type": "execute_result",
          "data": {
            "text/plain": [
              "['Monday',\n",
              " 'Tuesday',\n",
              " 'Wednesday',\n",
              " 'Thursday',\n",
              " 'Friday',\n",
              " ['Saturday', 'Sunday']]"
            ]
          },
          "metadata": {
            "tags": []
          },
          "execution_count": 34
        }
      ]
    },
    {
      "cell_type": "markdown",
      "metadata": {
        "id": "SjI96SMOioVW",
        "colab_type": "text"
      },
      "source": [
        "Other than combining lists, there are several ways that allow to add items to a list (or remove them). "
      ]
    },
    {
      "cell_type": "code",
      "metadata": {
        "id": "eJkuOIM1ipLY",
        "colab_type": "code",
        "outputId": "4c441f41-8ea3-4b59-e933-4af48ed01e9f",
        "colab": {
          "base_uri": "https://localhost:8080/",
          "height": 34
        }
      },
      "source": [
        "pokemon=['Articuno', 'Zapdos', 'Moltres']\n",
        "pokemon.append('Mewtwo')\n",
        "pokemon"
      ],
      "execution_count": 0,
      "outputs": [
        {
          "output_type": "execute_result",
          "data": {
            "text/plain": [
              "['Articuno', 'Zapdos', 'Moltres', 'Mewtwo']"
            ]
          },
          "metadata": {
            "tags": []
          },
          "execution_count": 41
        }
      ]
    },
    {
      "cell_type": "markdown",
      "metadata": {
        "id": "EqOsrIT7i7Kt",
        "colab_type": "text"
      },
      "source": [
        "• Insert(): adds an item at a certain position, specified by offset. If the offset provided is too big, the item will be automatically added at the end of the list"
      ]
    },
    {
      "cell_type": "code",
      "metadata": {
        "id": "fVMQ9UEJi7pv",
        "colab_type": "code",
        "outputId": "763d5921-f7a7-4d98-9072-1e5d0f6b4070",
        "colab": {
          "base_uri": "https://localhost:8080/",
          "height": 34
        }
      },
      "source": [
        "pokemon.insert(0,'Mew')\n",
        "pokemon"
      ],
      "execution_count": 0,
      "outputs": [
        {
          "output_type": "execute_result",
          "data": {
            "text/plain": [
              "['Mew', 'Articuno', 'Zapdos', 'Moltres', 'Mewtwo']"
            ]
          },
          "metadata": {
            "tags": []
          },
          "execution_count": 42
        }
      ]
    },
    {
      "cell_type": "markdown",
      "metadata": {
        "id": "6gw5PEDWjLiZ",
        "colab_type": "text"
      },
      "source": [
        "• Remove(): deletes an item from the list, without taking into account its offset"
      ]
    },
    {
      "cell_type": "code",
      "metadata": {
        "id": "dRuiz9SVjN5A",
        "colab_type": "code",
        "outputId": "f79d58b8-ae86-4df7-ebf3-756e3ead0100",
        "colab": {
          "base_uri": "https://localhost:8080/",
          "height": 34
        }
      },
      "source": [
        "pokemon.remove('Mew')\n",
        "pokemon"
      ],
      "execution_count": 0,
      "outputs": [
        {
          "output_type": "execute_result",
          "data": {
            "text/plain": [
              "['Articuno', 'Zapdos', 'Moltres', 'Mewtwo']"
            ]
          },
          "metadata": {
            "tags": []
          },
          "execution_count": 43
        }
      ]
    },
    {
      "cell_type": "markdown",
      "metadata": {
        "id": "-lRCGLIMjCT1",
        "colab_type": "text"
      },
      "source": [
        "• Pop(): gets an item and deletes it from the list, based on the offset provided. If no offset is provided, it will use -1, meaning that it will remove the last item in the list. Pop(0) instead will get and remove the first item in the list"
      ]
    },
    {
      "cell_type": "code",
      "metadata": {
        "id": "MZHQFqlxjCin",
        "colab_type": "code",
        "outputId": "3e0dba18-97d5-43cb-97e6-0b272c73982e",
        "colab": {
          "base_uri": "https://localhost:8080/",
          "height": 34
        }
      },
      "source": [
        "pokemon.pop() "
      ],
      "execution_count": 0,
      "outputs": [
        {
          "output_type": "execute_result",
          "data": {
            "text/plain": [
              "'Mewtwo'"
            ]
          },
          "metadata": {
            "tags": []
          },
          "execution_count": 44
        }
      ]
    },
    {
      "cell_type": "code",
      "metadata": {
        "id": "pWvaTPaAjGUe",
        "colab_type": "code",
        "outputId": "a0627538-ad6f-42d3-cb42-04e503eeef9c",
        "colab": {
          "base_uri": "https://localhost:8080/",
          "height": 34
        }
      },
      "source": [
        "pokemon"
      ],
      "execution_count": 0,
      "outputs": [
        {
          "output_type": "execute_result",
          "data": {
            "text/plain": [
              "['Articuno', 'Zapdos', 'Moltres']"
            ]
          },
          "metadata": {
            "tags": []
          },
          "execution_count": 45
        }
      ]
    },
    {
      "cell_type": "markdown",
      "metadata": {
        "id": "jy7WdxMik6cd",
        "colab_type": "text"
      },
      "source": [
        "When working with big lists, being able to find a certain item is extremely useful. The index() function will return the offset of a certain item in the list, if present. "
      ]
    },
    {
      "cell_type": "code",
      "metadata": {
        "id": "tVofDkO9k69d",
        "colab_type": "code",
        "outputId": "ec179d98-bd54-498b-c5c5-4311b863440e",
        "colab": {
          "base_uri": "https://localhost:8080/",
          "height": 34
        }
      },
      "source": [
        "pokemon=['Articuno', 'Zapdos', 'Moltres']\n",
        "pokemon.index('Zapdos') "
      ],
      "execution_count": 0,
      "outputs": [
        {
          "output_type": "execute_result",
          "data": {
            "text/plain": [
              "1"
            ]
          },
          "metadata": {
            "tags": []
          },
          "execution_count": 47
        }
      ]
    },
    {
      "cell_type": "markdown",
      "metadata": {
        "id": "VMTispI0lFMn",
        "colab_type": "text"
      },
      "source": [
        "In case the item is not present in the list, you will receive an exception."
      ]
    },
    {
      "cell_type": "code",
      "metadata": {
        "id": "2jxIr0qzlF3g",
        "colab_type": "code",
        "outputId": "eea1db73-bc5d-4391-b5c3-0f3e572a0572",
        "colab": {
          "base_uri": "https://localhost:8080/",
          "height": 167
        }
      },
      "source": [
        "pokemon.index('Mew')"
      ],
      "execution_count": 0,
      "outputs": [
        {
          "output_type": "error",
          "ename": "ValueError",
          "evalue": "ignored",
          "traceback": [
            "\u001b[0;31m---------------------------------------------------------------------------\u001b[0m",
            "\u001b[0;31mValueError\u001b[0m                                Traceback (most recent call last)",
            "\u001b[0;32m<ipython-input-48-3e565f7c9b39>\u001b[0m in \u001b[0;36m<module>\u001b[0;34m()\u001b[0m\n\u001b[0;32m----> 1\u001b[0;31m \u001b[0mpokemon\u001b[0m\u001b[0;34m.\u001b[0m\u001b[0mindex\u001b[0m\u001b[0;34m(\u001b[0m\u001b[0;34m'Mew'\u001b[0m\u001b[0;34m)\u001b[0m\u001b[0;34m\u001b[0m\u001b[0;34m\u001b[0m\u001b[0m\n\u001b[0m",
            "\u001b[0;31mValueError\u001b[0m: 'Mew' is not in list"
          ]
        }
      ]
    },
    {
      "cell_type": "markdown",
      "metadata": {
        "id": "JmgzLP9YlQrQ",
        "colab_type": "text"
      },
      "source": [
        "To avoid receiving an exception, it is possible to see if the desired item is present in the list before running the index function. This check will return a True result if the item is present, whereas a False will be printed otherwise."
      ]
    },
    {
      "cell_type": "code",
      "metadata": {
        "id": "s73LTooHlRyn",
        "colab_type": "code",
        "outputId": "517ffb01-f1ad-48a7-9b11-c87abaa5b873",
        "colab": {
          "base_uri": "https://localhost:8080/",
          "height": 34
        }
      },
      "source": [
        "'Articuno' in pokemon "
      ],
      "execution_count": 0,
      "outputs": [
        {
          "output_type": "execute_result",
          "data": {
            "text/plain": [
              "True"
            ]
          },
          "metadata": {
            "tags": []
          },
          "execution_count": 49
        }
      ]
    },
    {
      "cell_type": "code",
      "metadata": {
        "id": "daNs6R7YlVmz",
        "colab_type": "code",
        "outputId": "38165f8e-544c-4527-9a9a-0edcf916b630",
        "colab": {
          "base_uri": "https://localhost:8080/",
          "height": 34
        }
      },
      "source": [
        "'Mew' in pokemon "
      ],
      "execution_count": 0,
      "outputs": [
        {
          "output_type": "execute_result",
          "data": {
            "text/plain": [
              "False"
            ]
          },
          "metadata": {
            "tags": []
          },
          "execution_count": 50
        }
      ]
    },
    {
      "cell_type": "markdown",
      "metadata": {
        "id": "xn8_V85iliwu",
        "colab_type": "text"
      },
      "source": [
        "Alternatively, it is possible to check the presence of an item by using the count() function."
      ]
    },
    {
      "cell_type": "code",
      "metadata": {
        "id": "G39H-BEXlmnC",
        "colab_type": "code",
        "outputId": "bf3319dc-e006-4e71-c5f1-315ac8e2e550",
        "colab": {
          "base_uri": "https://localhost:8080/",
          "height": 34
        }
      },
      "source": [
        "pokemon.count('Mew')"
      ],
      "execution_count": 0,
      "outputs": [
        {
          "output_type": "execute_result",
          "data": {
            "text/plain": [
              "0"
            ]
          },
          "metadata": {
            "tags": []
          },
          "execution_count": 51
        }
      ]
    },
    {
      "cell_type": "code",
      "metadata": {
        "id": "uFWZsMZtlpxC",
        "colab_type": "code",
        "outputId": "9959656a-87fd-4930-91c5-00607e6a2604",
        "colab": {
          "base_uri": "https://localhost:8080/",
          "height": 34
        }
      },
      "source": [
        "pokemon.count('Zapdos') "
      ],
      "execution_count": 0,
      "outputs": [
        {
          "output_type": "execute_result",
          "data": {
            "text/plain": [
              "1"
            ]
          },
          "metadata": {
            "tags": []
          },
          "execution_count": 52
        }
      ]
    },
    {
      "cell_type": "markdown",
      "metadata": {
        "id": "dU5oKEJslx9q",
        "colab_type": "text"
      },
      "source": [
        "Sometimes having the ability to sort a list may be convenient. Python has two functions that allow you to sort items in a list: sort() and sorted(). \n",
        "\n",
        "Sort() simply sorts the list. "
      ]
    },
    {
      "cell_type": "code",
      "metadata": {
        "id": "KZZAjiWOl0lM",
        "colab_type": "code",
        "outputId": "d9c0acf7-cb10-4403-840f-36ea7690c64f",
        "colab": {
          "base_uri": "https://localhost:8080/",
          "height": 34
        }
      },
      "source": [
        "pokemon=['Articuno', 'Zapdos', 'Moltres']\n",
        "pokemon.sort()\n",
        "pokemon"
      ],
      "execution_count": 0,
      "outputs": [
        {
          "output_type": "execute_result",
          "data": {
            "text/plain": [
              "['Articuno', 'Moltres', 'Zapdos']"
            ]
          },
          "metadata": {
            "tags": []
          },
          "execution_count": 54
        }
      ]
    },
    {
      "cell_type": "markdown",
      "metadata": {
        "id": "tzTrdfz9oAny",
        "colab_type": "text"
      },
      "source": [
        "Sorted() instead creates a sorted copy of the original list. "
      ]
    },
    {
      "cell_type": "code",
      "metadata": {
        "id": "8PMVccsFoA2o",
        "colab_type": "code",
        "outputId": "f7963f0f-6e43-497b-a359-3eb611d27a95",
        "colab": {
          "base_uri": "https://localhost:8080/",
          "height": 34
        }
      },
      "source": [
        "pokemon=['Articuno', 'Zapdos', 'Moltres']\n",
        "sorted_pokemon=sorted(pokemon)\n",
        "pokemon"
      ],
      "execution_count": 0,
      "outputs": [
        {
          "output_type": "execute_result",
          "data": {
            "text/plain": [
              "['Articuno', 'Zapdos', 'Moltres']"
            ]
          },
          "metadata": {
            "tags": []
          },
          "execution_count": 57
        }
      ]
    },
    {
      "cell_type": "code",
      "metadata": {
        "id": "vS532MemowDe",
        "colab_type": "code",
        "outputId": "14aefb4b-4fcb-4c18-dc36-d5e31897c43b",
        "colab": {
          "base_uri": "https://localhost:8080/",
          "height": 34
        }
      },
      "source": [
        "sorted_pokemon"
      ],
      "execution_count": 0,
      "outputs": [
        {
          "output_type": "execute_result",
          "data": {
            "text/plain": [
              "['Articuno', 'Moltres', 'Zapdos']"
            ]
          },
          "metadata": {
            "tags": []
          },
          "execution_count": 58
        }
      ]
    },
    {
      "cell_type": "markdown",
      "metadata": {
        "id": "GMtizd2mozzF",
        "colab_type": "text"
      },
      "source": [
        "Sorted() and sort() can rearrange the items of a list only when they are of the same type, numbers being the only exception. When sorting numbers, Python automatically converts floats and integers to the same type, so they can be sorted together. "
      ]
    },
    {
      "cell_type": "code",
      "metadata": {
        "id": "T1B9UxFjo2VF",
        "colab_type": "code",
        "outputId": "ad60c58d-5caf-4eab-9cbb-a04241500985",
        "colab": {
          "base_uri": "https://localhost:8080/",
          "height": 34
        }
      },
      "source": [
        "numbers=[2, 1, 4.0, 3]\n",
        "numbers.sort()\n",
        "numbers"
      ],
      "execution_count": 0,
      "outputs": [
        {
          "output_type": "execute_result",
          "data": {
            "text/plain": [
              "[1, 2, 3, 4.0]"
            ]
          },
          "metadata": {
            "tags": []
          },
          "execution_count": 60
        }
      ]
    },
    {
      "cell_type": "code",
      "metadata": {
        "id": "J4W5FeXxo8Tn",
        "colab_type": "code",
        "outputId": "9b389665-6905-4523-dc23-8cf0825f1434",
        "colab": {
          "base_uri": "https://localhost:8080/",
          "height": 34
        }
      },
      "source": [
        "numbers=[2, 1, 4.0, 3]\n",
        "numbers.sort(reverse=True)\n",
        "numbers"
      ],
      "execution_count": 0,
      "outputs": [
        {
          "output_type": "execute_result",
          "data": {
            "text/plain": [
              "[4.0, 3, 2, 1]"
            ]
          },
          "metadata": {
            "tags": []
          },
          "execution_count": 61
        }
      ]
    },
    {
      "cell_type": "markdown",
      "metadata": {
        "id": "lSiBdOWSpAkt",
        "colab_type": "text"
      },
      "source": [
        "Another important function in Python is copy(), which allows to copy the values of a list to a new one. "
      ]
    },
    {
      "cell_type": "code",
      "metadata": {
        "id": "0wXxa5H3pBBZ",
        "colab_type": "code",
        "outputId": "ceac0328-59b8-4698-c548-bc383f14f631",
        "colab": {
          "base_uri": "https://localhost:8080/",
          "height": 34
        }
      },
      "source": [
        "pokemon=['Articuno', 'Zapdos', 'Moltres']\n",
        "legendary=pokemon.copy()\n",
        "legendary"
      ],
      "execution_count": 0,
      "outputs": [
        {
          "output_type": "execute_result",
          "data": {
            "text/plain": [
              "['Articuno', 'Zapdos', 'Moltres']"
            ]
          },
          "metadata": {
            "tags": []
          },
          "execution_count": 62
        }
      ]
    },
    {
      "cell_type": "markdown",
      "metadata": {
        "id": "WS5Vk9e5pLy7",
        "colab_type": "text"
      },
      "source": [
        "While this function may seem intuitive and extremely simple, actually it is very powerful."
      ]
    },
    {
      "cell_type": "code",
      "metadata": {
        "id": "XC_ELw4KpQFH",
        "colab_type": "code",
        "outputId": "b6a604cc-99ef-4e5d-916f-a568ef7bc4f4",
        "colab": {
          "base_uri": "https://localhost:8080/",
          "height": 34
        }
      },
      "source": [
        "pokemon=['Articuno', 'Zapdos', 'Moltres']\n",
        "legendary=pokemon.copy()\n",
        "copy = pokemon\n",
        "pokemon.sort()\n",
        "pokemon"
      ],
      "execution_count": 0,
      "outputs": [
        {
          "output_type": "execute_result",
          "data": {
            "text/plain": [
              "['Articuno', 'Moltres', 'Zapdos']"
            ]
          },
          "metadata": {
            "tags": []
          },
          "execution_count": 63
        }
      ]
    },
    {
      "cell_type": "code",
      "metadata": {
        "id": "rP3B7KMBpUkM",
        "colab_type": "code",
        "outputId": "33a91326-347c-406f-af92-fe2fe09b5c8e",
        "colab": {
          "base_uri": "https://localhost:8080/",
          "height": 34
        }
      },
      "source": [
        "copy"
      ],
      "execution_count": 0,
      "outputs": [
        {
          "output_type": "execute_result",
          "data": {
            "text/plain": [
              "['Articuno', 'Moltres', 'Zapdos']"
            ]
          },
          "metadata": {
            "tags": []
          },
          "execution_count": 64
        }
      ]
    },
    {
      "cell_type": "code",
      "metadata": {
        "id": "Qh8vXBTjpV6M",
        "colab_type": "code",
        "outputId": "52255fdb-f9fb-4220-8b2b-a69ec2f0ec54",
        "colab": {
          "base_uri": "https://localhost:8080/",
          "height": 34
        }
      },
      "source": [
        "legendary"
      ],
      "execution_count": 0,
      "outputs": [
        {
          "output_type": "execute_result",
          "data": {
            "text/plain": [
              "['Articuno', 'Zapdos', 'Moltres']"
            ]
          },
          "metadata": {
            "tags": []
          },
          "execution_count": 65
        }
      ]
    },
    {
      "cell_type": "markdown",
      "metadata": {
        "id": "aLougw8HpZH9",
        "colab_type": "text"
      },
      "source": [
        "If we instead sort copy..."
      ]
    },
    {
      "cell_type": "code",
      "metadata": {
        "id": "-7Xn6qVypj3X",
        "colab_type": "code",
        "outputId": "c54ce412-3d4c-4b27-ac29-4524191669c4",
        "colab": {
          "base_uri": "https://localhost:8080/",
          "height": 34
        }
      },
      "source": [
        "pokemon=['Articuno', 'Zapdos', 'Moltres']\n",
        "legendary=pokemon.copy()\n",
        "copy = pokemon\n",
        "copy.sort()\n",
        "copy"
      ],
      "execution_count": 0,
      "outputs": [
        {
          "output_type": "execute_result",
          "data": {
            "text/plain": [
              "['Articuno', 'Moltres', 'Zapdos']"
            ]
          },
          "metadata": {
            "tags": []
          },
          "execution_count": 66
        }
      ]
    },
    {
      "cell_type": "code",
      "metadata": {
        "id": "nNxiV7u0poQv",
        "colab_type": "code",
        "outputId": "cdc836a6-5831-4aef-9240-a83bb58655ba",
        "colab": {
          "base_uri": "https://localhost:8080/",
          "height": 34
        }
      },
      "source": [
        "pokemon"
      ],
      "execution_count": 0,
      "outputs": [
        {
          "output_type": "execute_result",
          "data": {
            "text/plain": [
              "['Articuno', 'Moltres', 'Zapdos']"
            ]
          },
          "metadata": {
            "tags": []
          },
          "execution_count": 67
        }
      ]
    },
    {
      "cell_type": "code",
      "metadata": {
        "id": "lA8USiARpqyA",
        "colab_type": "code",
        "outputId": "27984229-d59b-4864-df2d-d5c513e0fb5a",
        "colab": {
          "base_uri": "https://localhost:8080/",
          "height": 34
        }
      },
      "source": [
        "legendary"
      ],
      "execution_count": 0,
      "outputs": [
        {
          "output_type": "execute_result",
          "data": {
            "text/plain": [
              "['Articuno', 'Zapdos', 'Moltres']"
            ]
          },
          "metadata": {
            "tags": []
          },
          "execution_count": 68
        }
      ]
    },
    {
      "cell_type": "markdown",
      "metadata": {
        "id": "s-I1aw6_puRL",
        "colab_type": "text"
      },
      "source": [
        "Both the ‘copy’ and ‘pokemon’ lists were sorted, while the ‘legendary’ one did not.\n",
        "\n",
        "This happens because the copy() function creates a brand new list containing the same values of the original one. \n",
        "\n",
        "Instead, the = symbol assigns to the variable ‘copy’ the same list of ‘pokemon’, when the list is modified, this change is reflected on both variables."
      ]
    },
    {
      "cell_type": "markdown",
      "metadata": {
        "id": "JDHU-976qL3x",
        "colab_type": "text"
      },
      "source": [
        "# Tuples\n",
        "\n",
        "Tuples are sequences of arbitrary items, but unlike lists, they are immutable. This means that you can’t add, delete, or change items after the tuple is defined. \n",
        "\n",
        "A touple is made by typing items separated by commas, with or without parentheses. "
      ]
    },
    {
      "cell_type": "code",
      "metadata": {
        "id": "2pJpLbj7qWmM",
        "colab_type": "code",
        "outputId": "097dba41-6971-4e06-b265-6f2de1191ce7",
        "colab": {
          "base_uri": "https://localhost:8080/",
          "height": 34
        }
      },
      "source": [
        "pokemon=('Articuno', 'Zapdos', 'Moltres')\n",
        "pokemon"
      ],
      "execution_count": 0,
      "outputs": [
        {
          "output_type": "execute_result",
          "data": {
            "text/plain": [
              "('Articuno', 'Zapdos', 'Moltres')"
            ]
          },
          "metadata": {
            "tags": []
          },
          "execution_count": 69
        }
      ]
    },
    {
      "cell_type": "code",
      "metadata": {
        "id": "prwx7PJYqc2J",
        "colab_type": "code",
        "outputId": "bd5c0c7d-b453-4489-a017-eab1affa467a",
        "colab": {
          "base_uri": "https://localhost:8080/",
          "height": 34
        }
      },
      "source": [
        "pokemon='Articuno', 'Zapdos', 'Moltres'\n",
        "pokemon"
      ],
      "execution_count": 0,
      "outputs": [
        {
          "output_type": "execute_result",
          "data": {
            "text/plain": [
              "('Articuno', 'Zapdos', 'Moltres')"
            ]
          },
          "metadata": {
            "tags": []
          },
          "execution_count": 72
        }
      ]
    },
    {
      "cell_type": "markdown",
      "metadata": {
        "id": "WlVFpYrVqjZ9",
        "colab_type": "text"
      },
      "source": [
        "An empty tuple is created by using (). "
      ]
    },
    {
      "cell_type": "code",
      "metadata": {
        "id": "l7zntGnoqjlP",
        "colab_type": "code",
        "outputId": "fbdf9e5d-b20e-414b-c6b8-2756b7104e1b",
        "colab": {
          "base_uri": "https://localhost:8080/",
          "height": 34
        }
      },
      "source": [
        "empty_tuple=()\n",
        "empty_tuple"
      ],
      "execution_count": 0,
      "outputs": [
        {
          "output_type": "execute_result",
          "data": {
            "text/plain": [
              "()"
            ]
          },
          "metadata": {
            "tags": []
          },
          "execution_count": 73
        }
      ]
    },
    {
      "cell_type": "markdown",
      "metadata": {
        "id": "bkGZCh_uquMv",
        "colab_type": "text"
      },
      "source": [
        "Tuples let you assign multiple variable at once. This practice is called tuple unpacking."
      ]
    },
    {
      "cell_type": "code",
      "metadata": {
        "id": "DLDwjG4gqvAz",
        "colab_type": "code",
        "outputId": "1d95367c-19bd-40b7-88d0-708b3e196256",
        "colab": {
          "base_uri": "https://localhost:8080/",
          "height": 34
        }
      },
      "source": [
        "pokemon='Articuno', 'Zapdos', 'Moltres'\n",
        "a,b,c=pokemon\n",
        "a"
      ],
      "execution_count": 0,
      "outputs": [
        {
          "output_type": "execute_result",
          "data": {
            "text/plain": [
              "'Articuno'"
            ]
          },
          "metadata": {
            "tags": []
          },
          "execution_count": 74
        }
      ]
    },
    {
      "cell_type": "markdown",
      "metadata": {
        "id": "n5T93FLHqzFm",
        "colab_type": "text"
      },
      "source": [
        "It is possible to convert another data type in a tuple by using the tuple() function "
      ]
    },
    {
      "cell_type": "code",
      "metadata": {
        "id": "3njxhl9EqzQh",
        "colab_type": "code",
        "outputId": "a84d5878-0ce3-4671-be12-53ae55d7be20",
        "colab": {
          "base_uri": "https://localhost:8080/",
          "height": 34
        }
      },
      "source": [
        "pokemon=['Articuno', 'Zapdos', 'Moltres']\n",
        "tuple(pokemon)"
      ],
      "execution_count": 0,
      "outputs": [
        {
          "output_type": "execute_result",
          "data": {
            "text/plain": [
              "('Articuno', 'Zapdos', 'Moltres')"
            ]
          },
          "metadata": {
            "tags": []
          },
          "execution_count": 75
        }
      ]
    },
    {
      "cell_type": "markdown",
      "metadata": {
        "id": "DqbPGQ_brNUS",
        "colab_type": "text"
      },
      "source": [
        "# Dictionaries\n",
        "\n",
        "A dictionary is similar to a list, but the order of items doesn’t matter, and they aren’t selected by an offset such as 0 or 1. \n",
        "\n",
        "Instead, you specify a unique key to associate with each value. \n",
        "\n",
        "This key is often a string, but it can actually be any of Python’s immutable types: boolean, integer, float, tuple or string. \n",
        "\n",
        "Dictionaries are mutable, so you can add, delete, and change their key-value elements. \n",
        "\n",
        "To create a dictionary, you place curly brackets ({}) around comma-separated key : value pairs. The simplest dictionary is an empty one, containing no keys or values at all"
      ]
    },
    {
      "cell_type": "code",
      "metadata": {
        "id": "9SrNqjwXrXap",
        "colab_type": "code",
        "outputId": "f4d85b40-584b-457d-8650-742cb590334b",
        "colab": {
          "base_uri": "https://localhost:8080/",
          "height": 34
        }
      },
      "source": [
        "empty_dict={}\n",
        "empty_dict"
      ],
      "execution_count": 0,
      "outputs": [
        {
          "output_type": "execute_result",
          "data": {
            "text/plain": [
              "{}"
            ]
          },
          "metadata": {
            "tags": []
          },
          "execution_count": 76
        }
      ]
    },
    {
      "cell_type": "markdown",
      "metadata": {
        "id": "EEuFGaBcrmn9",
        "colab_type": "text"
      },
      "source": [
        "This instead is an example of a small dictionary of starter pokemons: "
      ]
    },
    {
      "cell_type": "code",
      "metadata": {
        "id": "wJDEdorwrm7M",
        "colab_type": "code",
        "outputId": "7afb6b06-7eef-451d-d1a6-e16436bf4cf0",
        "colab": {
          "base_uri": "https://localhost:8080/",
          "height": 70
        }
      },
      "source": [
        "starters={\n",
        "    'bulbasaur':'Bulbasaur resembles a small, squatting dinosaur that walks on four legs.',\n",
        "    'charmander':'Charmanderis a small, bipedal, dinosaur-like Pokémon',\n",
        "    'squirtle':'Squirtleis a small, light-blue Pokémon with an appearance similar to a turtle',\n",
        "    }\n",
        "starters"
      ],
      "execution_count": 0,
      "outputs": [
        {
          "output_type": "execute_result",
          "data": {
            "text/plain": [
              "{'bulbasaur': 'Bulbasaur resembles a small, squatting dinosaur that walks on four legs.',\n",
              " 'charmander': 'Charmanderis a small, bipedal, dinosaur-like Pokémon',\n",
              " 'squirtle': 'Squirtleis a small, light-blue Pokémon with an appearance similar to a turtle'}"
            ]
          },
          "metadata": {
            "tags": []
          },
          "execution_count": 78
        }
      ]
    },
    {
      "cell_type": "markdown",
      "metadata": {
        "id": "qEK8cs-Gr53f",
        "colab_type": "text"
      },
      "source": [
        "Another way of creating a dictionary is by converting sequences composed of two values via the dict() function. The first value of each sequence is used as key, while the second is used as value. "
      ]
    },
    {
      "cell_type": "code",
      "metadata": {
        "id": "GdhaeDqYr6ER",
        "colab_type": "code",
        "outputId": "7a72842e-fc05-4185-9555-90366c6ac336",
        "colab": {
          "base_uri": "https://localhost:8080/",
          "height": 34
        }
      },
      "source": [
        " lol=[ ['a', 'b'], ['c', 'd'], ['e', 'f'] ]\n",
        " dict(lol)"
      ],
      "execution_count": 0,
      "outputs": [
        {
          "output_type": "execute_result",
          "data": {
            "text/plain": [
              "{'a': 'b', 'c': 'd', 'e': 'f'}"
            ]
          },
          "metadata": {
            "tags": []
          },
          "execution_count": 79
        }
      ]
    },
    {
      "cell_type": "code",
      "metadata": {
        "id": "-0lDS9JvsCkZ",
        "colab_type": "code",
        "outputId": "6a4d687d-e4b3-4866-d7b9-73d3a406d2d6",
        "colab": {
          "base_uri": "https://localhost:8080/",
          "height": 34
        }
      },
      "source": [
        " los=[ 'ab', 'cd', 'ef']\n",
        " dict(los)"
      ],
      "execution_count": 0,
      "outputs": [
        {
          "output_type": "execute_result",
          "data": {
            "text/plain": [
              "{'a': 'b', 'c': 'd', 'e': 'f'}"
            ]
          },
          "metadata": {
            "tags": []
          },
          "execution_count": 80
        }
      ]
    },
    {
      "cell_type": "code",
      "metadata": {
        "id": "dXHB5kyks2og",
        "colab_type": "code",
        "outputId": "212177ad-f4d9-4b17-c191-ed7b7f2b2e05",
        "colab": {
          "base_uri": "https://localhost:8080/",
          "height": 34
        }
      },
      "source": [
        "lot=[ ('a', 'b'), ('c', 'd'), ('e', 'f') ]\n",
        "dict(lot)"
      ],
      "execution_count": 0,
      "outputs": [
        {
          "output_type": "execute_result",
          "data": {
            "text/plain": [
              "{'a': 'b', 'c': 'd', 'e': 'f'}"
            ]
          },
          "metadata": {
            "tags": []
          },
          "execution_count": 81
        }
      ]
    },
    {
      "cell_type": "code",
      "metadata": {
        "id": "XhKHehBus-nM",
        "colab_type": "code",
        "outputId": "3a743a91-e78b-4076-fe3b-760539e4df13",
        "colab": {
          "base_uri": "https://localhost:8080/",
          "height": 34
        }
      },
      "source": [
        "tos=( 'ab', 'cd', 'ef')\n",
        "dict(tos)"
      ],
      "execution_count": 0,
      "outputs": [
        {
          "output_type": "execute_result",
          "data": {
            "text/plain": [
              "{'a': 'b', 'c': 'd', 'e': 'f'}"
            ]
          },
          "metadata": {
            "tags": []
          },
          "execution_count": 83
        }
      ]
    },
    {
      "cell_type": "markdown",
      "metadata": {
        "id": "7x6hqXtutIvk",
        "colab_type": "text"
      },
      "source": [
        "Adding or modifying dictionaries is pretty simple. Since there are no offsets, we work with keys. If a new key is defined, its corresponding value is added to the dictionary. If the key already exists, its value is updated, since key must be unique."
      ]
    },
    {
      "cell_type": "code",
      "metadata": {
        "id": "cZSjSVq_tJLt",
        "colab_type": "code",
        "outputId": "36db5a62-c147-4849-ef5a-fd0fa43b4b7c",
        "colab": {
          "base_uri": "https://localhost:8080/",
          "height": 52
        }
      },
      "source": [
        "starters = { \n",
        "    'bulbasaur':'grass-poison 1st generation',\n",
        "    'charmander':'water 1st generation',\n",
        "}\n",
        "starters"
      ],
      "execution_count": 0,
      "outputs": [
        {
          "output_type": "execute_result",
          "data": {
            "text/plain": [
              "{'bulbasaur': 'grass-poison 1st generation',\n",
              " 'charmander': 'water 1st generation'}"
            ]
          },
          "metadata": {
            "tags": []
          },
          "execution_count": 84
        }
      ]
    },
    {
      "cell_type": "markdown",
      "metadata": {
        "id": "lp2OyJ-GtSYN",
        "colab_type": "text"
      },
      "source": [
        "We are missing squirtleand charmanderis listed as a water pokemon, instead of fire. To add squirtleand correct the value of charmanderwe can do as follows: "
      ]
    },
    {
      "cell_type": "code",
      "metadata": {
        "id": "3jmmjph9tSpX",
        "colab_type": "code",
        "outputId": "fb7e8b70-c12f-417b-eb5c-a655a181a841",
        "colab": {
          "base_uri": "https://localhost:8080/",
          "height": 70
        }
      },
      "source": [
        "starters['squirtle']='water 1st generation'\n",
        "starters"
      ],
      "execution_count": 0,
      "outputs": [
        {
          "output_type": "execute_result",
          "data": {
            "text/plain": [
              "{'bulbasaur': 'grass-poison 1st generation',\n",
              " 'charmander': 'water 1st generation',\n",
              " 'squirtle': 'water 1st generation'}"
            ]
          },
          "metadata": {
            "tags": []
          },
          "execution_count": 86
        }
      ]
    },
    {
      "cell_type": "code",
      "metadata": {
        "id": "2HBNbQG9tYzy",
        "colab_type": "code",
        "outputId": "634b9e30-4121-4854-87cf-0460745f7f1b",
        "colab": {
          "base_uri": "https://localhost:8080/",
          "height": 70
        }
      },
      "source": [
        "starters['charmander']='fire 1st generation'\n",
        "starters"
      ],
      "execution_count": 0,
      "outputs": [
        {
          "output_type": "execute_result",
          "data": {
            "text/plain": [
              "{'bulbasaur': 'grass-poison 1st generation',\n",
              " 'charmander': 'fire 1st generation',\n",
              " 'squirtle': 'water 1st generation'}"
            ]
          },
          "metadata": {
            "tags": []
          },
          "execution_count": 87
        }
      ]
    },
    {
      "cell_type": "markdown",
      "metadata": {
        "id": "247lFN1KthnX",
        "colab_type": "text"
      },
      "source": [
        "The update() function allows to copy the keys and values of a dictionary into another. "
      ]
    },
    {
      "cell_type": "code",
      "metadata": {
        "id": "NOrw-fLutiNc",
        "colab_type": "code",
        "outputId": "42ab5972-0b25-4be6-c60a-3fe555ee9a48",
        "colab": {
          "base_uri": "https://localhost:8080/",
          "height": 70
        }
      },
      "source": [
        "starters1 = {\n",
        "    'bulbasaur': 'grass-poison 1st generation',\n",
        "    'charmander': 'fire 1st generation',\n",
        "    'squirtle': 'water 1st generation',\n",
        "}\n",
        "starters1"
      ],
      "execution_count": 0,
      "outputs": [
        {
          "output_type": "execute_result",
          "data": {
            "text/plain": [
              "{'bulbasaur': 'grass-poison 1st generation',\n",
              " 'charmander': 'fire 1st generation',\n",
              " 'squirtle': 'water 1st generation'}"
            ]
          },
          "metadata": {
            "tags": []
          },
          "execution_count": 91
        }
      ]
    },
    {
      "cell_type": "code",
      "metadata": {
        "id": "rcVlzOiSuLml",
        "colab_type": "code",
        "outputId": "aaac3646-5bfb-46c9-a803-00a748759f6b",
        "colab": {
          "base_uri": "https://localhost:8080/",
          "height": 70
        }
      },
      "source": [
        "starters2 = {\n",
        "    'chikorita': 'grass-poison 2st generation',\n",
        "    'cyndaquil': 'fire 2st generation',\n",
        "    'totodile': 'water 2st generation',\n",
        "}\n",
        "starters2"
      ],
      "execution_count": 0,
      "outputs": [
        {
          "output_type": "execute_result",
          "data": {
            "text/plain": [
              "{'chikorita': 'grass-poison 2st generation',\n",
              " 'cyndaquil': 'fire 2st generation',\n",
              " 'totodile': 'water 2st generation'}"
            ]
          },
          "metadata": {
            "tags": []
          },
          "execution_count": 92
        }
      ]
    },
    {
      "cell_type": "code",
      "metadata": {
        "id": "F7EQlMzFuNvO",
        "colab_type": "code",
        "outputId": "c4dddc7b-03bc-4108-9ffc-2cd45e69c998",
        "colab": {
          "base_uri": "https://localhost:8080/",
          "height": 123
        }
      },
      "source": [
        "starters1.update(starters2)\n",
        "starters1"
      ],
      "execution_count": 0,
      "outputs": [
        {
          "output_type": "execute_result",
          "data": {
            "text/plain": [
              "{'bulbasaur': 'grass-poison 1st generation',\n",
              " 'charmander': 'fire 1st generation',\n",
              " 'chikorita': 'grass-poison 2st generation',\n",
              " 'cyndaquil': 'fire 2st generation',\n",
              " 'squirtle': 'water 1st generation',\n",
              " 'totodile': 'water 2st generation'}"
            ]
          },
          "metadata": {
            "tags": []
          },
          "execution_count": 94
        }
      ]
    },
    {
      "cell_type": "markdown",
      "metadata": {
        "id": "oogCr8SkueXs",
        "colab_type": "text"
      },
      "source": [
        "If the two dictionaries have the same key, the value of the second dictionary overwrites the value of the first one.\n"
      ]
    },
    {
      "cell_type": "markdown",
      "metadata": {
        "id": "po5U91muug64",
        "colab_type": "text"
      },
      "source": [
        "Python has several ways of returning the values of a dictionary, depending on the case. The most common one consist in specifying the key of an item to get its value. "
      ]
    },
    {
      "cell_type": "code",
      "metadata": {
        "id": "NmPiM-bXuhxU",
        "colab_type": "code",
        "outputId": "14c33f10-6ec4-4286-ae3c-4eaefa6c7b12",
        "colab": {
          "base_uri": "https://localhost:8080/",
          "height": 34
        }
      },
      "source": [
        "starters = {\n",
        "    'bulbasaur': 'grass-poison 1st generation',\n",
        "    'charmander': 'fire 1st generation',\n",
        "    'squirtle': 'water 1st generation',\n",
        "}\n",
        "starters['squirtle']"
      ],
      "execution_count": 0,
      "outputs": [
        {
          "output_type": "execute_result",
          "data": {
            "text/plain": [
              "'water 1st generation'"
            ]
          },
          "metadata": {
            "tags": []
          },
          "execution_count": 96
        }
      ]
    },
    {
      "cell_type": "markdown",
      "metadata": {
        "id": "qsIUUBo0upV4",
        "colab_type": "text"
      },
      "source": [
        "If the key is not present in the dictionary, an exception is returned. "
      ]
    },
    {
      "cell_type": "code",
      "metadata": {
        "id": "co8CGC4Wups3",
        "colab_type": "code",
        "outputId": "a344c12c-882f-48a6-dc4b-81a6f7352c0a",
        "colab": {
          "base_uri": "https://localhost:8080/",
          "height": 167
        }
      },
      "source": [
        "starters['totodile']"
      ],
      "execution_count": 0,
      "outputs": [
        {
          "output_type": "error",
          "ename": "KeyError",
          "evalue": "ignored",
          "traceback": [
            "\u001b[0;31m---------------------------------------------------------------------------\u001b[0m",
            "\u001b[0;31mKeyError\u001b[0m                                  Traceback (most recent call last)",
            "\u001b[0;32m<ipython-input-97-4e54ee1923f4>\u001b[0m in \u001b[0;36m<module>\u001b[0;34m()\u001b[0m\n\u001b[0;32m----> 1\u001b[0;31m \u001b[0mstarters\u001b[0m\u001b[0;34m[\u001b[0m\u001b[0;34m'totodile'\u001b[0m\u001b[0;34m]\u001b[0m\u001b[0;34m\u001b[0m\u001b[0;34m\u001b[0m\u001b[0m\n\u001b[0m",
            "\u001b[0;31mKeyError\u001b[0m: 'totodile'"
          ]
        }
      ]
    },
    {
      "cell_type": "markdown",
      "metadata": {
        "id": "EZX2SYSMuvyP",
        "colab_type": "text"
      },
      "source": [
        "To avoid this kind is situation, it is possible to test the dictionary for a certain key, similar to what we already did withstrings. "
      ]
    },
    {
      "cell_type": "code",
      "metadata": {
        "id": "p4svrOjTuwNN",
        "colab_type": "code",
        "outputId": "80d10bc0-3126-4e1b-e9f8-c73efbb12b6c",
        "colab": {
          "base_uri": "https://localhost:8080/",
          "height": 34
        }
      },
      "source": [
        "'squirtle' in starters"
      ],
      "execution_count": 0,
      "outputs": [
        {
          "output_type": "execute_result",
          "data": {
            "text/plain": [
              "True"
            ]
          },
          "metadata": {
            "tags": []
          },
          "execution_count": 98
        }
      ]
    },
    {
      "cell_type": "code",
      "metadata": {
        "id": "Ra1FsE8quzLz",
        "colab_type": "code",
        "outputId": "f8196e17-401c-46a4-c1f9-ce562f44145b",
        "colab": {
          "base_uri": "https://localhost:8080/",
          "height": 34
        }
      },
      "source": [
        "'totodile' in starters"
      ],
      "execution_count": 0,
      "outputs": [
        {
          "output_type": "execute_result",
          "data": {
            "text/plain": [
              "False"
            ]
          },
          "metadata": {
            "tags": []
          },
          "execution_count": 99
        }
      ]
    },
    {
      "cell_type": "markdown",
      "metadata": {
        "id": "l-s1T8RNu-mC",
        "colab_type": "text"
      },
      "source": [
        "Another way of returning a value of a dictionary is to use the special dictionary get() function. \n",
        "\n",
        "The get() function returns the value of a key, if present, or none. "
      ]
    },
    {
      "cell_type": "code",
      "metadata": {
        "id": "pWhtC9LSu_Bv",
        "colab_type": "code",
        "colab": {}
      },
      "source": [
        "starters.get('totodile')"
      ],
      "execution_count": 0,
      "outputs": []
    },
    {
      "cell_type": "code",
      "metadata": {
        "id": "XMKcDlI2vRUU",
        "colab_type": "code",
        "outputId": "91e28b4a-e782-4223-b83f-881aaf209f5e",
        "colab": {
          "base_uri": "https://localhost:8080/",
          "height": 34
        }
      },
      "source": [
        "starters.get('squirtle')"
      ],
      "execution_count": 0,
      "outputs": [
        {
          "output_type": "execute_result",
          "data": {
            "text/plain": [
              "'water 1st generation'"
            ]
          },
          "metadata": {
            "tags": []
          },
          "execution_count": 102
        }
      ]
    },
    {
      "cell_type": "markdown",
      "metadata": {
        "id": "oiZymozGvbtF",
        "colab_type": "text"
      },
      "source": [
        "The get() function also accepts a second value, that is returned if a key is not present inside the dictionary "
      ]
    },
    {
      "cell_type": "code",
      "metadata": {
        "id": "xfl3uXEivdgB",
        "colab_type": "code",
        "outputId": "7c928f0a-e1fc-4f46-d4dc-8deeb1c4f00b",
        "colab": {
          "base_uri": "https://localhost:8080/",
          "height": 34
        }
      },
      "source": [
        "starters.get('totodile', 'Nothing found') "
      ],
      "execution_count": 0,
      "outputs": [
        {
          "output_type": "execute_result",
          "data": {
            "text/plain": [
              "'Nothing found'"
            ]
          },
          "metadata": {
            "tags": []
          },
          "execution_count": 104
        }
      ]
    },
    {
      "cell_type": "markdown",
      "metadata": {
        "id": "0MwhwiyyyIXG",
        "colab_type": "text"
      },
      "source": [
        "Instead of using the value of a single key, we can also get all the keys present inside a dictionary by using the keys() function. "
      ]
    },
    {
      "cell_type": "code",
      "metadata": {
        "id": "1dkPsGpeyJ9J",
        "colab_type": "code",
        "outputId": "9a1c9d31-c073-4d35-ab59-1a2c1497a753",
        "colab": {
          "base_uri": "https://localhost:8080/",
          "height": 34
        }
      },
      "source": [
        "starters.keys() "
      ],
      "execution_count": 0,
      "outputs": [
        {
          "output_type": "execute_result",
          "data": {
            "text/plain": [
              "dict_keys(['bulbasaur', 'charmander', 'squirtle'])"
            ]
          },
          "metadata": {
            "tags": []
          },
          "execution_count": 105
        }
      ]
    },
    {
      "cell_type": "markdown",
      "metadata": {
        "id": "R60WIXjjyMqn",
        "colab_type": "text"
      },
      "source": [
        "The dict_keys() function is a special function employed into Python 3. It creates an iterable views of the keys, as a tuple. Since it often is convenient to have it as a list, the dict_keys() view can be converted by using the list() function. "
      ]
    },
    {
      "cell_type": "code",
      "metadata": {
        "id": "B-g5yWFnyQWI",
        "colab_type": "code",
        "outputId": "83f8aa9e-afa4-4010-f8e1-6d2c97fb7a74",
        "colab": {
          "base_uri": "https://localhost:8080/",
          "height": 34
        }
      },
      "source": [
        " list(starters.keys() )"
      ],
      "execution_count": 0,
      "outputs": [
        {
          "output_type": "execute_result",
          "data": {
            "text/plain": [
              "['bulbasaur', 'charmander', 'squirtle']"
            ]
          },
          "metadata": {
            "tags": []
          },
          "execution_count": 106
        }
      ]
    },
    {
      "cell_type": "markdown",
      "metadata": {
        "id": "YQXSYvczySSy",
        "colab_type": "text"
      },
      "source": [
        "In the same way, it is also possible to get all the values in a dictionary via the values() function."
      ]
    },
    {
      "cell_type": "code",
      "metadata": {
        "id": "pKxeEdBiyTNz",
        "colab_type": "code",
        "outputId": "d0952501-ad9d-4ba1-9276-3ad4fdfef905",
        "colab": {
          "base_uri": "https://localhost:8080/",
          "height": 34
        }
      },
      "source": [
        " list( starters.values() ) "
      ],
      "execution_count": 0,
      "outputs": [
        {
          "output_type": "execute_result",
          "data": {
            "text/plain": [
              "['grass-poison 1st generation', 'fire 1st generation', 'water 1st generation']"
            ]
          },
          "metadata": {
            "tags": []
          },
          "execution_count": 107
        }
      ]
    },
    {
      "cell_type": "markdown",
      "metadata": {
        "id": "Fh4m31wByVxF",
        "colab_type": "text"
      },
      "source": [
        "Lastly, it is also possible to get all the key-value pairs by using the items() function. "
      ]
    },
    {
      "cell_type": "code",
      "metadata": {
        "id": "9JZxWQWDyV_K",
        "colab_type": "code",
        "outputId": "75f5558d-e50e-455f-b14a-ec3512209e0d",
        "colab": {
          "base_uri": "https://localhost:8080/",
          "height": 70
        }
      },
      "source": [
        "list( starters.items() )"
      ],
      "execution_count": 0,
      "outputs": [
        {
          "output_type": "execute_result",
          "data": {
            "text/plain": [
              "[('bulbasaur', 'grass-poison 1st generation'),\n",
              " ('charmander', 'fire 1st generation'),\n",
              " ('squirtle', 'water 1st generation')]"
            ]
          },
          "metadata": {
            "tags": []
          },
          "execution_count": 108
        }
      ]
    },
    {
      "cell_type": "markdown",
      "metadata": {
        "id": "lB4YDM2FytEd",
        "colab_type": "text"
      },
      "source": [
        "Dictionary manipulation obviously also includes the ability of removing the key-value pairs. \n",
        "\n",
        "This is done by using the ‘del’ function, which requires to specify the key of the pair we want to remove. "
      ]
    },
    {
      "cell_type": "code",
      "metadata": {
        "id": "FgYVbJrbyw1v",
        "colab_type": "code",
        "outputId": "fc0c5866-2549-4888-a7a7-f3388244dc72",
        "colab": {
          "base_uri": "https://localhost:8080/",
          "height": 52
        }
      },
      "source": [
        "starters = {\n",
        "    'bulbasaur': 'grass-poison 1st generation',\n",
        "    'charmander': 'fire 1st generation',\n",
        "    'squirtle': 'water 1st generation',\n",
        "}\n",
        "del starters['squirtle']\n",
        "starters"
      ],
      "execution_count": 0,
      "outputs": [
        {
          "output_type": "execute_result",
          "data": {
            "text/plain": [
              "{'bulbasaur': 'grass-poison 1st generation',\n",
              " 'charmander': 'fire 1st generation'}"
            ]
          },
          "metadata": {
            "tags": []
          },
          "execution_count": 109
        }
      ]
    },
    {
      "cell_type": "markdown",
      "metadata": {
        "id": "bJZPiFdgy1gV",
        "colab_type": "text"
      },
      "source": [
        "If we try to delete a key that is not present inside the dictionary, an exception is returned.\n",
        "\n",
        "If we want to delete all items, the clear() function is exactly what we need. "
      ]
    },
    {
      "cell_type": "code",
      "metadata": {
        "id": "yO6W4aWzy3yE",
        "colab_type": "code",
        "outputId": "ee2bab36-82a7-4a58-9b0b-094f3f25e02f",
        "colab": {
          "base_uri": "https://localhost:8080/",
          "height": 34
        }
      },
      "source": [
        "starters.clear()\n",
        "starters"
      ],
      "execution_count": 0,
      "outputs": [
        {
          "output_type": "execute_result",
          "data": {
            "text/plain": [
              "{}"
            ]
          },
          "metadata": {
            "tags": []
          },
          "execution_count": 110
        }
      ]
    }
  ]
}