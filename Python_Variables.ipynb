{
  "nbformat": 4,
  "nbformat_minor": 0,
  "metadata": {
    "colab": {
      "name": "Python - Variables",
      "version": "0.3.2",
      "provenance": [],
      "collapsed_sections": [
        "5Yf5njfcAdE9",
        "t7RwYXQPJbu_"
      ],
      "include_colab_link": true
    },
    "kernelspec": {
      "name": "python3",
      "display_name": "Python 3"
    }
  },
  "cells": [
    {
      "cell_type": "markdown",
      "metadata": {
        "id": "view-in-github",
        "colab_type": "text"
      },
      "source": [
        "<a href=\"https://colab.research.google.com/github/DarnosAeth/IntroductionToProgramming2019-2020/blob/master/Python_Variables.ipynb\" target=\"_parent\"><img src=\"https://colab.research.google.com/assets/colab-badge.svg\" alt=\"Open In Colab\"/></a>"
      ]
    },
    {
      "cell_type": "markdown",
      "metadata": {
        "id": "DeUzktDV1RTT",
        "colab_type": "text"
      },
      "source": [
        "# Introduction to Programming\n",
        "\n",
        "\n",
        "**What is a program?**\n",
        "\n",
        "A program is a sequence of instructions that specifies how to perform a computation.\n",
        "\n"
      ]
    },
    {
      "cell_type": "code",
      "metadata": {
        "id": "eH5PoO8o2xfw",
        "colab_type": "code",
        "colab": {}
      },
      "source": [
        "import webbrowser\n",
        "import json \n",
        "from urllib.request import urlopen\n",
        "print(\"Let's find an old website.\") \n",
        "site= input(\"Type a website URL: \") \n",
        "era= input(\"Type a year, month, and day, like 20150613: \") \n",
        "url= \"http://archive.org/wayback/available?url=%s&timestamp=%s\"%(site, era) \n",
        "response =urlopen(url) \n",
        "contents= response.read() \n",
        "text= contents.decode(\"utf-8\") \n",
        "data= json.loads(text) \n",
        "try: \n",
        "  old_site= data[\"archived_snapshots\"][\"closest\"][\"url\"] \n",
        "  print(\"Found this copy: \", old_site) \n",
        "  print(\"It should appear in your browser now.\") \n",
        "  webbrowser.open(old_site) \n",
        "except: print(\"Sorry, no luck finding\", site)"
      ],
      "execution_count": 0,
      "outputs": []
    },
    {
      "cell_type": "markdown",
      "metadata": {
        "id": "B6xrtPKj3Xq_",
        "colab_type": "text"
      },
      "source": [
        "**Basic instructions:**\n",
        "\n",
        "• Input: Get data from the keyboard, a file, the network, or some other device. \n",
        "\n",
        "• Output: Display data on the screen, save it in a file, send it over the network, etc.\n",
        "\n",
        "• Math: Perform basic mathematical operations like addition and multiplication. \n",
        "\n",
        "• Conditional execution: Check for certain conditions and run the appropriate code. \n",
        "\n",
        "• Repetition: Perform some action repeatedly, usually with some variation.\n"
      ]
    },
    {
      "cell_type": "markdown",
      "metadata": {
        "id": "yV-zCm5h4Rhh",
        "colab_type": "text"
      },
      "source": [
        "**What is a programming language?**\n",
        "\n",
        "• A fixed vocabulary of words, abbreviations, and symbols. Some might be familiar, others mystifying. \n",
        "\n",
        "• Rules about what can be said, and where—their syntax. \n",
        "\n",
        "• A sequence of operations to be performed in order. \n",
        "\n",
        "• Sometimes, a repetition of some operations (a loop), such as the method for frying each piece of lefse. \n",
        "\n",
        "• Sometimes, a reference to another sequence of operations (in computer terms, a function). In the recipe, you might need to referto another recipe for ricing potatoes. \n",
        "\n",
        "• Assumed knowledge about the context. The recipe assumes you know what water is and how to boil it. The knitting pattern assumes that you can knit and purl without stabbing yourself too often. \n",
        "\n",
        "• An expected result.\n"
      ]
    },
    {
      "cell_type": "code",
      "metadata": {
        "id": "U5Y2z-SZ40cg",
        "colab_type": "code",
        "outputId": "a5eeed99-47c7-4c30-a6f6-cc1fecfe5cef",
        "colab": {
          "base_uri": "https://localhost:8080/",
          "height": 34
        }
      },
      "source": [
        "language= 4 \n",
        "print(\"Language %s: I am Python. What's for supper?\" %language)"
      ],
      "execution_count": 0,
      "outputs": [
        {
          "output_type": "stream",
          "text": [
            "Language 4: I am Python. What's for supper?\n"
          ],
          "name": "stdout"
        }
      ]
    },
    {
      "cell_type": "markdown",
      "metadata": {
        "id": "74u0lqsk46H6",
        "colab_type": "text"
      },
      "source": [
        "#Programming languages\n",
        "\n",
        "• Several types of programming languages exist, each one having its own pros and cons \n",
        "\n",
        "• Programming languages can be static or dynamics: \n",
        "\n",
        "> • A static language requires the user to define several information for each variable (type, memory, etc.). \n",
        "\n",
        ">> • Once defined, the parameters of a variable cannot be changed by the machine itself. \n",
        "\n",
        ">> • E.g.: an integer variable like X=10 cannot accept a floating-point (decimal) value like 10.0. \n",
        "\n",
        "> • A dynamic language does not force the user to define the type of a variable before using it. \n",
        "\n",
        ">> • The machine can change the type of a variable without the intervention of the user, since it’s not clearly defined. \n",
        "\n",
        ">> • E.g.: a variable like X=10 will be interpreted like an integer, but we could also assign X=10.0 and the machine will automatically handle it as a float value. \n",
        "\n",
        "• Programming languages can be further distinguished in compilers and interpreters. \n",
        "\n",
        "> • A compiler requires to read the complete source program and translate it in and executable object code before it could be used. \n",
        "\n",
        "> • An interpreter can translate the source program in object code one line at a time and in an interactive fashion, without producing an executable file. \n",
        "\n",
        "> • The rule of thumb is that interpreters are faster in the analysis of the code, whereas compilers are slower, since they have to read the whole code before doing their job. \n",
        "\n",
        "> • However, programs written in compiled language are usually faster than the ones created with an interpreted language. \n",
        "\n",
        "• Lastly, programming languages can be divided into high-level (similar to human language) and low-level (similar to machine language).\n",
        "\n"
      ]
    },
    {
      "cell_type": "markdown",
      "metadata": {
        "id": "-giQp6z59P_C",
        "colab_type": "text"
      },
      "source": [
        "# Python\n",
        "\n",
        "• General purpose interpreted language \n",
        "\n",
        "> • It can be employed to solve several kinds of problem (e.g.: neural network, scripting, system testing, distributed application) \n",
        "\n",
        "> • It has a huge amount of libraries for every kind of application \n",
        "\n",
        "> • However, it is less suited for computationally-intensive (CPU-bound) jobs (e.g.: scientific computation) due to being an interpreted language \n",
        "\n",
        "• High-level language \n",
        "\n",
        "> • Syntax is simple and very readable \n",
        "\n",
        "> • Programs written in Python are easy to read, remember and revise, thus also being simpler to write \n",
        "\n",
        "• Dynamic language \n",
        "\n",
        "> • Since definition of variable types is not mandatory, the code is usually more compact and shorter than other languages \n",
        "\n",
        "> • Writing a program in python requires less time than C. \n",
        "\n",
        "• Extremely popular among programmers and companies \n",
        "\n",
        "> • A lot of material, snippets and tips and tricks are available both online and offline \n",
        "\n",
        "> • Python is often used as the reference language for evaluating programming skills \n",
        "\n",
        "• Free and open source \n",
        "\n",
        "• Constantly evolving"
      ]
    },
    {
      "cell_type": "markdown",
      "metadata": {
        "id": "N9ZddRJW-GmK",
        "colab_type": "text"
      },
      "source": [
        "# Variables\n",
        "\n",
        "A variable is a name that refer to values in the computer’s memory that you can define for use with your program\n",
        "\n",
        "In Python, a variable can be defined, i.e. a value can be assigned to a variable, by using the symbol = \n",
        "\n",
        "• E.g.: A = 7 means that the integer value 7 is assigned to the variable named A, therefore when A is printed, the value of 7 is returned "
      ]
    },
    {
      "cell_type": "code",
      "metadata": {
        "id": "8nNZtDWD-hVw",
        "colab_type": "code",
        "outputId": "7fc466d8-c403-4872-ed48-daf2fa8238b7",
        "colab": {
          "base_uri": "https://localhost:8080/",
          "height": 34
        }
      },
      "source": [
        "a = 7\n",
        "print(a)"
      ],
      "execution_count": 0,
      "outputs": [
        {
          "output_type": "stream",
          "text": [
            "7\n"
          ],
          "name": "stdout"
        }
      ]
    },
    {
      "cell_type": "markdown",
      "metadata": {
        "id": "atv-Dr6A-h-0",
        "colab_type": "text"
      },
      "source": [
        "• Variables are just names\n",
        "\n",
        "> • By assigning a value to a variable, we are giving a name (the variable a) to the data containing our value (the integer 7) \n",
        "\n",
        "> • Variables can be copied, reassigned or employed in several kind of operations, mathematical and non-mathematical"
      ]
    },
    {
      "cell_type": "markdown",
      "metadata": {
        "id": "VdMf6iQP_QTz",
        "colab_type": "text"
      },
      "source": [
        "Several kinds, or types, of variable exist. \n",
        "\n",
        "• Numbers \n",
        "\n",
        "> • Integers (e.g.: 7, +13, 1230, -24, 1e4) \n",
        "\n",
        "> • Floating-point numbers, or floats (e.g.: 10.3, +15.0, 1234.473. -36.1, -2e6) \n",
        "\n",
        "> • Base 2 (denoted by 0b or oB; e.g.: 0b10 = 2 or 0B10 = 2) \n",
        "\n",
        "> • Base 8 (denoted by 0o or 0O; e.g.: 0o10 = 8 or 0O10 = 8) \n",
        "\n",
        "> • Base 16 (denoted by 0x or 0X; e.g.: 0x10 = 16 or 0X16 = 16) \n",
        "\n",
        "• Strings (e.g.: ‘abc’, ‘Mark’, ‘Lugano’, ‘date’) \n",
        "\n",
        "• Lists (e.g.: [0,1,2]) • Tuples (e.g.: (0,1,2)) \n",
        "\n",
        "• Files (e.g.: x=open(‘hello.py’, ‘r’) "
      ]
    },
    {
      "cell_type": "markdown",
      "metadata": {
        "id": "IKkqknng_Sc6",
        "colab_type": "text"
      },
      "source": [
        "To find out the type of a variable, use the command type(variable). "
      ]
    },
    {
      "cell_type": "code",
      "metadata": {
        "id": "n9h-qO2M_WqC",
        "colab_type": "code",
        "outputId": "13f3e6d4-fbff-438e-9ab3-f8c151c18bcb",
        "colab": {
          "base_uri": "https://localhost:8080/",
          "height": 34
        }
      },
      "source": [
        "type(a)"
      ],
      "execution_count": 0,
      "outputs": [
        {
          "output_type": "execute_result",
          "data": {
            "text/plain": [
              "int"
            ]
          },
          "metadata": {
            "tags": []
          },
          "execution_count": 9
        }
      ]
    },
    {
      "cell_type": "code",
      "metadata": {
        "id": "tm_1fpBM_ghc",
        "colab_type": "code",
        "outputId": "69c279c1-6ccf-45d5-c1b5-a041ee35606f",
        "colab": {
          "base_uri": "https://localhost:8080/",
          "height": 34
        }
      },
      "source": [
        "type(32)"
      ],
      "execution_count": 0,
      "outputs": [
        {
          "output_type": "execute_result",
          "data": {
            "text/plain": [
              "int"
            ]
          },
          "metadata": {
            "tags": []
          },
          "execution_count": 10
        }
      ]
    },
    {
      "cell_type": "code",
      "metadata": {
        "id": "rLzXOvVY_nNa",
        "colab_type": "code",
        "outputId": "cca9894c-b94a-45d2-dfdf-f1b900a70c2b",
        "colab": {
          "base_uri": "https://localhost:8080/",
          "height": 34
        }
      },
      "source": [
        "type(56.0)"
      ],
      "execution_count": 0,
      "outputs": [
        {
          "output_type": "execute_result",
          "data": {
            "text/plain": [
              "float"
            ]
          },
          "metadata": {
            "tags": []
          },
          "execution_count": 11
        }
      ]
    },
    {
      "cell_type": "code",
      "metadata": {
        "id": "Pew7Npv0_pGq",
        "colab_type": "code",
        "outputId": "73fb7d6d-641e-4e0d-d09b-7f8692aca1cd",
        "colab": {
          "base_uri": "https://localhost:8080/",
          "height": 34
        }
      },
      "source": [
        "type('a')"
      ],
      "execution_count": 0,
      "outputs": [
        {
          "output_type": "execute_result",
          "data": {
            "text/plain": [
              "str"
            ]
          },
          "metadata": {
            "tags": []
          },
          "execution_count": 13
        }
      ]
    },
    {
      "cell_type": "markdown",
      "metadata": {
        "id": "-v6xKsOu_3Jr",
        "colab_type": "text"
      },
      "source": [
        "Variable names can only contain these characters: \n",
        "\n",
        "• Lowercase letters (a-z) \n",
        "\n",
        "• Uppercase letters (A-Z) \n",
        "\n",
        "• Digits (0-9) \n",
        "\n",
        "• Underscore (_) \n",
        "\n",
        "Variable names cannot: \n",
        "\n",
        "• Begin with a number (e.g.:1b, 50_)\n",
        "\n",
        "• Use special characters (%, -, !, [ ])"
      ]
    },
    {
      "cell_type": "markdown",
      "metadata": {
        "id": "8ga3GDXEACzT",
        "colab_type": "text"
      },
      "source": [
        "The following names cannot be used as variables, since they are reserved by Python for other purposes: \n",
        "\n",
        "False \n",
        "class \n",
        "finally \n",
        "is \n",
        "as \n",
        "elif \n",
        "if \n",
        "or \n",
        "return \n",
        "None \n",
        "continue \n",
        "for \n",
        "pass \n",
        "break \n",
        "except \n",
        "in \n",
        "lambda \n",
        "try \n",
        "True \n",
        "def \n",
        "yield \n",
        "assert\n",
        "else\n",
        "import\n",
        "from\n",
        "nonlocal\n",
        "while\n",
        "and\n",
        "raise\n",
        "del\n",
        "global\n",
        "not\n",
        "with"
      ]
    },
    {
      "cell_type": "markdown",
      "metadata": {
        "id": "5Yf5njfcAdE9",
        "colab_type": "text"
      },
      "source": [
        "# Numbers\n",
        "\n",
        "Numbers are mainly divided in integers and floats.\n",
        "\n",
        "• Both can be positive or negative (e.g.: 50, -34, +45.6, -33.0) \n",
        "\n",
        "• When no positive or negative symbol is used, the number is considered positive by default (e.g.: 50 = +50) \n",
        "\n",
        "• A number cannot begin with 0, otherwise the systems will generate an exception (in this case, a warning)"
      ]
    },
    {
      "cell_type": "code",
      "metadata": {
        "id": "sLIGMGGMAld9",
        "colab_type": "code",
        "outputId": "6d493a5e-5e95-4976-c827-f0a0166695f2",
        "colab": {
          "base_uri": "https://localhost:8080/",
          "height": 129
        }
      },
      "source": [
        "05"
      ],
      "execution_count": 0,
      "outputs": [
        {
          "output_type": "error",
          "ename": "SyntaxError",
          "evalue": "ignored",
          "traceback": [
            "\u001b[0;36m  File \u001b[0;32m\"<ipython-input-14-65e6e002a62d>\"\u001b[0;36m, line \u001b[0;32m1\u001b[0m\n\u001b[0;31m    05\u001b[0m\n\u001b[0m     ^\u001b[0m\n\u001b[0;31mSyntaxError\u001b[0m\u001b[0;31m:\u001b[0m invalid token\n"
          ]
        }
      ]
    },
    {
      "cell_type": "markdown",
      "metadata": {
        "id": "eMJ5JjTEAuik",
        "colab_type": "text"
      },
      "source": [
        "In Python, it is possible to directly use numbers for arithmetic calculations:"
      ]
    },
    {
      "cell_type": "code",
      "metadata": {
        "id": "tnGIbpi8Awie",
        "colab_type": "code",
        "outputId": "e76c647d-b6c2-419b-a57f-73319359a286",
        "colab": {
          "base_uri": "https://localhost:8080/",
          "height": 34
        }
      },
      "source": [
        "10+9"
      ],
      "execution_count": 0,
      "outputs": [
        {
          "output_type": "execute_result",
          "data": {
            "text/plain": [
              "19"
            ]
          },
          "metadata": {
            "tags": []
          },
          "execution_count": 15
        }
      ]
    },
    {
      "cell_type": "code",
      "metadata": {
        "id": "-MXIpQ4sBB2c",
        "colab_type": "code",
        "outputId": "441b3776-88b7-43b8-970f-04d0784fc36b",
        "colab": {
          "base_uri": "https://localhost:8080/",
          "height": 34
        }
      },
      "source": [
        "5+7-8"
      ],
      "execution_count": 0,
      "outputs": [
        {
          "output_type": "execute_result",
          "data": {
            "text/plain": [
              "4"
            ]
          },
          "metadata": {
            "tags": []
          },
          "execution_count": 20
        }
      ]
    },
    {
      "cell_type": "code",
      "metadata": {
        "id": "svRSrglfBDzz",
        "colab_type": "code",
        "outputId": "698cdc34-398d-45fb-a4fd-6f1cd47209c8",
        "colab": {
          "base_uri": "https://localhost:8080/",
          "height": 34
        }
      },
      "source": [
        "16-20"
      ],
      "execution_count": 0,
      "outputs": [
        {
          "output_type": "execute_result",
          "data": {
            "text/plain": [
              "-4"
            ]
          },
          "metadata": {
            "tags": []
          },
          "execution_count": 19
        }
      ]
    },
    {
      "cell_type": "code",
      "metadata": {
        "id": "ACJP0hhABFiV",
        "colab_type": "code",
        "outputId": "dd951638-12d1-4dfb-a2f6-3e97c8e8ca62",
        "colab": {
          "base_uri": "https://localhost:8080/",
          "height": 34
        }
      },
      "source": [
        "20*3"
      ],
      "execution_count": 0,
      "outputs": [
        {
          "output_type": "execute_result",
          "data": {
            "text/plain": [
              "60"
            ]
          },
          "metadata": {
            "tags": []
          },
          "execution_count": 18
        }
      ]
    },
    {
      "cell_type": "code",
      "metadata": {
        "id": "O7Q7XbKtBGtt",
        "colab_type": "code",
        "outputId": "6529b8c1-3b12-4c14-83be-6f0c48804724",
        "colab": {
          "base_uri": "https://localhost:8080/",
          "height": 34
        }
      },
      "source": [
        "15+7*9"
      ],
      "execution_count": 0,
      "outputs": [
        {
          "output_type": "execute_result",
          "data": {
            "text/plain": [
              "78"
            ]
          },
          "metadata": {
            "tags": []
          },
          "execution_count": 17
        }
      ]
    },
    {
      "cell_type": "code",
      "metadata": {
        "id": "JYICWacsBH38",
        "colab_type": "code",
        "outputId": "5bb3827b-ba44-40a4-b8ed-7a9f0f15dd6b",
        "colab": {
          "base_uri": "https://localhost:8080/",
          "height": 34
        }
      },
      "source": [
        "(15+7)*9"
      ],
      "execution_count": 0,
      "outputs": [
        {
          "output_type": "execute_result",
          "data": {
            "text/plain": [
              "198"
            ]
          },
          "metadata": {
            "tags": []
          },
          "execution_count": 16
        }
      ]
    },
    {
      "cell_type": "markdown",
      "metadata": {
        "id": "ICh4aIsjA1Fc",
        "colab_type": "text"
      },
      "source": [
        "**Remember:** multiplications and divisions have higher precedence than additions and subtractions, therefore they are always solved first. \n",
        "\n",
        "15 + 7 * 9 = 15 + ( 7 * 9 ) ≠ ( 15 + 7 ) * 9 \n",
        "\n",
        "Spaces between numbers and operators are not mandatory, but they make the calculations easier to read."
      ]
    },
    {
      "cell_type": "markdown",
      "metadata": {
        "id": "NvTXEhbgBlNN",
        "colab_type": "text"
      },
      "source": [
        "In Python there are two types of division: \n",
        "\n",
        "• Floating-point (decimal) division (symbol /) \n",
        "\n",
        "• Integer (truncating) division (symbol //) \n",
        "\n",
        "• Dividing by zero triggers an exception (with both operations)"
      ]
    },
    {
      "cell_type": "code",
      "metadata": {
        "id": "m0-bWjfzCoCH",
        "colab_type": "code",
        "outputId": "f761ba1a-044c-45a1-b08b-e3bec0f4faa0",
        "colab": {
          "base_uri": "https://localhost:8080/",
          "height": 34
        }
      },
      "source": [
        "9/5"
      ],
      "execution_count": 0,
      "outputs": [
        {
          "output_type": "execute_result",
          "data": {
            "text/plain": [
              "1.8"
            ]
          },
          "metadata": {
            "tags": []
          },
          "execution_count": 21
        }
      ]
    },
    {
      "cell_type": "code",
      "metadata": {
        "id": "febm8ulGCpWv",
        "colab_type": "code",
        "outputId": "99a997ef-22dd-41c9-e90d-efc4d738319a",
        "colab": {
          "base_uri": "https://localhost:8080/",
          "height": 34
        }
      },
      "source": [
        "9//5"
      ],
      "execution_count": 0,
      "outputs": [
        {
          "output_type": "execute_result",
          "data": {
            "text/plain": [
              "1"
            ]
          },
          "metadata": {
            "tags": []
          },
          "execution_count": 23
        }
      ]
    },
    {
      "cell_type": "code",
      "metadata": {
        "id": "b8lY45IfCqa1",
        "colab_type": "code",
        "outputId": "c3d02772-1c1a-4df6-cf3a-8b1ce3ccfc4e",
        "colab": {
          "base_uri": "https://localhost:8080/",
          "height": 163
        }
      },
      "source": [
        "9/0"
      ],
      "execution_count": 0,
      "outputs": [
        {
          "output_type": "error",
          "ename": "ZeroDivisionError",
          "evalue": "ignored",
          "traceback": [
            "\u001b[0;31m---------------------------------------------------------------------------\u001b[0m",
            "\u001b[0;31mZeroDivisionError\u001b[0m                         Traceback (most recent call last)",
            "\u001b[0;32m<ipython-input-25-7a5050487faa>\u001b[0m in \u001b[0;36m<module>\u001b[0;34m()\u001b[0m\n\u001b[0;32m----> 1\u001b[0;31m \u001b[0;36m9\u001b[0m\u001b[0;34m/\u001b[0m\u001b[0;36m0\u001b[0m\u001b[0;34m\u001b[0m\u001b[0;34m\u001b[0m\u001b[0m\n\u001b[0m",
            "\u001b[0;31mZeroDivisionError\u001b[0m: division by zero"
          ]
        }
      ]
    },
    {
      "cell_type": "code",
      "metadata": {
        "id": "VgwMpYe3CrNW",
        "colab_type": "code",
        "outputId": "4bd4f841-3743-4736-9c05-35b2a4f4074d",
        "colab": {
          "base_uri": "https://localhost:8080/",
          "height": 163
        }
      },
      "source": [
        "9//0"
      ],
      "execution_count": 0,
      "outputs": [
        {
          "output_type": "error",
          "ename": "ZeroDivisionError",
          "evalue": "ignored",
          "traceback": [
            "\u001b[0;31m---------------------------------------------------------------------------\u001b[0m",
            "\u001b[0;31mZeroDivisionError\u001b[0m                         Traceback (most recent call last)",
            "\u001b[0;32m<ipython-input-26-474cd1eef6aa>\u001b[0m in \u001b[0;36m<module>\u001b[0;34m()\u001b[0m\n\u001b[0;32m----> 1\u001b[0;31m \u001b[0;36m9\u001b[0m\u001b[0;34m//\u001b[0m\u001b[0;36m0\u001b[0m\u001b[0;34m\u001b[0m\u001b[0;34m\u001b[0m\u001b[0m\n\u001b[0m",
            "\u001b[0;31mZeroDivisionError\u001b[0m: integer division or modulo by zero"
          ]
        }
      ]
    },
    {
      "cell_type": "markdown",
      "metadata": {
        "id": "CsfNj-msCdU0",
        "colab_type": "text"
      },
      "source": [
        "• Like multiplication, division has higher precedence than addition and subtraction:"
      ]
    },
    {
      "cell_type": "code",
      "metadata": {
        "id": "YhAQMAM_CwZu",
        "colab_type": "code",
        "outputId": "6b1ce3ba-8a6f-4cc4-dc1b-d972afe81193",
        "colab": {
          "base_uri": "https://localhost:8080/",
          "height": 34
        }
      },
      "source": [
        "6*3/2"
      ],
      "execution_count": 0,
      "outputs": [
        {
          "output_type": "execute_result",
          "data": {
            "text/plain": [
              "9.0"
            ]
          },
          "metadata": {
            "tags": []
          },
          "execution_count": 29
        }
      ]
    },
    {
      "cell_type": "code",
      "metadata": {
        "id": "t0sxE6XICyGw",
        "colab_type": "code",
        "outputId": "a71b68d4-a4e1-43fb-a8f4-2fbaab348eed",
        "colab": {
          "base_uri": "https://localhost:8080/",
          "height": 34
        }
      },
      "source": [
        "6/2-3"
      ],
      "execution_count": 0,
      "outputs": [
        {
          "output_type": "execute_result",
          "data": {
            "text/plain": [
              "0.0"
            ]
          },
          "metadata": {
            "tags": []
          },
          "execution_count": 28
        }
      ]
    },
    {
      "cell_type": "code",
      "metadata": {
        "id": "srsq-SsUCzKN",
        "colab_type": "code",
        "outputId": "f15d31fa-ccfd-43a7-ec1f-61dcfc46b618",
        "colab": {
          "base_uri": "https://localhost:8080/",
          "height": 34
        }
      },
      "source": [
        "6/(2-3)"
      ],
      "execution_count": 0,
      "outputs": [
        {
          "output_type": "execute_result",
          "data": {
            "text/plain": [
              "-6.0"
            ]
          },
          "metadata": {
            "tags": []
          },
          "execution_count": 27
        }
      ]
    },
    {
      "cell_type": "markdown",
      "metadata": {
        "id": "mBtjd_1XCkQ1",
        "colab_type": "text"
      },
      "source": [
        "• Then used between two number, the symbol % produces the remainder of their division:"
      ]
    },
    {
      "cell_type": "code",
      "metadata": {
        "id": "tZ4lb0wXC4-L",
        "colab_type": "code",
        "outputId": "9c1a85f2-a602-4377-f57c-c632a4e757a9",
        "colab": {
          "base_uri": "https://localhost:8080/",
          "height": 34
        }
      },
      "source": [
        "9%4"
      ],
      "execution_count": 0,
      "outputs": [
        {
          "output_type": "execute_result",
          "data": {
            "text/plain": [
              "1"
            ]
          },
          "metadata": {
            "tags": []
          },
          "execution_count": 30
        }
      ]
    },
    {
      "cell_type": "code",
      "metadata": {
        "id": "faEpTBSFC6cW",
        "colab_type": "code",
        "outputId": "8cfbc384-2a05-47f7-e37b-870888603769",
        "colab": {
          "base_uri": "https://localhost:8080/",
          "height": 34
        }
      },
      "source": [
        "10%5"
      ],
      "execution_count": 0,
      "outputs": [
        {
          "output_type": "execute_result",
          "data": {
            "text/plain": [
              "0"
            ]
          },
          "metadata": {
            "tags": []
          },
          "execution_count": 31
        }
      ]
    },
    {
      "cell_type": "markdown",
      "metadata": {
        "id": "Rlbzzd9pCl08",
        "colab_type": "text"
      },
      "source": [
        "• The function divmod() can be used to obtain both the truncated quotient and remainder at once: "
      ]
    },
    {
      "cell_type": "code",
      "metadata": {
        "id": "uv5c1aeKC9MG",
        "colab_type": "code",
        "outputId": "c1976379-79bf-4f9c-c624-fba542b17923",
        "colab": {
          "base_uri": "https://localhost:8080/",
          "height": 34
        }
      },
      "source": [
        "9//4"
      ],
      "execution_count": 0,
      "outputs": [
        {
          "output_type": "execute_result",
          "data": {
            "text/plain": [
              "2"
            ]
          },
          "metadata": {
            "tags": []
          },
          "execution_count": 34
        }
      ]
    },
    {
      "cell_type": "code",
      "metadata": {
        "id": "CHeDclZ9C-FY",
        "colab_type": "code",
        "outputId": "59df7d7d-3c08-4896-8f65-c3244cb6fb7b",
        "colab": {
          "base_uri": "https://localhost:8080/",
          "height": 34
        }
      },
      "source": [
        "9/4"
      ],
      "execution_count": 0,
      "outputs": [
        {
          "output_type": "execute_result",
          "data": {
            "text/plain": [
              "2.25"
            ]
          },
          "metadata": {
            "tags": []
          },
          "execution_count": 33
        }
      ]
    },
    {
      "cell_type": "code",
      "metadata": {
        "id": "wKTNIk-oC_dP",
        "colab_type": "code",
        "outputId": "71aee433-74f4-4127-ff31-d482fac5b54a",
        "colab": {
          "base_uri": "https://localhost:8080/",
          "height": 34
        }
      },
      "source": [
        "9%4"
      ],
      "execution_count": 0,
      "outputs": [
        {
          "output_type": "execute_result",
          "data": {
            "text/plain": [
              "1"
            ]
          },
          "metadata": {
            "tags": []
          },
          "execution_count": 35
        }
      ]
    },
    {
      "cell_type": "code",
      "metadata": {
        "id": "lG7D9S-LDAON",
        "colab_type": "code",
        "outputId": "d1194c5f-ebdc-43e6-eef2-221d7e5d6e7d",
        "colab": {
          "base_uri": "https://localhost:8080/",
          "height": 34
        }
      },
      "source": [
        "divmod(9,4)"
      ],
      "execution_count": 0,
      "outputs": [
        {
          "output_type": "execute_result",
          "data": {
            "text/plain": [
              "(2, 1)"
            ]
          },
          "metadata": {
            "tags": []
          },
          "execution_count": 36
        }
      ]
    },
    {
      "cell_type": "markdown",
      "metadata": {
        "id": "3UXtnD0RDWEx",
        "colab_type": "text"
      },
      "source": [
        "Floats are handled similarly to integers"
      ]
    },
    {
      "cell_type": "code",
      "metadata": {
        "id": "0yYIQ3jADZHe",
        "colab_type": "code",
        "outputId": "d1745eac-5e87-4365-93a9-980298a428cf",
        "colab": {
          "base_uri": "https://localhost:8080/",
          "height": 34
        }
      },
      "source": [
        "8.72+9.1"
      ],
      "execution_count": 0,
      "outputs": [
        {
          "output_type": "execute_result",
          "data": {
            "text/plain": [
              "17.82"
            ]
          },
          "metadata": {
            "tags": []
          },
          "execution_count": 38
        }
      ]
    },
    {
      "cell_type": "code",
      "metadata": {
        "id": "VzkcqhfpEHuf",
        "colab_type": "code",
        "outputId": "336724bc-b5e8-48da-a74e-7240ecc12ea4",
        "colab": {
          "base_uri": "https://localhost:8080/",
          "height": 34
        }
      },
      "source": [
        "0.1*2"
      ],
      "execution_count": 0,
      "outputs": [
        {
          "output_type": "execute_result",
          "data": {
            "text/plain": [
              "0.2"
            ]
          },
          "metadata": {
            "tags": []
          },
          "execution_count": 44
        }
      ]
    },
    {
      "cell_type": "code",
      "metadata": {
        "id": "D8kNpz6UDcqI",
        "colab_type": "code",
        "outputId": "59ac25e9-c76b-4830-86ce-58d1684aa2ed",
        "colab": {
          "base_uri": "https://localhost:8080/",
          "height": 34
        }
      },
      "source": [
        "16.8/2.1+2"
      ],
      "execution_count": 0,
      "outputs": [
        {
          "output_type": "execute_result",
          "data": {
            "text/plain": [
              "10.0"
            ]
          },
          "metadata": {
            "tags": []
          },
          "execution_count": 39
        }
      ]
    },
    {
      "cell_type": "code",
      "metadata": {
        "id": "ZtaK19U5DeaF",
        "colab_type": "code",
        "outputId": "b45ac6cb-b131-490f-e7f9-26b1ae9b70cc",
        "colab": {
          "base_uri": "https://localhost:8080/",
          "height": 34
        }
      },
      "source": [
        "16.8/(2.2+2)"
      ],
      "execution_count": 0,
      "outputs": [
        {
          "output_type": "execute_result",
          "data": {
            "text/plain": [
              "4.0"
            ]
          },
          "metadata": {
            "tags": []
          },
          "execution_count": 45
        }
      ]
    },
    {
      "cell_type": "code",
      "metadata": {
        "id": "zQ0yxVKTDgou",
        "colab_type": "code",
        "outputId": "1d454652-8127-4fb1-eb55-92a43d035720",
        "colab": {
          "base_uri": "https://localhost:8080/",
          "height": 34
        }
      },
      "source": [
        "20.5/5"
      ],
      "execution_count": 0,
      "outputs": [
        {
          "output_type": "execute_result",
          "data": {
            "text/plain": [
              "4.1"
            ]
          },
          "metadata": {
            "tags": []
          },
          "execution_count": 41
        }
      ]
    },
    {
      "cell_type": "code",
      "metadata": {
        "id": "lvdvARBNDivx",
        "colab_type": "code",
        "outputId": "356aac2f-d4ee-43fa-b946-bbcdb10b80f0",
        "colab": {
          "base_uri": "https://localhost:8080/",
          "height": 34
        }
      },
      "source": [
        "20.5//5"
      ],
      "execution_count": 0,
      "outputs": [
        {
          "output_type": "execute_result",
          "data": {
            "text/plain": [
              "4.0"
            ]
          },
          "metadata": {
            "tags": []
          },
          "execution_count": 42
        }
      ]
    },
    {
      "cell_type": "code",
      "metadata": {
        "id": "0Re-c0B4Djv_",
        "colab_type": "code",
        "outputId": "408d2dcf-fd52-4948-8201-c1dc02b17540",
        "colab": {
          "base_uri": "https://localhost:8080/",
          "height": 34
        }
      },
      "source": [
        "20.5%5"
      ],
      "execution_count": 0,
      "outputs": [
        {
          "output_type": "execute_result",
          "data": {
            "text/plain": [
              "0.5"
            ]
          },
          "metadata": {
            "tags": []
          },
          "execution_count": 43
        }
      ]
    },
    {
      "cell_type": "markdown",
      "metadata": {
        "id": "Gk3cqhQRDk9Y",
        "colab_type": "text"
      },
      "source": [
        "When a mix of integers and floats are used in an operation, Python will sometimes convert them for you "
      ]
    },
    {
      "cell_type": "code",
      "metadata": {
        "id": "fdMTcnODDm_J",
        "colab_type": "code",
        "outputId": "a11ea589-eb50-4b05-9fe3-fe559d957ee4",
        "colab": {
          "base_uri": "https://localhost:8080/",
          "height": 34
        }
      },
      "source": [
        "8+9.0"
      ],
      "execution_count": 0,
      "outputs": [
        {
          "output_type": "execute_result",
          "data": {
            "text/plain": [
              "17.0"
            ]
          },
          "metadata": {
            "tags": []
          },
          "execution_count": 37
        }
      ]
    },
    {
      "cell_type": "markdown",
      "metadata": {
        "id": "3sWCUbABDoPY",
        "colab_type": "text"
      },
      "source": [
        "Floats can be converted in integers and vice versa by using a type conversion function \n",
        "\n",
        "• Int() converts a data type to an integer"
      ]
    },
    {
      "cell_type": "code",
      "metadata": {
        "id": "3HWnnxsBD5MD",
        "colab_type": "code",
        "outputId": "97a8ff9a-14af-4010-b1aa-f38302f0c70e",
        "colab": {
          "base_uri": "https://localhost:8080/",
          "height": 34
        }
      },
      "source": [
        "int(25.5)"
      ],
      "execution_count": 0,
      "outputs": [
        {
          "output_type": "execute_result",
          "data": {
            "text/plain": [
              "25"
            ]
          },
          "metadata": {
            "tags": []
          },
          "execution_count": 46
        }
      ]
    },
    {
      "cell_type": "code",
      "metadata": {
        "id": "M29yz29GD7hB",
        "colab_type": "code",
        "outputId": "a095ee90-d6f6-4716-cdaa-988e3c694e5e",
        "colab": {
          "base_uri": "https://localhost:8080/",
          "height": 34
        }
      },
      "source": [
        "int(1.0e4)"
      ],
      "execution_count": 0,
      "outputs": [
        {
          "output_type": "execute_result",
          "data": {
            "text/plain": [
              "10000"
            ]
          },
          "metadata": {
            "tags": []
          },
          "execution_count": 47
        }
      ]
    },
    {
      "cell_type": "code",
      "metadata": {
        "id": "oNL3duyVD86H",
        "colab_type": "code",
        "outputId": "f13d351d-6f1e-41bc-b771-c67c9deff4d5",
        "colab": {
          "base_uri": "https://localhost:8080/",
          "height": 34
        }
      },
      "source": [
        "int(12334)"
      ],
      "execution_count": 0,
      "outputs": [
        {
          "output_type": "execute_result",
          "data": {
            "text/plain": [
              "12334"
            ]
          },
          "metadata": {
            "tags": []
          },
          "execution_count": 48
        }
      ]
    },
    {
      "cell_type": "code",
      "metadata": {
        "id": "ekh-HjqZD-Vo",
        "colab_type": "code",
        "outputId": "ff4489d7-ca8e-4400-a0d7-c403b375d8ad",
        "colab": {
          "base_uri": "https://localhost:8080/",
          "height": 34
        }
      },
      "source": [
        "int(-23.0)"
      ],
      "execution_count": 0,
      "outputs": [
        {
          "output_type": "execute_result",
          "data": {
            "text/plain": [
              "-23"
            ]
          },
          "metadata": {
            "tags": []
          },
          "execution_count": 49
        }
      ]
    },
    {
      "cell_type": "markdown",
      "metadata": {
        "id": "Bg6ljuDvDsxM",
        "colab_type": "text"
      },
      "source": [
        "• Float() converts a data type to a floating-point value"
      ]
    },
    {
      "cell_type": "code",
      "metadata": {
        "id": "ZAzCy5NKEd6j",
        "colab_type": "code",
        "outputId": "316ac429-532a-4685-afb8-cbf6770e0abd",
        "colab": {
          "base_uri": "https://localhost:8080/",
          "height": 34
        }
      },
      "source": [
        "float(25.5)"
      ],
      "execution_count": 0,
      "outputs": [
        {
          "output_type": "execute_result",
          "data": {
            "text/plain": [
              "25.5"
            ]
          },
          "metadata": {
            "tags": []
          },
          "execution_count": 50
        }
      ]
    },
    {
      "cell_type": "code",
      "metadata": {
        "id": "8bq2v7SfEfWZ",
        "colab_type": "code",
        "outputId": "6eaabfed-3ea7-49e1-a72a-1c59f2ac5bea",
        "colab": {
          "base_uri": "https://localhost:8080/",
          "height": 34
        }
      },
      "source": [
        "float(1.0e4)"
      ],
      "execution_count": 0,
      "outputs": [
        {
          "output_type": "execute_result",
          "data": {
            "text/plain": [
              "10000.0"
            ]
          },
          "metadata": {
            "tags": []
          },
          "execution_count": 51
        }
      ]
    },
    {
      "cell_type": "code",
      "metadata": {
        "id": "GsJ-VMpBEiYi",
        "colab_type": "code",
        "outputId": "5b71af0b-6d38-4fc0-dba3-6e2427478250",
        "colab": {
          "base_uri": "https://localhost:8080/",
          "height": 34
        }
      },
      "source": [
        "float(12334)"
      ],
      "execution_count": 0,
      "outputs": [
        {
          "output_type": "execute_result",
          "data": {
            "text/plain": [
              "12334.0"
            ]
          },
          "metadata": {
            "tags": []
          },
          "execution_count": 52
        }
      ]
    },
    {
      "cell_type": "code",
      "metadata": {
        "id": "EoLsU4ywEj0X",
        "colab_type": "code",
        "outputId": "f68d44e1-4337-44cc-8705-6b8ffbeecb3a",
        "colab": {
          "base_uri": "https://localhost:8080/",
          "height": 34
        }
      },
      "source": [
        "float(-23.0)"
      ],
      "execution_count": 0,
      "outputs": [
        {
          "output_type": "execute_result",
          "data": {
            "text/plain": [
              "-23.0"
            ]
          },
          "metadata": {
            "tags": []
          },
          "execution_count": 53
        }
      ]
    },
    {
      "cell_type": "markdown",
      "metadata": {
        "id": "U1thHreWFLdJ",
        "colab_type": "text"
      },
      "source": [
        "String and Boolean data types can be converted to integer or float, too \n",
        "\n",
        "• A Boolean data type can only be True or False. Boolean operators are used when comparing different values or variables. \n",
        "\n",
        "> • If the condition of a comparison is satisfied (e.g.: 5 > 4), then the result of that operation is True \n",
        "\n",
        "> • Otherwise, the result is False\n",
        "\n",
        "• True and False can be converted to integers or floats:"
      ]
    },
    {
      "cell_type": "code",
      "metadata": {
        "id": "sJEw9tW9FZt3",
        "colab_type": "code",
        "outputId": "c399418c-4b57-4c29-818e-8712cea319ca",
        "colab": {
          "base_uri": "https://localhost:8080/",
          "height": 34
        }
      },
      "source": [
        "int(True)"
      ],
      "execution_count": 0,
      "outputs": [
        {
          "output_type": "execute_result",
          "data": {
            "text/plain": [
              "1"
            ]
          },
          "metadata": {
            "tags": []
          },
          "execution_count": 54
        }
      ]
    },
    {
      "cell_type": "code",
      "metadata": {
        "id": "2vfAdatiFbZs",
        "colab_type": "code",
        "outputId": "d691f5a2-9379-4e81-b7d8-088ce571acda",
        "colab": {
          "base_uri": "https://localhost:8080/",
          "height": 34
        }
      },
      "source": [
        "int(False)"
      ],
      "execution_count": 0,
      "outputs": [
        {
          "output_type": "execute_result",
          "data": {
            "text/plain": [
              "0"
            ]
          },
          "metadata": {
            "tags": []
          },
          "execution_count": 55
        }
      ]
    },
    {
      "cell_type": "code",
      "metadata": {
        "id": "3XrqLJSWFcsA",
        "colab_type": "code",
        "outputId": "f8f053af-f2d0-456f-cf9c-9cce1d8daf6a",
        "colab": {
          "base_uri": "https://localhost:8080/",
          "height": 34
        }
      },
      "source": [
        "float(True)"
      ],
      "execution_count": 0,
      "outputs": [
        {
          "output_type": "execute_result",
          "data": {
            "text/plain": [
              "1.0"
            ]
          },
          "metadata": {
            "tags": []
          },
          "execution_count": 56
        }
      ]
    },
    {
      "cell_type": "code",
      "metadata": {
        "id": "ULy57BxLFeNH",
        "colab_type": "code",
        "outputId": "a0b796d8-2946-4d22-b27e-6544d35e3c73",
        "colab": {
          "base_uri": "https://localhost:8080/",
          "height": 34
        }
      },
      "source": [
        "float(False)"
      ],
      "execution_count": 0,
      "outputs": [
        {
          "output_type": "execute_result",
          "data": {
            "text/plain": [
              "0.0"
            ]
          },
          "metadata": {
            "tags": []
          },
          "execution_count": 57
        }
      ]
    },
    {
      "cell_type": "markdown",
      "metadata": {
        "id": "aL2VEQngFjf7",
        "colab_type": "text"
      },
      "source": [
        "• Since Python can convert the data type of values involved in a calculation, True and False can be employed in arithmetic operations: "
      ]
    },
    {
      "cell_type": "code",
      "metadata": {
        "id": "Ya1Xg4ZkFqoo",
        "colab_type": "code",
        "outputId": "1d2dfced-c5e5-45dd-acee-c390ffe9c305",
        "colab": {
          "base_uri": "https://localhost:8080/",
          "height": 34
        }
      },
      "source": [
        "True + 5.0"
      ],
      "execution_count": 0,
      "outputs": [
        {
          "output_type": "execute_result",
          "data": {
            "text/plain": [
              "6.0"
            ]
          },
          "metadata": {
            "tags": []
          },
          "execution_count": 58
        }
      ]
    },
    {
      "cell_type": "code",
      "metadata": {
        "id": "M2lGTEIeFthr",
        "colab_type": "code",
        "outputId": "dba8a540-9353-4f42-a63e-1af8abb03141",
        "colab": {
          "base_uri": "https://localhost:8080/",
          "height": 34
        }
      },
      "source": [
        "False-2"
      ],
      "execution_count": 0,
      "outputs": [
        {
          "output_type": "execute_result",
          "data": {
            "text/plain": [
              "-2"
            ]
          },
          "metadata": {
            "tags": []
          },
          "execution_count": 59
        }
      ]
    },
    {
      "cell_type": "markdown",
      "metadata": {
        "id": "HUpPciXhFmQm",
        "colab_type": "text"
      },
      "source": [
        "• Strings containing numbers can be converted to integers or floats, too:"
      ]
    },
    {
      "cell_type": "code",
      "metadata": {
        "id": "dQoch1MYFvkC",
        "colab_type": "code",
        "outputId": "00e0d3be-e443-4ce7-fb44-bdf98f2f39a0",
        "colab": {
          "base_uri": "https://localhost:8080/",
          "height": 34
        }
      },
      "source": [
        "int('99')"
      ],
      "execution_count": 0,
      "outputs": [
        {
          "output_type": "execute_result",
          "data": {
            "text/plain": [
              "99"
            ]
          },
          "metadata": {
            "tags": []
          },
          "execution_count": 76
        }
      ]
    },
    {
      "cell_type": "code",
      "metadata": {
        "id": "AB2UuuBVFymi",
        "colab_type": "code",
        "outputId": "2e05bcc4-568b-44ed-e496-1a38ca181874",
        "colab": {
          "base_uri": "https://localhost:8080/",
          "height": 34
        }
      },
      "source": [
        "float('-35.5')"
      ],
      "execution_count": 0,
      "outputs": [
        {
          "output_type": "execute_result",
          "data": {
            "text/plain": [
              "-35.5"
            ]
          },
          "metadata": {
            "tags": []
          },
          "execution_count": 74
        }
      ]
    },
    {
      "cell_type": "code",
      "metadata": {
        "id": "FsEkdOc3GhAl",
        "colab_type": "code",
        "outputId": "c546ec80-c06a-41b5-f5ca-4a4b8d5bff69",
        "colab": {
          "base_uri": "https://localhost:8080/",
          "height": 34
        }
      },
      "source": [
        "int('+12')"
      ],
      "execution_count": 0,
      "outputs": [
        {
          "output_type": "execute_result",
          "data": {
            "text/plain": [
              "12"
            ]
          },
          "metadata": {
            "tags": []
          },
          "execution_count": 72
        }
      ]
    },
    {
      "cell_type": "code",
      "metadata": {
        "id": "6gqtTjXdGMGR",
        "colab_type": "code",
        "outputId": "e6b1e693-93f4-41c4-f1ee-a926e81ac7e4",
        "colab": {
          "base_uri": "https://localhost:8080/",
          "height": 34
        }
      },
      "source": [
        "float('+24')"
      ],
      "execution_count": 0,
      "outputs": [
        {
          "output_type": "execute_result",
          "data": {
            "text/plain": [
              "24.0"
            ]
          },
          "metadata": {
            "tags": []
          },
          "execution_count": 67
        }
      ]
    },
    {
      "cell_type": "markdown",
      "metadata": {
        "id": "AVjRI58jFn5F",
        "colab_type": "text"
      },
      "source": [
        "• However, trying to convert strings containing decimal points or exponents to integers will result in an exception "
      ]
    },
    {
      "cell_type": "code",
      "metadata": {
        "id": "RtRh5eaHG0we",
        "colab_type": "code",
        "outputId": "cd99bf27-d3b3-4b8f-ce2c-3a2b185a1256",
        "colab": {
          "base_uri": "https://localhost:8080/",
          "height": 163
        }
      },
      "source": [
        "int('12.6')"
      ],
      "execution_count": 0,
      "outputs": [
        {
          "output_type": "error",
          "ename": "ValueError",
          "evalue": "ignored",
          "traceback": [
            "\u001b[0;31m---------------------------------------------------------------------------\u001b[0m",
            "\u001b[0;31mValueError\u001b[0m                                Traceback (most recent call last)",
            "\u001b[0;32m<ipython-input-77-c10db898d1b6>\u001b[0m in \u001b[0;36m<module>\u001b[0;34m()\u001b[0m\n\u001b[0;32m----> 1\u001b[0;31m \u001b[0mint\u001b[0m\u001b[0;34m(\u001b[0m\u001b[0;34m'12.6'\u001b[0m\u001b[0;34m)\u001b[0m\u001b[0;34m\u001b[0m\u001b[0;34m\u001b[0m\u001b[0m\n\u001b[0m",
            "\u001b[0;31mValueError\u001b[0m: invalid literal for int() with base 10: '12.6'"
          ]
        }
      ]
    },
    {
      "cell_type": "code",
      "metadata": {
        "id": "34LKar9bG2n7",
        "colab_type": "code",
        "outputId": "353d8e09-f49b-417c-f993-5dfaff9c504a",
        "colab": {
          "base_uri": "https://localhost:8080/",
          "height": 163
        }
      },
      "source": [
        "int('1.0e4')"
      ],
      "execution_count": 0,
      "outputs": [
        {
          "output_type": "error",
          "ename": "ValueError",
          "evalue": "ignored",
          "traceback": [
            "\u001b[0;31m---------------------------------------------------------------------------\u001b[0m",
            "\u001b[0;31mValueError\u001b[0m                                Traceback (most recent call last)",
            "\u001b[0;32m<ipython-input-78-ecb6fcf41e85>\u001b[0m in \u001b[0;36m<module>\u001b[0;34m()\u001b[0m\n\u001b[0;32m----> 1\u001b[0;31m \u001b[0mint\u001b[0m\u001b[0;34m(\u001b[0m\u001b[0;34m'1.0e4'\u001b[0m\u001b[0;34m)\u001b[0m\u001b[0;34m\u001b[0m\u001b[0;34m\u001b[0m\u001b[0m\n\u001b[0m",
            "\u001b[0;31mValueError\u001b[0m: invalid literal for int() with base 10: '1.0e4'"
          ]
        }
      ]
    },
    {
      "cell_type": "markdown",
      "metadata": {
        "id": "JhaA-pRPHIFL",
        "colab_type": "text"
      },
      "source": [
        "• Converting strings containing letters or symbols will result in an exception "
      ]
    },
    {
      "cell_type": "code",
      "metadata": {
        "id": "AjrFMJFiHMHx",
        "colab_type": "code",
        "outputId": "90a072b3-a32c-4d7c-e067-6e44983eee80",
        "colab": {
          "base_uri": "https://localhost:8080/",
          "height": 163
        }
      },
      "source": [
        "int('99 little bugs in the code')"
      ],
      "execution_count": 0,
      "outputs": [
        {
          "output_type": "error",
          "ename": "ValueError",
          "evalue": "ignored",
          "traceback": [
            "\u001b[0;31m---------------------------------------------------------------------------\u001b[0m",
            "\u001b[0;31mValueError\u001b[0m                                Traceback (most recent call last)",
            "\u001b[0;32m<ipython-input-79-af37af9e2688>\u001b[0m in \u001b[0;36m<module>\u001b[0;34m()\u001b[0m\n\u001b[0;32m----> 1\u001b[0;31m \u001b[0mint\u001b[0m\u001b[0;34m(\u001b[0m\u001b[0;34m'99 little bugs in the code'\u001b[0m\u001b[0;34m)\u001b[0m\u001b[0;34m\u001b[0m\u001b[0;34m\u001b[0m\u001b[0m\n\u001b[0m",
            "\u001b[0;31mValueError\u001b[0m: invalid literal for int() with base 10: '99 little bugs in the code'"
          ]
        }
      ]
    },
    {
      "cell_type": "markdown",
      "metadata": {
        "id": "R3m8ht8jHK30",
        "colab_type": "text"
      },
      "source": [
        "• An empty string will result in an exception, too "
      ]
    },
    {
      "cell_type": "code",
      "metadata": {
        "id": "b6mcQNKuHQdt",
        "colab_type": "code",
        "outputId": "65d2f646-8b0c-46ce-ad63-ad48e26934d4",
        "colab": {
          "base_uri": "https://localhost:8080/",
          "height": 163
        }
      },
      "source": [
        "float('')"
      ],
      "execution_count": 0,
      "outputs": [
        {
          "output_type": "error",
          "ename": "ValueError",
          "evalue": "ignored",
          "traceback": [
            "\u001b[0;31m---------------------------------------------------------------------------\u001b[0m",
            "\u001b[0;31mValueError\u001b[0m                                Traceback (most recent call last)",
            "\u001b[0;32m<ipython-input-80-45d756431581>\u001b[0m in \u001b[0;36m<module>\u001b[0;34m()\u001b[0m\n\u001b[0;32m----> 1\u001b[0;31m \u001b[0mfloat\u001b[0m\u001b[0;34m(\u001b[0m\u001b[0;34m''\u001b[0m\u001b[0;34m)\u001b[0m\u001b[0;34m\u001b[0m\u001b[0;34m\u001b[0m\u001b[0m\n\u001b[0m",
            "\u001b[0;31mValueError\u001b[0m: could not convert string to float: "
          ]
        }
      ]
    },
    {
      "cell_type": "markdown",
      "metadata": {
        "id": "xOCiX6hKHx2l",
        "colab_type": "text"
      },
      "source": [
        "Mathematical operations can also be performed using variables that have been assigned an integer or float value. "
      ]
    },
    {
      "cell_type": "code",
      "metadata": {
        "id": "DHCbdB5qH3dJ",
        "colab_type": "code",
        "outputId": "456ced0d-1251-4a44-de59-b35025433894",
        "colab": {
          "base_uri": "https://localhost:8080/",
          "height": 34
        }
      },
      "source": [
        "a=9\n",
        "a"
      ],
      "execution_count": 0,
      "outputs": [
        {
          "output_type": "execute_result",
          "data": {
            "text/plain": [
              "9"
            ]
          },
          "metadata": {
            "tags": []
          },
          "execution_count": 86
        }
      ]
    },
    {
      "cell_type": "code",
      "metadata": {
        "id": "ZswyRaxrH5Qt",
        "colab_type": "code",
        "outputId": "986772c4-972b-43ea-f0d5-fa11464326e2",
        "colab": {
          "base_uri": "https://localhost:8080/",
          "height": 34
        }
      },
      "source": [
        "a-3"
      ],
      "execution_count": 0,
      "outputs": [
        {
          "output_type": "execute_result",
          "data": {
            "text/plain": [
              "6"
            ]
          },
          "metadata": {
            "tags": []
          },
          "execution_count": 87
        }
      ]
    },
    {
      "cell_type": "code",
      "metadata": {
        "id": "nH6vinE0H8Dn",
        "colab_type": "code",
        "outputId": "370498da-c224-4a12-e0f2-ab3d8c0fc51c",
        "colab": {
          "base_uri": "https://localhost:8080/",
          "height": 34
        }
      },
      "source": [
        "a"
      ],
      "execution_count": 0,
      "outputs": [
        {
          "output_type": "execute_result",
          "data": {
            "text/plain": [
              "9"
            ]
          },
          "metadata": {
            "tags": []
          },
          "execution_count": 88
        }
      ]
    },
    {
      "cell_type": "code",
      "metadata": {
        "id": "fnNVevqXH_8n",
        "colab_type": "code",
        "outputId": "9ea748f0-7d17-44fc-f834-863b2ce857d2",
        "colab": {
          "base_uri": "https://localhost:8080/",
          "height": 34
        }
      },
      "source": [
        "a=a-3\n",
        "a"
      ],
      "execution_count": 0,
      "outputs": [
        {
          "output_type": "execute_result",
          "data": {
            "text/plain": [
              "6"
            ]
          },
          "metadata": {
            "tags": []
          },
          "execution_count": 89
        }
      ]
    },
    {
      "cell_type": "markdown",
      "metadata": {
        "id": "TiwP23VPIJ-2",
        "colab_type": "text"
      },
      "source": [
        "In the third case, we used ‘a’ to perform an arithmetic operation and then printed it back a second time, which resulted in its value being left unchanged.\n",
        "\n",
        "In the fourth case, however, the result of “a –3” was assigned to a, which value was then changed from 9 to 6. \n",
        "\n",
        "In Python, the = symbol does not represent the concept of equality. Instead, the = symbol states than the expression on the right side of the = is calculated first and then assigned to the variable on the left side. \n",
        "\n",
        "The operation “a = a -3” can be interpreted in this way: \n",
        "\n",
        "> • Subtract 3 from a \n",
        "\n",
        "> • Assign the result of the subtraction to a temporary variable \n",
        "\n",
        "> • Assign the value of the temporary variable to a"
      ]
    },
    {
      "cell_type": "code",
      "metadata": {
        "id": "GjALlheTIQ10",
        "colab_type": "code",
        "outputId": "ae97f36d-dcf0-4ac0-fd9e-a5dfa41dad6b",
        "colab": {
          "base_uri": "https://localhost:8080/",
          "height": 34
        }
      },
      "source": [
        "a=9\n",
        "temp=a-3\n",
        "a=temp\n",
        "a"
      ],
      "execution_count": 0,
      "outputs": [
        {
          "output_type": "execute_result",
          "data": {
            "text/plain": [
              "6"
            ]
          },
          "metadata": {
            "tags": []
          },
          "execution_count": 90
        }
      ]
    },
    {
      "cell_type": "markdown",
      "metadata": {
        "id": "0ZzJuMNCIcuX",
        "colab_type": "text"
      },
      "source": [
        "During these operations, Python simply skips the assignment of “a –3” to a temporary variable and directly reassign it to “a”, since it is faster."
      ]
    },
    {
      "cell_type": "markdown",
      "metadata": {
        "id": "cBnyaHClIf2R",
        "colab_type": "text"
      },
      "source": [
        "When performing mathematical operations with variables, the following short notations can be used: "
      ]
    },
    {
      "cell_type": "code",
      "metadata": {
        "id": "ZMZ1tOBqIg-F",
        "colab_type": "code",
        "outputId": "77a43f27-ef4b-41e9-e232-e3df642d3ca3",
        "colab": {
          "base_uri": "https://localhost:8080/",
          "height": 34
        }
      },
      "source": [
        "a=10\n",
        "a+=5\n",
        "a"
      ],
      "execution_count": 0,
      "outputs": [
        {
          "output_type": "execute_result",
          "data": {
            "text/plain": [
              "15"
            ]
          },
          "metadata": {
            "tags": []
          },
          "execution_count": 91
        }
      ]
    },
    {
      "cell_type": "markdown",
      "metadata": {
        "id": "TK5E1noLIj6F",
        "colab_type": "text"
      },
      "source": [
        "Which is equal to:"
      ]
    },
    {
      "cell_type": "code",
      "metadata": {
        "id": "l1mWnSD7ImPe",
        "colab_type": "code",
        "outputId": "25f6fdfb-148d-4d1d-fb34-217a5699fb5d",
        "colab": {
          "base_uri": "https://localhost:8080/",
          "height": 34
        }
      },
      "source": [
        "a=10\n",
        "a=a+5\n",
        "a"
      ],
      "execution_count": 0,
      "outputs": [
        {
          "output_type": "execute_result",
          "data": {
            "text/plain": [
              "15"
            ]
          },
          "metadata": {
            "tags": []
          },
          "execution_count": 92
        }
      ]
    },
    {
      "cell_type": "code",
      "metadata": {
        "id": "xDEcsjoCIowF",
        "colab_type": "code",
        "outputId": "e96cd9d4-48d7-48ca-bd2a-4f912fb4bc29",
        "colab": {
          "base_uri": "https://localhost:8080/",
          "height": 34
        }
      },
      "source": [
        "a=10\n",
        "a-=4\n",
        "a"
      ],
      "execution_count": 0,
      "outputs": [
        {
          "output_type": "execute_result",
          "data": {
            "text/plain": [
              "6"
            ]
          },
          "metadata": {
            "tags": []
          },
          "execution_count": 93
        }
      ]
    },
    {
      "cell_type": "code",
      "metadata": {
        "id": "-hgXQAtgIr5a",
        "colab_type": "code",
        "outputId": "bd036b11-8bbe-40e5-cf80-5e924aa01b70",
        "colab": {
          "base_uri": "https://localhost:8080/",
          "height": 34
        }
      },
      "source": [
        "a=10\n",
        "a*=2\n",
        "a\n"
      ],
      "execution_count": 0,
      "outputs": [
        {
          "output_type": "execute_result",
          "data": {
            "text/plain": [
              "20"
            ]
          },
          "metadata": {
            "tags": []
          },
          "execution_count": 94
        }
      ]
    },
    {
      "cell_type": "code",
      "metadata": {
        "id": "ad9fRwHVIzR1",
        "colab_type": "code",
        "outputId": "9286938f-41cf-4aac-ad77-bcfa5b1e9095",
        "colab": {
          "base_uri": "https://localhost:8080/",
          "height": 34
        }
      },
      "source": [
        "a=10\n",
        "a/=2\n",
        "a"
      ],
      "execution_count": 0,
      "outputs": [
        {
          "output_type": "execute_result",
          "data": {
            "text/plain": [
              "5.0"
            ]
          },
          "metadata": {
            "tags": []
          },
          "execution_count": 95
        }
      ]
    },
    {
      "cell_type": "code",
      "metadata": {
        "id": "wxuigHKSI3eE",
        "colab_type": "code",
        "outputId": "a0fbf1c0-606f-4720-b2fd-affcc1f25444",
        "colab": {
          "base_uri": "https://localhost:8080/",
          "height": 34
        }
      },
      "source": [
        "a=9\n",
        "a//=2\n",
        "a"
      ],
      "execution_count": 0,
      "outputs": [
        {
          "output_type": "execute_result",
          "data": {
            "text/plain": [
              "4"
            ]
          },
          "metadata": {
            "tags": []
          },
          "execution_count": 97
        }
      ]
    },
    {
      "cell_type": "code",
      "metadata": {
        "id": "fpew366LI_EK",
        "colab_type": "code",
        "outputId": "824adfb0-0b38-4513-f0a9-860d13a8c31d",
        "colab": {
          "base_uri": "https://localhost:8080/",
          "height": 34
        }
      },
      "source": [
        "a=10\n",
        "a%=2\n",
        "a"
      ],
      "execution_count": 0,
      "outputs": [
        {
          "output_type": "execute_result",
          "data": {
            "text/plain": [
              "0"
            ]
          },
          "metadata": {
            "tags": []
          },
          "execution_count": 98
        }
      ]
    },
    {
      "cell_type": "markdown",
      "metadata": {
        "id": "t7RwYXQPJbu_",
        "colab_type": "text"
      },
      "source": [
        "# Strings\n",
        "\n",
        "The string type of variable is a simple sequence of letters, or in another words a string of text. \n",
        "\n",
        "In Python, strings are immutable, but parts of strings can be copied to obtain other strings. \n",
        "\n",
        "To make a string, you have to enclose a piece of text in either single or double quotes."
      ]
    },
    {
      "cell_type": "code",
      "metadata": {
        "id": "_0EEDL8_Jf6y",
        "colab_type": "code",
        "outputId": "a1048483-c31e-45ca-c7b9-925ee133c661",
        "colab": {
          "base_uri": "https://localhost:8080/",
          "height": 34
        }
      },
      "source": [
        "'Rice'"
      ],
      "execution_count": 0,
      "outputs": [
        {
          "output_type": "execute_result",
          "data": {
            "text/plain": [
              "'Rice'"
            ]
          },
          "metadata": {
            "tags": []
          },
          "execution_count": 99
        }
      ]
    },
    {
      "cell_type": "code",
      "metadata": {
        "id": "yDtI2tcJJw_1",
        "colab_type": "code",
        "outputId": "cd9a8ad7-fd68-4cc2-d3fc-f202fc8b0a1f",
        "colab": {
          "base_uri": "https://localhost:8080/",
          "height": 34
        }
      },
      "source": [
        "'A clever person solves a problem. A wise person avoids it'"
      ],
      "execution_count": 0,
      "outputs": [
        {
          "output_type": "execute_result",
          "data": {
            "text/plain": [
              "'A clever person solves a problem. A wise person avoids it'"
            ]
          },
          "metadata": {
            "tags": []
          },
          "execution_count": 100
        }
      ]
    },
    {
      "cell_type": "markdown",
      "metadata": {
        "id": "_xPPPMcqJ4sY",
        "colab_type": "text"
      },
      "source": [
        "Python employs two types of quotes to allow creation of strings containing quote characters"
      ]
    },
    {
      "cell_type": "code",
      "metadata": {
        "id": "DhPWSkNlJ5Ie",
        "colab_type": "code",
        "outputId": "8574ffc4-189c-42f0-dbd4-835e7ddd372a",
        "colab": {
          "base_uri": "https://localhost:8080/",
          "height": 34
        }
      },
      "source": [
        "'Einstein once said: “A clever person solves a problem. A wise person avoids it.”'"
      ],
      "execution_count": 0,
      "outputs": [
        {
          "output_type": "execute_result",
          "data": {
            "text/plain": [
              "'Einstein once said: “A clever person solves a problem. A wise person avoids it.”'"
            ]
          },
          "metadata": {
            "tags": []
          },
          "execution_count": 102
        }
      ]
    },
    {
      "cell_type": "markdown",
      "metadata": {
        "id": "cimWVeuyJ__O",
        "colab_type": "text"
      },
      "source": [
        "Additionally, triple quotes can be used. They are very useful when using multiline strings."
      ]
    },
    {
      "cell_type": "code",
      "metadata": {
        "id": "67OXu1UeKAYk",
        "colab_type": "code",
        "outputId": "4c44ed70-42d6-41f0-a06f-100f07fbe86d",
        "colab": {
          "base_uri": "https://localhost:8080/",
          "height": 34
        }
      },
      "source": [
        "quote='''Einstein once said: \n",
        "\"A clever person solves a problem. \n",
        "A wise person avoids it.\"'''\n",
        "quote"
      ],
      "execution_count": 0,
      "outputs": [
        {
          "output_type": "execute_result",
          "data": {
            "text/plain": [
              "'Einstein once said: \\n\"A clever person solves a problem. \\nA wise person avoids it.\"'"
            ]
          },
          "metadata": {
            "tags": []
          },
          "execution_count": 108
        }
      ]
    },
    {
      "cell_type": "markdown",
      "metadata": {
        "id": "dHa5kajfKjwf",
        "colab_type": "text"
      },
      "source": [
        "When working in a terminal with a multiline command, three dots are usually printed after the first line. \n",
        "\n",
        "They are employed by the interactive interpreter to highlight a multiline command. \n",
        "\n",
        "Multiline strings cannot be created with single or double quotes"
      ]
    },
    {
      "cell_type": "code",
      "metadata": {
        "id": "eQCcLPwIK0qV",
        "colab_type": "code",
        "outputId": "47b71685-28d5-4b97-8f98-40e209bc116b",
        "colab": {
          "base_uri": "https://localhost:8080/",
          "height": 129
        }
      },
      "source": [
        "quote='Einstein once said: \n",
        "\"A clever person solves a problem. \n",
        "A wise person avoids it.\"'\n",
        "quote"
      ],
      "execution_count": 0,
      "outputs": [
        {
          "output_type": "error",
          "ename": "SyntaxError",
          "evalue": "ignored",
          "traceback": [
            "\u001b[0;36m  File \u001b[0;32m\"<ipython-input-109-4958f70a12fd>\"\u001b[0;36m, line \u001b[0;32m1\u001b[0m\n\u001b[0;31m    quote='Einstein once said:\u001b[0m\n\u001b[0m                               ^\u001b[0m\n\u001b[0;31mSyntaxError\u001b[0m\u001b[0;31m:\u001b[0m EOL while scanning string literal\n"
          ]
        }
      ]
    },
    {
      "cell_type": "markdown",
      "metadata": {
        "id": "TtvJe_enK8gV",
        "colab_type": "text"
      },
      "source": [
        "Instead of echoing the variable quote, it can also be printed with the command print();"
      ]
    },
    {
      "cell_type": "code",
      "metadata": {
        "id": "n6M0x0GGK9PH",
        "colab_type": "code",
        "outputId": "ba0c1009-fbd3-49cf-f4b0-84c497a26970",
        "colab": {
          "base_uri": "https://localhost:8080/",
          "height": 68
        }
      },
      "source": [
        "quote='''Einstein once said: \n",
        "\"A clever person solves a problem. \n",
        "A wise person avoids it.\"'''\n",
        "print(quote)"
      ],
      "execution_count": 0,
      "outputs": [
        {
          "output_type": "stream",
          "text": [
            "Einstein once said: \n",
            "\"A clever person solves a problem. \n",
            "A wise person avoids it.\"\n"
          ],
          "name": "stdout"
        }
      ]
    },
    {
      "cell_type": "code",
      "metadata": {
        "id": "HGDWA1nfLa6V",
        "colab_type": "code",
        "colab": {}
      },
      "source": [
        "When using the print() function, the quotes containing the string will be stripped and only their content written. Furthermore, all the spaces present inside the string will be kept. \n",
        "\n",
        "The print() function can also be employed to print different strings together. The function will add the spaces needed between the strings."
      ],
      "execution_count": 0,
      "outputs": []
    },
    {
      "cell_type": "code",
      "metadata": {
        "id": "rcmmOHbZLgSO",
        "colab_type": "code",
        "outputId": "617fed0f-adbc-487b-f1ed-518b30f74b33",
        "colab": {
          "base_uri": "https://localhost:8080/",
          "height": 34
        }
      },
      "source": [
        "print(99,'small','bugs.') "
      ],
      "execution_count": 0,
      "outputs": [
        {
          "output_type": "stream",
          "text": [
            "99 small bugs.\n"
          ],
          "name": "stdout"
        }
      ]
    },
    {
      "cell_type": "markdown",
      "metadata": {
        "id": "MqYIqqKzMeI3",
        "colab_type": "text"
      },
      "source": [
        "Like with integer and float types, it is possible to convert other data type to strings by using the srt() function: "
      ]
    },
    {
      "cell_type": "code",
      "metadata": {
        "id": "_sH2oBvcMfAz",
        "colab_type": "code",
        "outputId": "f053b009-f7f0-4d00-ebd7-5c6e64654a80",
        "colab": {
          "base_uri": "https://localhost:8080/",
          "height": 34
        }
      },
      "source": [
        "str(50.2)"
      ],
      "execution_count": 0,
      "outputs": [
        {
          "output_type": "execute_result",
          "data": {
            "text/plain": [
              "'50.2'"
            ]
          },
          "metadata": {
            "tags": []
          },
          "execution_count": 113
        }
      ]
    },
    {
      "cell_type": "code",
      "metadata": {
        "id": "SZVm2QfIMhSi",
        "colab_type": "code",
        "outputId": "03d48a2b-4e4d-46ae-c841-dbb4897f39ca",
        "colab": {
          "base_uri": "https://localhost:8080/",
          "height": 34
        }
      },
      "source": [
        " str(1.0e2)"
      ],
      "execution_count": 0,
      "outputs": [
        {
          "output_type": "execute_result",
          "data": {
            "text/plain": [
              "'100.0'"
            ]
          },
          "metadata": {
            "tags": []
          },
          "execution_count": 114
        }
      ]
    },
    {
      "cell_type": "code",
      "metadata": {
        "id": "_2TgHjK1MkGj",
        "colab_type": "code",
        "outputId": "6596bd42-fd3e-4dd4-e263-ee0a0537a37b",
        "colab": {
          "base_uri": "https://localhost:8080/",
          "height": 34
        }
      },
      "source": [
        "str(True) "
      ],
      "execution_count": 0,
      "outputs": [
        {
          "output_type": "execute_result",
          "data": {
            "text/plain": [
              "'True'"
            ]
          },
          "metadata": {
            "tags": []
          },
          "execution_count": 115
        }
      ]
    },
    {
      "cell_type": "markdown",
      "metadata": {
        "id": "A5kP2uFbMmu8",
        "colab_type": "text"
      },
      "source": [
        "‘Mathematical’ operations can be performed even with strings, except that results are quite different. "
      ]
    },
    {
      "cell_type": "code",
      "metadata": {
        "id": "MGLRN7_PMnC_",
        "colab_type": "code",
        "outputId": "75dd4a2e-f179-40cb-dbfd-b20233051525",
        "colab": {
          "base_uri": "https://localhost:8080/",
          "height": 34
        }
      },
      "source": [
        "'Release the kraken! '+'No, wait!'"
      ],
      "execution_count": 0,
      "outputs": [
        {
          "output_type": "execute_result",
          "data": {
            "text/plain": [
              "'Release the kraken! No, wait!'"
            ]
          },
          "metadata": {
            "tags": []
          },
          "execution_count": 117
        }
      ]
    },
    {
      "cell_type": "code",
      "metadata": {
        "id": "JaJ7cv6oMtMZ",
        "colab_type": "code",
        "outputId": "f3361d3d-73ea-431c-a971-0bb219dc90ea",
        "colab": {
          "base_uri": "https://localhost:8080/",
          "height": 34
        }
      },
      "source": [
        "'Na'*16+' Batman!' "
      ],
      "execution_count": 0,
      "outputs": [
        {
          "output_type": "execute_result",
          "data": {
            "text/plain": [
              "'NaNaNaNaNaNaNaNaNaNaNaNaNaNaNaNa Batman!'"
            ]
          },
          "metadata": {
            "tags": []
          },
          "execution_count": 118
        }
      ]
    },
    {
      "cell_type": "markdown",
      "metadata": {
        "id": "snEC4HNAM14l",
        "colab_type": "text"
      },
      "source": [
        "When working with strings, addition operation combines several strings into one, whereas the multiplication operation duplicatesthe string. Obviously, they can be used even when the strings are stored into variables. "
      ]
    },
    {
      "cell_type": "code",
      "metadata": {
        "id": "PkHNKmoKM2QI",
        "colab_type": "code",
        "outputId": "89d7d7b2-0d46-4947-b96b-45e2f3df9fea",
        "colab": {
          "base_uri": "https://localhost:8080/",
          "height": 34
        }
      },
      "source": [
        "a='Release '\n",
        "b='the '\n",
        "c='kraken!'\n",
        "a+b+c"
      ],
      "execution_count": 0,
      "outputs": [
        {
          "output_type": "execute_result",
          "data": {
            "text/plain": [
              "'Release the kraken!'"
            ]
          },
          "metadata": {
            "tags": []
          },
          "execution_count": 121
        }
      ]
    },
    {
      "cell_type": "code",
      "metadata": {
        "id": "5IHVNJGkNBk7",
        "colab_type": "code",
        "outputId": "ae0fd459-5799-481b-8c74-a37b6507a82b",
        "colab": {
          "base_uri": "https://localhost:8080/",
          "height": 34
        }
      },
      "source": [
        "print(a+b+c)"
      ],
      "execution_count": 0,
      "outputs": [
        {
          "output_type": "stream",
          "text": [
            "Release the kraken!\n"
          ],
          "name": "stdout"
        }
      ]
    },
    {
      "cell_type": "code",
      "metadata": {
        "id": "X3cymXZuND6F",
        "colab_type": "code",
        "outputId": "c9b3fc83-b6b8-4bb8-f451-9b7fb59a4393",
        "colab": {
          "base_uri": "https://localhost:8080/",
          "height": 34
        }
      },
      "source": [
        "print(a,b,c)"
      ],
      "execution_count": 0,
      "outputs": [
        {
          "output_type": "stream",
          "text": [
            "Release  the  kraken!\n"
          ],
          "name": "stdout"
        }
      ]
    },
    {
      "cell_type": "code",
      "metadata": {
        "id": "wDwPvB3CNHD9",
        "colab_type": "code",
        "outputId": "285505d9-e044-412c-936f-e7a7e109e47b",
        "colab": {
          "base_uri": "https://localhost:8080/",
          "height": 34
        }
      },
      "source": [
        "a='Na'*16\n",
        "b=' Na '\n",
        "c='Batman!'\n",
        "a+c"
      ],
      "execution_count": 0,
      "outputs": [
        {
          "output_type": "execute_result",
          "data": {
            "text/plain": [
              "'NaNaNaNaNaNaNaNaNaNaNaNaNaNaNaNaBatman!'"
            ]
          },
          "metadata": {
            "tags": []
          },
          "execution_count": 130
        }
      ]
    },
    {
      "cell_type": "code",
      "metadata": {
        "id": "TUBDnm1fNP_q",
        "colab_type": "code",
        "outputId": "fa9a05e6-3734-48b5-9b95-7caf902784b0",
        "colab": {
          "base_uri": "https://localhost:8080/",
          "height": 34
        }
      },
      "source": [
        "print(a+b+c)"
      ],
      "execution_count": 0,
      "outputs": [
        {
          "output_type": "stream",
          "text": [
            "NaNaNaNaNaNaNaNaNaNaNaNaNaNaNaNa Na Batman!\n"
          ],
          "name": "stdout"
        }
      ]
    },
    {
      "cell_type": "code",
      "metadata": {
        "id": "fNGJMs1iNtTW",
        "colab_type": "code",
        "outputId": "d51d14fc-4d8c-4040-86fa-ec7db8e4aad3",
        "colab": {
          "base_uri": "https://localhost:8080/",
          "height": 34
        }
      },
      "source": [
        "print(b*16+c)"
      ],
      "execution_count": 0,
      "outputs": [
        {
          "output_type": "stream",
          "text": [
            " Na  Na  Na  Na  Na  Na  Na  Na  Na  Na  Na  Na  Na  Na  Na  Na Batman!\n"
          ],
          "name": "stdout"
        }
      ]
    },
    {
      "cell_type": "code",
      "metadata": {
        "id": "wD2vnSJoNx6_",
        "colab_type": "code",
        "outputId": "f20f11d9-30dd-4655-e8f8-bf52902ca9d1",
        "colab": {
          "base_uri": "https://localhost:8080/",
          "height": 34
        }
      },
      "source": [
        "print(b*16,c)"
      ],
      "execution_count": 0,
      "outputs": [
        {
          "output_type": "stream",
          "text": [
            " Na  Na  Na  Na  Na  Na  Na  Na  Na  Na  Na  Na  Na  Na  Na  Na  Batman!\n"
          ],
          "name": "stdout"
        }
      ]
    },
    {
      "cell_type": "markdown",
      "metadata": {
        "id": "cDK_O6jJPNVf",
        "colab_type": "text"
      },
      "source": [
        "Note that when using print(), spaces are automatically added after each variable, leading to a result different from the one obtained by simply echoing the functions together."
      ]
    },
    {
      "cell_type": "markdown",
      "metadata": {
        "id": "ePmooKJTPQh0",
        "colab_type": "text"
      },
      "source": [
        "It is possible to extract a single character from a string by specifying the position of the desired character, or its offset, starting from 0."
      ]
    },
    {
      "cell_type": "code",
      "metadata": {
        "id": "1IbR643OPSpe",
        "colab_type": "code",
        "outputId": "1d2cb675-20ee-4b5c-f2b5-5d0f9ca8da7b",
        "colab": {
          "base_uri": "https://localhost:8080/",
          "height": 34
        }
      },
      "source": [
        "letters='abcdefghijklmnopqrstuvwxyz'\n",
        "letters[0]"
      ],
      "execution_count": 0,
      "outputs": [
        {
          "output_type": "execute_result",
          "data": {
            "text/plain": [
              "'a'"
            ]
          },
          "metadata": {
            "tags": []
          },
          "execution_count": 134
        }
      ]
    },
    {
      "cell_type": "code",
      "metadata": {
        "id": "JGywdLjqPX_0",
        "colab_type": "code",
        "outputId": "87fc71db-a7af-444a-cb88-08abdc126e0d",
        "colab": {
          "base_uri": "https://localhost:8080/",
          "height": 34
        }
      },
      "source": [
        "letters[2]"
      ],
      "execution_count": 0,
      "outputs": [
        {
          "output_type": "execute_result",
          "data": {
            "text/plain": [
              "'c'"
            ]
          },
          "metadata": {
            "tags": []
          },
          "execution_count": 135
        }
      ]
    },
    {
      "cell_type": "markdown",
      "metadata": {
        "id": "VlSq64XpPas2",
        "colab_type": "text"
      },
      "source": [
        "The last (rightmost) offset can be specified with -1. Using negative values will count the number of characters starting from the right. "
      ]
    },
    {
      "cell_type": "code",
      "metadata": {
        "id": "qOW790f2Pc0g",
        "colab_type": "code",
        "outputId": "31eb4659-3569-454f-c85a-bb702b87ef7b",
        "colab": {
          "base_uri": "https://localhost:8080/",
          "height": 34
        }
      },
      "source": [
        "letters[25]"
      ],
      "execution_count": 0,
      "outputs": [
        {
          "output_type": "execute_result",
          "data": {
            "text/plain": [
              "'z'"
            ]
          },
          "metadata": {
            "tags": []
          },
          "execution_count": 136
        }
      ]
    },
    {
      "cell_type": "code",
      "metadata": {
        "id": "oaILBx6QPeyt",
        "colab_type": "code",
        "outputId": "36cf66b4-8af5-4be6-dc43-52deb54de76d",
        "colab": {
          "base_uri": "https://localhost:8080/",
          "height": 34
        }
      },
      "source": [
        "letters[-1]"
      ],
      "execution_count": 0,
      "outputs": [
        {
          "output_type": "execute_result",
          "data": {
            "text/plain": [
              "'z'"
            ]
          },
          "metadata": {
            "tags": []
          },
          "execution_count": 137
        }
      ]
    },
    {
      "cell_type": "code",
      "metadata": {
        "id": "SB4-JlUGPgQC",
        "colab_type": "code",
        "outputId": "a9dabe52-5f5d-49ae-abd5-094ed8fda278",
        "colab": {
          "base_uri": "https://localhost:8080/",
          "height": 34
        }
      },
      "source": [
        "letters[-2]"
      ],
      "execution_count": 0,
      "outputs": [
        {
          "output_type": "execute_result",
          "data": {
            "text/plain": [
              "'y'"
            ]
          },
          "metadata": {
            "tags": []
          },
          "execution_count": 138
        }
      ]
    },
    {
      "cell_type": "markdown",
      "metadata": {
        "id": "XEiiM6GkPorX",
        "colab_type": "text"
      },
      "source": [
        "If the offset is out of bound, i.e. is too big, you will get an exception."
      ]
    },
    {
      "cell_type": "code",
      "metadata": {
        "id": "bzKq9Z-gPr2z",
        "colab_type": "code",
        "outputId": "a23c1325-dcbe-4dd3-a2f1-b2f9a9d4f2c7",
        "colab": {
          "base_uri": "https://localhost:8080/",
          "height": 163
        }
      },
      "source": [
        "letters[27]"
      ],
      "execution_count": 0,
      "outputs": [
        {
          "output_type": "error",
          "ename": "IndexError",
          "evalue": "ignored",
          "traceback": [
            "\u001b[0;31m---------------------------------------------------------------------------\u001b[0m",
            "\u001b[0;31mIndexError\u001b[0m                                Traceback (most recent call last)",
            "\u001b[0;32m<ipython-input-139-fe3fc03133a4>\u001b[0m in \u001b[0;36m<module>\u001b[0;34m()\u001b[0m\n\u001b[0;32m----> 1\u001b[0;31m \u001b[0mletters\u001b[0m\u001b[0;34m[\u001b[0m\u001b[0;36m27\u001b[0m\u001b[0;34m]\u001b[0m\u001b[0;34m\u001b[0m\u001b[0;34m\u001b[0m\u001b[0m\n\u001b[0m",
            "\u001b[0;31mIndexError\u001b[0m: string index out of range"
          ]
        }
      ]
    },
    {
      "cell_type": "markdown",
      "metadata": {
        "id": "oOu8U7yYPvdF",
        "colab_type": "text"
      },
      "source": [
        "As already mentioned, in Python strings are immutable, so they cannot be directly changed. "
      ]
    },
    {
      "cell_type": "code",
      "metadata": {
        "id": "RneR2goqPwFU",
        "colab_type": "code",
        "outputId": "9fed1ce6-9448-4edd-8060-31067fb55246",
        "colab": {
          "base_uri": "https://localhost:8080/",
          "height": 180
        }
      },
      "source": [
        "name='Henry'\n",
        "name[3]='n' "
      ],
      "execution_count": 0,
      "outputs": [
        {
          "output_type": "error",
          "ename": "TypeError",
          "evalue": "ignored",
          "traceback": [
            "\u001b[0;31m---------------------------------------------------------------------------\u001b[0m",
            "\u001b[0;31mTypeError\u001b[0m                                 Traceback (most recent call last)",
            "\u001b[0;32m<ipython-input-140-542b7ecdab37>\u001b[0m in \u001b[0;36m<module>\u001b[0;34m()\u001b[0m\n\u001b[1;32m      1\u001b[0m \u001b[0mname\u001b[0m\u001b[0;34m=\u001b[0m\u001b[0;34m'Henry'\u001b[0m\u001b[0;34m\u001b[0m\u001b[0;34m\u001b[0m\u001b[0m\n\u001b[0;32m----> 2\u001b[0;31m \u001b[0mname\u001b[0m\u001b[0;34m[\u001b[0m\u001b[0;36m3\u001b[0m\u001b[0;34m]\u001b[0m\u001b[0;34m=\u001b[0m\u001b[0;34m'n'\u001b[0m\u001b[0;34m\u001b[0m\u001b[0;34m\u001b[0m\u001b[0m\n\u001b[0m",
            "\u001b[0;31mTypeError\u001b[0m: 'str' object does not support item assignment"
          ]
        }
      ]
    },
    {
      "cell_type": "markdown",
      "metadata": {
        "id": "YAl4CJ4BP-To",
        "colab_type": "text"
      },
      "source": [
        "However, the character r can be replaced by using the function replace()"
      ]
    },
    {
      "cell_type": "code",
      "metadata": {
        "id": "1bzclCpZP--B",
        "colab_type": "code",
        "outputId": "8e58a555-86b5-448d-87a3-353ff0b55ba2",
        "colab": {
          "base_uri": "https://localhost:8080/",
          "height": 34
        }
      },
      "source": [
        "name.replace('r','n') "
      ],
      "execution_count": 0,
      "outputs": [
        {
          "output_type": "execute_result",
          "data": {
            "text/plain": [
              "'Henny'"
            ]
          },
          "metadata": {
            "tags": []
          },
          "execution_count": 142
        }
      ]
    },
    {
      "cell_type": "markdown",
      "metadata": {
        "id": "ik65XvTMQHee",
        "colab_type": "text"
      },
      "source": [
        "Another way to modify a string variable is to slice it. By slicing a string, it is possible to extract a part of it, a substring, and use it for other operations. The syntax of a slice is the following: \n",
        "\n",
        "• [:] extracts the entire sequence from start to end. \n",
        "\n",
        "• [ start :] specifies from the start offset to the end. \n",
        "\n",
        "• [: end ] specifies from the beginning to the end offset minus 1.\n",
        "\n",
        "• [ start : end ] indicates from the start offset to the end offset minus 1.\n",
        "\n",
        "• [ start : end : step ] extracts from the start offset to the end offset minus 1, skipping characters by step. \n",
        "\n",
        "When [start:] or [:end] are not defined, the function uses the beginning (offset 0) and the end (offset -1) of the string."
      ]
    },
    {
      "cell_type": "code",
      "metadata": {
        "id": "YnWQk_blQTLy",
        "colab_type": "code",
        "colab": {}
      },
      "source": [
        "letters='abcdefghijklmnopqrstuvwxyz'"
      ],
      "execution_count": 0,
      "outputs": []
    },
    {
      "cell_type": "code",
      "metadata": {
        "id": "nhpstSJ-QWTk",
        "colab_type": "code",
        "outputId": "f0e44f3f-97fa-4de3-e6e2-fd32f0e53a62",
        "colab": {
          "base_uri": "https://localhost:8080/",
          "height": 34
        }
      },
      "source": [
        "letters[:]"
      ],
      "execution_count": 0,
      "outputs": [
        {
          "output_type": "execute_result",
          "data": {
            "text/plain": [
              "'abcdefghijklmnopqrstuvwxyz'"
            ]
          },
          "metadata": {
            "tags": []
          },
          "execution_count": 144
        }
      ]
    },
    {
      "cell_type": "code",
      "metadata": {
        "id": "7V8wrT0_QYaJ",
        "colab_type": "code",
        "outputId": "f2ed17f7-9937-457d-fc59-380c57993e52",
        "colab": {
          "base_uri": "https://localhost:8080/",
          "height": 34
        }
      },
      "source": [
        "letters[20:]"
      ],
      "execution_count": 0,
      "outputs": [
        {
          "output_type": "execute_result",
          "data": {
            "text/plain": [
              "'uvwxyz'"
            ]
          },
          "metadata": {
            "tags": []
          },
          "execution_count": 145
        }
      ]
    },
    {
      "cell_type": "code",
      "metadata": {
        "id": "kT_BWmb1Qb0Q",
        "colab_type": "code",
        "outputId": "e23b8669-f747-4541-c808-2657ecaf544e",
        "colab": {
          "base_uri": "https://localhost:8080/",
          "height": 34
        }
      },
      "source": [
        " letters[10:]"
      ],
      "execution_count": 0,
      "outputs": [
        {
          "output_type": "execute_result",
          "data": {
            "text/plain": [
              "'klmnopqrstuvwxyz'"
            ]
          },
          "metadata": {
            "tags": []
          },
          "execution_count": 146
        }
      ]
    },
    {
      "cell_type": "code",
      "metadata": {
        "id": "17u6fAIUQdJN",
        "colab_type": "code",
        "outputId": "e97cf654-af56-4479-a9a6-69e7aa943449",
        "colab": {
          "base_uri": "https://localhost:8080/",
          "height": 34
        }
      },
      "source": [
        " letters[12:15] "
      ],
      "execution_count": 0,
      "outputs": [
        {
          "output_type": "execute_result",
          "data": {
            "text/plain": [
              "'mno'"
            ]
          },
          "metadata": {
            "tags": []
          },
          "execution_count": 147
        }
      ]
    },
    {
      "cell_type": "code",
      "metadata": {
        "id": "L7-UKLE0Qe-D",
        "colab_type": "code",
        "outputId": "f712bb35-2ccd-4355-c96e-2bc935d4769d",
        "colab": {
          "base_uri": "https://localhost:8080/",
          "height": 34
        }
      },
      "source": [
        " letters[-3:] "
      ],
      "execution_count": 0,
      "outputs": [
        {
          "output_type": "execute_result",
          "data": {
            "text/plain": [
              "'xyz'"
            ]
          },
          "metadata": {
            "tags": []
          },
          "execution_count": 148
        }
      ]
    },
    {
      "cell_type": "code",
      "metadata": {
        "id": "NFVtnhlQQgs3",
        "colab_type": "code",
        "outputId": "c360f465-e458-4bfd-bab8-aea7f84041b2",
        "colab": {
          "base_uri": "https://localhost:8080/",
          "height": 34
        }
      },
      "source": [
        " letters[18:-3] "
      ],
      "execution_count": 0,
      "outputs": [
        {
          "output_type": "execute_result",
          "data": {
            "text/plain": [
              "'stuvw'"
            ]
          },
          "metadata": {
            "tags": []
          },
          "execution_count": 149
        }
      ]
    },
    {
      "cell_type": "code",
      "metadata": {
        "id": "A5inPvxQQis1",
        "colab_type": "code",
        "outputId": "0f624dc2-d0f8-4c0c-8861-24babf9d502b",
        "colab": {
          "base_uri": "https://localhost:8080/",
          "height": 34
        }
      },
      "source": [
        " letters[-6:-2] "
      ],
      "execution_count": 0,
      "outputs": [
        {
          "output_type": "execute_result",
          "data": {
            "text/plain": [
              "'uvwx'"
            ]
          },
          "metadata": {
            "tags": []
          },
          "execution_count": 150
        }
      ]
    },
    {
      "cell_type": "code",
      "metadata": {
        "id": "Yk-0VaDTQuu_",
        "colab_type": "code",
        "outputId": "618759ab-aa59-4ef6-a47d-e34dc792d287",
        "colab": {
          "base_uri": "https://localhost:8080/",
          "height": 34
        }
      },
      "source": [
        " letters[::7] "
      ],
      "execution_count": 0,
      "outputs": [
        {
          "output_type": "execute_result",
          "data": {
            "text/plain": [
              "'ahov'"
            ]
          },
          "metadata": {
            "tags": []
          },
          "execution_count": 151
        }
      ]
    },
    {
      "cell_type": "code",
      "metadata": {
        "id": "sJfOkuISQwvk",
        "colab_type": "code",
        "outputId": "b26db479-55b7-49c6-c6b9-a3c7ebd0a432",
        "colab": {
          "base_uri": "https://localhost:8080/",
          "height": 34
        }
      },
      "source": [
        " letters[4:20:3] "
      ],
      "execution_count": 0,
      "outputs": [
        {
          "output_type": "execute_result",
          "data": {
            "text/plain": [
              "'ehknqt'"
            ]
          },
          "metadata": {
            "tags": []
          },
          "execution_count": 152
        }
      ]
    },
    {
      "cell_type": "code",
      "metadata": {
        "id": "IvSpcslQQ2jy",
        "colab_type": "code",
        "outputId": "c38aaf46-dd15-45e2-fc4e-6450681ac342",
        "colab": {
          "base_uri": "https://localhost:8080/",
          "height": 34
        }
      },
      "source": [
        " letters[19::4] "
      ],
      "execution_count": 0,
      "outputs": [
        {
          "output_type": "execute_result",
          "data": {
            "text/plain": [
              "'tx'"
            ]
          },
          "metadata": {
            "tags": []
          },
          "execution_count": 153
        }
      ]
    },
    {
      "cell_type": "code",
      "metadata": {
        "id": "FLrlLZUtQ4Q7",
        "colab_type": "code",
        "outputId": "5d6ea0cc-1147-41f5-d0b5-520717c5a69b",
        "colab": {
          "base_uri": "https://localhost:8080/",
          "height": 34
        }
      },
      "source": [
        " letters[:21:5] "
      ],
      "execution_count": 0,
      "outputs": [
        {
          "output_type": "execute_result",
          "data": {
            "text/plain": [
              "'afkpu'"
            ]
          },
          "metadata": {
            "tags": []
          },
          "execution_count": 154
        }
      ]
    },
    {
      "cell_type": "code",
      "metadata": {
        "id": "slnxi75UQ7FH",
        "colab_type": "code",
        "outputId": "2a65e913-2065-4f57-ef8f-8e15e59bbe86",
        "colab": {
          "base_uri": "https://localhost:8080/",
          "height": 34
        }
      },
      "source": [
        " letters[-1::-1] "
      ],
      "execution_count": 0,
      "outputs": [
        {
          "output_type": "execute_result",
          "data": {
            "text/plain": [
              "'zyxwvutsrqponmlkjihgfedcba'"
            ]
          },
          "metadata": {
            "tags": []
          },
          "execution_count": 156
        }
      ]
    },
    {
      "cell_type": "code",
      "metadata": {
        "id": "qP25V3zKQ-2G",
        "colab_type": "code",
        "outputId": "11eb8609-0f90-42e7-fc5a-2f9d00c38387",
        "colab": {
          "base_uri": "https://localhost:8080/",
          "height": 34
        }
      },
      "source": [
        "letters[::-1]"
      ],
      "execution_count": 0,
      "outputs": [
        {
          "output_type": "execute_result",
          "data": {
            "text/plain": [
              "'zyxwvutsrqponmlkjihgfedcba'"
            ]
          },
          "metadata": {
            "tags": []
          },
          "execution_count": 157
        }
      ]
    },
    {
      "cell_type": "code",
      "metadata": {
        "id": "nyRcDWU3RCMm",
        "colab_type": "code",
        "outputId": "6770b1bc-7b24-447c-e5f5-80791c997d01",
        "colab": {
          "base_uri": "https://localhost:8080/",
          "height": 34
        }
      },
      "source": [
        " letters[-50:] "
      ],
      "execution_count": 0,
      "outputs": [
        {
          "output_type": "execute_result",
          "data": {
            "text/plain": [
              "'abcdefghijklmnopqrstuvwxyz'"
            ]
          },
          "metadata": {
            "tags": []
          },
          "execution_count": 158
        }
      ]
    },
    {
      "cell_type": "code",
      "metadata": {
        "id": "mW1xDlYiREhj",
        "colab_type": "code",
        "outputId": "7b20a843-aa6b-4c8a-8825-537c76f27101",
        "colab": {
          "base_uri": "https://localhost:8080/",
          "height": 34
        }
      },
      "source": [
        " letters[-51:-50] "
      ],
      "execution_count": 0,
      "outputs": [
        {
          "output_type": "execute_result",
          "data": {
            "text/plain": [
              "''"
            ]
          },
          "metadata": {
            "tags": []
          },
          "execution_count": 159
        }
      ]
    },
    {
      "cell_type": "markdown",
      "metadata": {
        "id": "oY_Oe3G9V5kQ",
        "colab_type": "text"
      },
      "source": [
        "Python has a lot of built-in functions to operate with strings. In the following you find some of them:\n",
        "\n",
        "• Len(): counts the number of characters in a string."
      ]
    },
    {
      "cell_type": "code",
      "metadata": {
        "id": "8PPhB8QoV6YW",
        "colab_type": "code",
        "outputId": "f4785968-4de8-45fc-cb98-02273e7997ac",
        "colab": {
          "base_uri": "https://localhost:8080/",
          "height": 34
        }
      },
      "source": [
        "letters='abcdefghijklmnopqrstuvwxyz'\n",
        "len(letters)"
      ],
      "execution_count": 0,
      "outputs": [
        {
          "output_type": "execute_result",
          "data": {
            "text/plain": [
              "26"
            ]
          },
          "metadata": {
            "tags": []
          },
          "execution_count": 165
        }
      ]
    },
    {
      "cell_type": "code",
      "metadata": {
        "id": "0PanqzCdWCN0",
        "colab_type": "code",
        "outputId": "a0ac8a65-a2ff-4a33-9d41-9ef9e5eafd47",
        "colab": {
          "base_uri": "https://localhost:8080/",
          "height": 34
        }
      },
      "source": [
        "empty=''\n",
        "len(empty)"
      ],
      "execution_count": 0,
      "outputs": [
        {
          "output_type": "execute_result",
          "data": {
            "text/plain": [
              "0"
            ]
          },
          "metadata": {
            "tags": []
          },
          "execution_count": 161
        }
      ]
    },
    {
      "cell_type": "markdown",
      "metadata": {
        "id": "Pv7B8qjzWHNs",
        "colab_type": "text"
      },
      "source": [
        "• Split(): breaks a string into a number of smaller strings based on a separator."
      ]
    },
    {
      "cell_type": "code",
      "metadata": {
        "id": "155_xG9WWH7X",
        "colab_type": "code",
        "outputId": "3eef2cfa-ff39-4252-a95d-61e7a6badfad",
        "colab": {
          "base_uri": "https://localhost:8080/",
          "height": 34
        }
      },
      "source": [
        "bat= 'NaNaNaNaNaNaNaNaNaNaNaNaNaNaNaNa, Batman!'\n",
        "bat.split(',')"
      ],
      "execution_count": 0,
      "outputs": [
        {
          "output_type": "execute_result",
          "data": {
            "text/plain": [
              "['NaNaNaNaNaNaNaNaNaNaNaNaNaNaNaNa', ' Batman!']"
            ]
          },
          "metadata": {
            "tags": []
          },
          "execution_count": 163
        }
      ]
    },
    {
      "cell_type": "code",
      "metadata": {
        "id": "h5owIAnHWR_6",
        "colab_type": "code",
        "outputId": "f5281440-3951-4c0c-f8a0-3ed395916a13",
        "colab": {
          "base_uri": "https://localhost:8080/",
          "height": 34
        }
      },
      "source": [
        "bat.split(' ')"
      ],
      "execution_count": 0,
      "outputs": [
        {
          "output_type": "execute_result",
          "data": {
            "text/plain": [
              "['NaNaNaNaNaNaNaNaNaNaNaNaNaNaNaNa,', 'Batman!']"
            ]
          },
          "metadata": {
            "tags": []
          },
          "execution_count": 164
        }
      ]
    },
    {
      "cell_type": "markdown",
      "metadata": {
        "id": "1w_3kMmaW-nP",
        "colab_type": "text"
      },
      "source": [
        "In case no separator is provided, the split() function uses any sequent of white space characters (i.e. newlines, spaces and tabs) to split the string. "
      ]
    },
    {
      "cell_type": "code",
      "metadata": {
        "id": "i9zh1HAUXgC2",
        "colab_type": "code",
        "outputId": "56105351-d699-4852-9878-32aa525f63d5",
        "colab": {
          "base_uri": "https://localhost:8080/",
          "height": 34
        }
      },
      "source": [
        "bat.split()"
      ],
      "execution_count": 0,
      "outputs": [
        {
          "output_type": "execute_result",
          "data": {
            "text/plain": [
              "['NaNaNaNaNaNaNaNaNaNaNaNaNaNaNaNa,', 'Batman!']"
            ]
          },
          "metadata": {
            "tags": []
          },
          "execution_count": 167
        }
      ]
    },
    {
      "cell_type": "markdown",
      "metadata": {
        "id": "FwoVhMkDXmzD",
        "colab_type": "text"
      },
      "source": [
        "• Join(): fuses several strings into a single one using the specified string or character as glue."
      ]
    },
    {
      "cell_type": "code",
      "metadata": {
        "id": "zWfXhkzTXpXj",
        "colab_type": "code",
        "outputId": "14712293-8d44-4a59-c1f9-bbe1020618b8",
        "colab": {
          "base_uri": "https://localhost:8080/",
          "height": 34
        }
      },
      "source": [
        "crypto_list= ['Yeti', 'Bigfoot','Loch Ness Monster'] \n",
        "crypto_string= ', '.join(crypto_list) \n",
        "print('Found and signing book deals:',crypto_string) "
      ],
      "execution_count": 0,
      "outputs": [
        {
          "output_type": "stream",
          "text": [
            "Found and signing book deals: Yeti, Bigfoot, Loch Ness Monster\n"
          ],
          "name": "stdout"
        }
      ]
    },
    {
      "cell_type": "markdown",
      "metadata": {
        "id": "hoSzeG2BX5qt",
        "colab_type": "text"
      },
      "source": [
        "• Find(): looks for the specified string and returns the offset of its first occurrence."
      ]
    },
    {
      "cell_type": "code",
      "metadata": {
        "id": "A5RsnY9NX6Y_",
        "colab_type": "code",
        "outputId": "bc7e8847-3e0a-43ec-9f00-42a38426b2e5",
        "colab": {
          "base_uri": "https://localhost:8080/",
          "height": 34
        }
      },
      "source": [
        "bat='NaNaNaNaNaNaNaNaNaNaNaNaNaNaNaNa, Batman!'\n",
        "bat.find('Na')"
      ],
      "execution_count": 0,
      "outputs": [
        {
          "output_type": "execute_result",
          "data": {
            "text/plain": [
              "0"
            ]
          },
          "metadata": {
            "tags": []
          },
          "execution_count": 170
        }
      ]
    },
    {
      "cell_type": "markdown",
      "metadata": {
        "id": "KhVhdCAEYC7W",
        "colab_type": "text"
      },
      "source": [
        "• Rfind(): does the same thing as find(), but returns the offset of the last occurrence of the specified."
      ]
    },
    {
      "cell_type": "code",
      "metadata": {
        "id": "A8vID9d1YDak",
        "colab_type": "code",
        "outputId": "cfa61483-740c-4023-f249-831c95d46986",
        "colab": {
          "base_uri": "https://localhost:8080/",
          "height": 34
        }
      },
      "source": [
        "bat.rfind('Na')"
      ],
      "execution_count": 0,
      "outputs": [
        {
          "output_type": "execute_result",
          "data": {
            "text/plain": [
              "30"
            ]
          },
          "metadata": {
            "tags": []
          },
          "execution_count": 171
        }
      ]
    },
    {
      "cell_type": "markdown",
      "metadata": {
        "id": "yuyXOeFBYywg",
        "colab_type": "text"
      },
      "source": [
        "• Count(): counts the number of occurrence of the specified string."
      ]
    },
    {
      "cell_type": "code",
      "metadata": {
        "id": "dRaasYDeYvDV",
        "colab_type": "code",
        "outputId": "1dfec0bd-141e-4c24-f7cb-72532cfb2b7a",
        "colab": {
          "base_uri": "https://localhost:8080/",
          "height": 34
        }
      },
      "source": [
        "bat.count('Na') "
      ],
      "execution_count": 0,
      "outputs": [
        {
          "output_type": "execute_result",
          "data": {
            "text/plain": [
              "16"
            ]
          },
          "metadata": {
            "tags": []
          },
          "execution_count": 173
        }
      ]
    },
    {
      "cell_type": "markdown",
      "metadata": {
        "id": "I9pZ4bgqY3w4",
        "colab_type": "text"
      },
      "source": [
        "• Strip(): removes the specified string from both end of your variable."
      ]
    },
    {
      "cell_type": "code",
      "metadata": {
        "id": "undqCP8sY6Rv",
        "colab_type": "code",
        "outputId": "91605d74-67aa-43db-bad7-2e15b01859b1",
        "colab": {
          "base_uri": "https://localhost:8080/",
          "height": 34
        }
      },
      "source": [
        "bat.strip('!') "
      ],
      "execution_count": 0,
      "outputs": [
        {
          "output_type": "execute_result",
          "data": {
            "text/plain": [
              "'NaNaNaNaNaNaNaNaNaNaNaNaNaNaNaNa, Batman'"
            ]
          },
          "metadata": {
            "tags": []
          },
          "execution_count": 175
        }
      ]
    },
    {
      "cell_type": "markdown",
      "metadata": {
        "id": "Ehgy-OBOZTvm",
        "colab_type": "text"
      },
      "source": [
        "• Replace(): substitutes a part of a string with the specified one. It is possible to specify the number of times this substitution must be performed."
      ]
    },
    {
      "cell_type": "code",
      "metadata": {
        "id": "D0HtsB5xZWOJ",
        "colab_type": "code",
        "outputId": "bf6e6d80-2ae6-40c6-e4c5-cfcab16b4a86",
        "colab": {
          "base_uri": "https://localhost:8080/",
          "height": 34
        }
      },
      "source": [
        "bat.replace('Na','Ba',1) "
      ],
      "execution_count": 0,
      "outputs": [
        {
          "output_type": "execute_result",
          "data": {
            "text/plain": [
              "'BaNaNaNaNaNaNaNaNaNaNaNaNaNaNaNa, Batman!'"
            ]
          },
          "metadata": {
            "tags": []
          },
          "execution_count": 177
        }
      ]
    },
    {
      "cell_type": "markdown",
      "metadata": {
        "id": "pJPa5B-0Zbqu",
        "colab_type": "text"
      },
      "source": [
        "If the final count argument is omitted, the replace() functions will replace all instances of the specified string. "
      ]
    },
    {
      "cell_type": "code",
      "metadata": {
        "id": "3EbTRxuqZcG4",
        "colab_type": "code",
        "outputId": "b2bbe8cb-ba95-4de7-ed92-7899dc225c3b",
        "colab": {
          "base_uri": "https://localhost:8080/",
          "height": 34
        }
      },
      "source": [
        " bat.replace('Na','Ba') "
      ],
      "execution_count": 0,
      "outputs": [
        {
          "output_type": "execute_result",
          "data": {
            "text/plain": [
              "'BaBaBaBaBaBaBaBaBaBaBaBaBaBaBaBa, Batman!'"
            ]
          },
          "metadata": {
            "tags": []
          },
          "execution_count": 178
        }
      ]
    },
    {
      "cell_type": "markdown",
      "metadata": {
        "id": "Kn46vCb4Zglz",
        "colab_type": "text"
      },
      "source": [
        "Be careful with the string you use for your substitution. Replace() looks for the perfect match of the specified string and replace it with another one. "
      ]
    },
    {
      "cell_type": "code",
      "metadata": {
        "id": "Pj21qT1PZg8G",
        "colab_type": "code",
        "outputId": "a908b23e-c3c3-48e0-9e77-2d96b27d5d1e",
        "colab": {
          "base_uri": "https://localhost:8080/",
          "height": 34
        }
      },
      "source": [
        "bat.replace('Na,','Ba')"
      ],
      "execution_count": 0,
      "outputs": [
        {
          "output_type": "execute_result",
          "data": {
            "text/plain": [
              "'NaNaNaNaNaNaNaNaNaNaNaNaNaNaNaBa Batman!'"
            ]
          },
          "metadata": {
            "tags": []
          },
          "execution_count": 179
        }
      ]
    },
    {
      "cell_type": "code",
      "metadata": {
        "id": "oYhRE6frZniX",
        "colab_type": "code",
        "outputId": "7b6a255f-08d9-41ab-b6c1-285137023729",
        "colab": {
          "base_uri": "https://localhost:8080/",
          "height": 34
        }
      },
      "source": [
        "bat.replace('an','ab') "
      ],
      "execution_count": 0,
      "outputs": [
        {
          "output_type": "execute_result",
          "data": {
            "text/plain": [
              "'NaNaNaNaNaNaNaNaNaNaNaNaNaNaNaNa, Batmab!'"
            ]
          },
          "metadata": {
            "tags": []
          },
          "execution_count": 181
        }
      ]
    },
    {
      "cell_type": "markdown",
      "metadata": {
        "id": "m6VvC-WsZ1pQ",
        "colab_type": "text"
      },
      "source": [
        "Because strings are immutable, none of these examples actually changes the setup string. Each example just takes the value ofsetup, does something to it, and returns the result as a new string."
      ]
    }
  ]
}