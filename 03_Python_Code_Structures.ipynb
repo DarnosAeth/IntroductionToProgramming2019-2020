{
  "nbformat": 4,
  "nbformat_minor": 0,
  "metadata": {
    "colab": {
      "name": "Python - Code Structures",
      "provenance": [],
      "collapsed_sections": [],
      "include_colab_link": true
    },
    "kernelspec": {
      "name": "python3",
      "display_name": "Python 3"
    }
  },
  "cells": [
    {
      "cell_type": "markdown",
      "metadata": {
        "id": "view-in-github",
        "colab_type": "text"
      },
      "source": [
        "<a href=\"https://colab.research.google.com/github/DarnosAeth/IntroductionToProgramming2019-2020/blob/master/03_Python_Code_Structures.ipynb\" target=\"_parent\"><img src=\"https://colab.research.google.com/assets/colab-badge.svg\" alt=\"Open In Colab\"/></a>"
      ]
    },
    {
      "cell_type": "markdown",
      "metadata": {
        "id": "hWjTyGctzMqD",
        "colab_type": "text"
      },
      "source": [
        "#Code Structures\n",
        "\n",
        "At variance with other programming languages, Python does not use symbols to define the end of each line. Instead, it uses spaces and indentation, which are a structural part of the code. Here an example:"
      ]
    },
    {
      "cell_type": "code",
      "metadata": {
        "id": "lxoRGZOX17bS",
        "colab_type": "code",
        "outputId": "cf83595f-c4ed-4da5-ec43-03c24f9f21b1",
        "colab": {
          "base_uri": "https://localhost:8080/",
          "height": 34
        }
      },
      "source": [
        "# I am Python\n",
        "disaster= True\n",
        "if disaster:\n",
        "  print('Woe!')\n",
        "else:\n",
        "  print('Chill')\n"
      ],
      "execution_count": 0,
      "outputs": [
        {
          "output_type": "stream",
          "text": [
            "Woe!\n"
          ],
          "name": "stdout"
        }
      ]
    },
    {
      "cell_type": "markdown",
      "metadata": {
        "colab_type": "text",
        "id": "CJg-c0Fz2z__"
      },
      "source": [
        "I am Perl \n",
        "\n",
        "my disaster= True;\n",
        "\n",
        "if(disaster){\n",
        "\n",
        "print“Woe!”;\n",
        "\n",
        "}else{\n",
        "\n",
        "print“Chill”;\n",
        "\n",
        "}\n",
        "\n",
        "Woe!\n"
      ]
    },
    {
      "cell_type": "markdown",
      "metadata": {
        "id": "5heITJyX2avL",
        "colab_type": "text"
      },
      "source": [
        "In this case, we are comparing Python with Perl, another popular programming language. As you can see, Perl requires semicolon at the end of each line, otherwise it generates an error. Furthermore, the if statement requires curly brackets, which are absent in Python.\n",
        "\n",
        "The # symbol, or octothorpe(also called hash), is used when printing a comment: a piece of text ignored by the program. Comments are useful to make notes of the function of pieces of code, things to fix, etc.\n"
      ]
    },
    {
      "cell_type": "markdown",
      "metadata": {
        "id": "PMJbymwx2osL",
        "colab_type": "text"
      },
      "source": [
        "The ‘if’ statement is one of the most important code structures in every programming language.\n",
        "\n",
        "Its function is to check for a condition and, if it is fulfilled, do something. If the condition is not respected, then something else may happen, depending on the presence of the ‘else’ statement."
      ]
    },
    {
      "cell_type": "code",
      "metadata": {
        "id": "iDFjOsHv2sfr",
        "colab_type": "code",
        "colab": {}
      },
      "source": [
        "# I am Python\n",
        "disaster= True\n",
        "if disaster:\n",
        "  print('Woe!')\n",
        "else:\n",
        "  print('Chill')"
      ],
      "execution_count": 0,
      "outputs": []
    },
    {
      "cell_type": "markdown",
      "metadata": {
        "id": "LewSCk8I2tvN",
        "colab_type": "text"
      },
      "source": [
        "When statements like ‘if’ and ‘else’ are used, the following pieces of code must be indented.\n",
        "\n",
        "The indentation has the same function of the curly brackets in Perl: it defines the beginning and the end of the statement itself. \n",
        "\n",
        "The recommended style is to use four spaces of indentation.\n"
      ]
    },
    {
      "cell_type": "markdown",
      "metadata": {
        "id": "o9cXZxrm26Xc",
        "colab_type": "text"
      },
      "source": [
        "# If...Else\n",
        "\n",
        "When multiple ‘if…else’ statements are present, the corresponding line must have the same indentation, whereas lines belonging to different ‘if’ and ‘else’ states must have different indentations."
      ]
    },
    {
      "cell_type": "code",
      "metadata": {
        "id": "FujX2v3z3Byb",
        "colab_type": "code",
        "outputId": "af8e0558-9aaf-46ba-c0e9-bfd15dc080a0",
        "colab": {
          "base_uri": "https://localhost:8080/",
          "height": 34
        }
      },
      "source": [
        "furry= True\n",
        "small= True\n",
        "if furry:\n",
        "  if small:\n",
        "    print(\"It's a cat.\")\n",
        "  else:\n",
        "    print(\"It's a bear!\")\n",
        "else:\n",
        "  if small:\n",
        "    print(\"It's a skink!\")\n",
        "  else:\n",
        "    print(\"It's a human. Or a hairless bear.\")\n"
      ],
      "execution_count": 0,
      "outputs": [
        {
          "output_type": "stream",
          "text": [
            "It's a cat.\n"
          ],
          "name": "stdout"
        }
      ]
    },
    {
      "cell_type": "markdown",
      "metadata": {
        "id": "xflKUeof3Ufj",
        "colab_type": "text"
      },
      "source": [
        "If there are more then two possibilities to test, we can also use the ‘elif’ statement."
      ]
    },
    {
      "cell_type": "code",
      "metadata": {
        "id": "_XSBZ7tN3WKU",
        "colab_type": "code",
        "outputId": "cd6f3f2f-d50f-4d3f-9c1c-b513d04bc23b",
        "colab": {
          "base_uri": "https://localhost:8080/",
          "height": 34
        }
      },
      "source": [
        "furry= True\n",
        "small= True\n",
        "bald=False\n",
        "if furry:\n",
        "  if small:\n",
        "    print(\"It's still a cat.\")\n",
        "  else:\n",
        "    print(\"It's a bear!\")\n",
        "elif bald:\n",
        "  if small:\n",
        "    print(\"It's a skinny pig!\")\n",
        "  else:\n",
        "    print('It’s a hairless bear!')\n",
        "else:\n",
        "  print(\"It's a human!\")\n",
        "  "
      ],
      "execution_count": 0,
      "outputs": [
        {
          "output_type": "stream",
          "text": [
            "It's still a cat.\n"
          ],
          "name": "stdout"
        }
      ]
    },
    {
      "cell_type": "markdown",
      "metadata": {
        "id": "fsKJ_Sxp300u",
        "colab_type": "text"
      },
      "source": [
        "‘if…else’ statements are best used for doing comparisons. Python, like all programming languages, has a set of comparison operators:\n",
        "\n",
        "• Equality operator == (not =, which is used for assigning values to variables) \n",
        "\n",
        "• Inequality operator != \n",
        "\n",
        "• Less than < \n",
        "\n",
        "• Less than or equal <= \n",
        "\n",
        "• Greater than > \n",
        "\n",
        "• Greater than or equal >= \n",
        "\n",
        "• Membership in …\n",
        "\n",
        "If the comparison is True, then the program goes inside the ‘if’ statement. If it is False, the programs goes to the next else ‘statement’ or it simply ignores the ‘if’ part of the code."
      ]
    },
    {
      "cell_type": "markdown",
      "metadata": {
        "id": "Lukw5vZy3-NO",
        "colab_type": "text"
      },
      "source": [
        "Let us see a couple of examples of comparison operators applied to ‘if…else’ statements. "
      ]
    },
    {
      "cell_type": "code",
      "metadata": {
        "id": "PTyLV3e63_A1",
        "colab_type": "code",
        "outputId": "c693b36a-032c-4289-baa6-d75eb3501fee",
        "colab": {
          "base_uri": "https://localhost:8080/",
          "height": 34
        }
      },
      "source": [
        "color='puce'\n",
        "if color=='red':\n",
        "  print(\"It's a tomato\")\n",
        "elif color==\"green\":\n",
        "  print(\"It's a green pepper\")\n",
        "elif color== \"bee purple\":\n",
        "  print(\"I don't know what it is, but only bees can see it\")\n",
        "else:\n",
        "  print(\"I've never heard of the color\", color)"
      ],
      "execution_count": 0,
      "outputs": [
        {
          "output_type": "stream",
          "text": [
            "I've never heard of the color puce\n"
          ],
          "name": "stdout"
        }
      ]
    },
    {
      "cell_type": "code",
      "metadata": {
        "id": "ryMDpBKB4lpF",
        "colab_type": "code",
        "outputId": "74d257ac-8d55-41b3-dc3b-120ed39a5bec",
        "colab": {
          "base_uri": "https://localhost:8080/",
          "height": 34
        }
      },
      "source": [
        "vowels='aeiou'\n",
        "letter='o'\n",
        "letter in vowels\n",
        "True"
      ],
      "execution_count": 0,
      "outputs": [
        {
          "output_type": "execute_result",
          "data": {
            "text/plain": [
              "True"
            ]
          },
          "metadata": {
            "tags": []
          },
          "execution_count": 7
        }
      ]
    },
    {
      "cell_type": "code",
      "metadata": {
        "id": "AXJGl1Hl4wj9",
        "colab_type": "code",
        "outputId": "85869368-7f39-4ad6-d7b1-3b6a5c9d387c",
        "colab": {
          "base_uri": "https://localhost:8080/",
          "height": 34
        }
      },
      "source": [
        "if letter in vowels:\n",
        "  print(letter, 'is a vowel') "
      ],
      "execution_count": 0,
      "outputs": [
        {
          "output_type": "stream",
          "text": [
            "o is a vowel\n"
          ],
          "name": "stdout"
        }
      ]
    },
    {
      "cell_type": "markdown",
      "metadata": {
        "id": "9wyhqRqG43Ou",
        "colab_type": "text"
      },
      "source": [
        "Whenever you need to make a lot of comparison in a ‘if’ or ‘elif’ statement, the booleanoperators ‘and’, ‘or’ and ‘not’ must be used. \n",
        "\n",
        "These operators have the lower precedence, meaning that all the other operations are performed first and then they are compared via these operators.\n"
      ]
    },
    {
      "cell_type": "code",
      "metadata": {
        "id": "r_84MDYE454m",
        "colab_type": "code",
        "outputId": "756c39e6-f858-481d-d26d-a8a489ecca7e",
        "colab": {
          "base_uri": "https://localhost:8080/",
          "height": 34
        }
      },
      "source": [
        "letter='o'\n",
        "if letter=='a' or letter=='e' or letter=='i' \\\n",
        "or letter=='o' or letter=='u':\n",
        "  print(letter,'is a vowel')\n",
        "else:\n",
        "  print(letter,'is not a vowel')\n",
        "  "
      ],
      "execution_count": 0,
      "outputs": [
        {
          "output_type": "stream",
          "text": [
            "o is a vowel\n"
          ],
          "name": "stdout"
        }
      ]
    },
    {
      "cell_type": "code",
      "metadata": {
        "id": "wCxfuV885Kns",
        "colab_type": "code",
        "outputId": "c32ee086-9e71-4e87-e7e0-b3cbdf438663",
        "colab": {
          "base_uri": "https://localhost:8080/",
          "height": 34
        }
      },
      "source": [
        "number=42\n",
        "if number<=10 and number !=0:\n",
        "  print(number, 'is a non-zero number lower than or equal to 10')\n",
        "elif number > 9000:\n",
        "  print(number, 'it’s over nine thousand!')\n",
        "elif number > 40 or number == 40: \n",
        "  if number == 42:\n",
        "    print(number, 'is the meaning of life')\n",
        "  else:\n",
        "    print(number, 'is a number greater than or equal to 40')\n",
        "else:\n",
        "  print(number, 'May the wind under your wings bear you where the sun sails') "
      ],
      "execution_count": 0,
      "outputs": [
        {
          "output_type": "stream",
          "text": [
            "42 is the meaning of life\n"
          ],
          "name": "stdout"
        }
      ]
    },
    {
      "cell_type": "markdown",
      "metadata": {
        "id": "XE9sDU0adb6v",
        "colab_type": "text"
      },
      "source": [
        "Other than the False booleanoperator, other variables or conditions are considered as ‘false’ value by Python. \n",
        "\n",
        "• Boolean False \n",
        "\n",
        "• Null None \n",
        "\n",
        "• Zero integer 0 \n",
        "\n",
        "• Zero float 0.0 \n",
        "\n",
        "• Empty string ‘’ \n",
        "\n",
        "• Empty list []\n",
        "\n",
        "• Empty touple () \n",
        "\n",
        "• Empty  dict {}"
      ]
    },
    {
      "cell_type": "code",
      "metadata": {
        "id": "-JZGhI9BdfZr",
        "colab_type": "code",
        "outputId": "a0aa2b09-308c-43a6-9ce1-4d8c0602ddc3",
        "colab": {
          "base_uri": "https://localhost:8080/",
          "height": 34
        }
      },
      "source": [
        "some_list=[]\n",
        "if some_list:\n",
        "  print(\"There's something in here\")\n",
        "else:\n",
        "  print(\"Hey, it's empty!\")\n",
        "  "
      ],
      "execution_count": 0,
      "outputs": [
        {
          "output_type": "stream",
          "text": [
            "Hey, it's empty!\n"
          ],
          "name": "stdout"
        }
      ]
    },
    {
      "cell_type": "markdown",
      "metadata": {
        "id": "0hiMf_3qdqos",
        "colab_type": "text"
      },
      "source": [
        "# While loop\n",
        "\n",
        "Another important code structure present in most of the modern programming languages is the while loop.\n",
        "\n",
        "A loop is a piece of code that repeats the same instruction until a certain condition is true.\n"
      ]
    },
    {
      "cell_type": "code",
      "metadata": {
        "id": "hBjXt2LbdtOq",
        "colab_type": "code",
        "outputId": "6180a269-8ef0-441e-b608-9ca378a0ee6c",
        "colab": {
          "base_uri": "https://localhost:8080/",
          "height": 105
        }
      },
      "source": [
        "count= 1\n",
        "while count<=5:\n",
        "  print(count)\n",
        "  count+=1"
      ],
      "execution_count": 0,
      "outputs": [
        {
          "output_type": "stream",
          "text": [
            "1\n",
            "2\n",
            "3\n",
            "4\n",
            "5\n"
          ],
          "name": "stdout"
        }
      ]
    },
    {
      "cell_type": "markdown",
      "metadata": {
        "id": "lMhVeex9eCi6",
        "colab_type": "text"
      },
      "source": [
        "Sometimes, we want to be able to ‘break’ a loop even if its condition is still true. \n",
        "\n",
        "This is especially useful when working with infinite loops: loops that are always true.\n"
      ]
    },
    {
      "cell_type": "code",
      "metadata": {
        "id": "DzI-VQ8oeEvc",
        "colab_type": "code",
        "outputId": "619ff239-0b9d-4086-f30d-123648880e21",
        "colab": {
          "base_uri": "https://localhost:8080/",
          "height": 141
        }
      },
      "source": [
        "while True:\n",
        "  stuff=input(\"String to capitalize [type q to quit]: \")\n",
        "  if stuff==\"q\":\n",
        "    break\n",
        "  print(stuff.capitalize())\n",
        "  "
      ],
      "execution_count": 0,
      "outputs": [
        {
          "output_type": "stream",
          "text": [
            "String to capitalize [type q to quit]: gold\n",
            "Gold\n",
            "String to capitalize [type q to quit]: volleyball\n",
            "Volleyball\n",
            "String to capitalize [type q to quit]: Pokemon\n",
            "Pokemon\n",
            "String to capitalize [type q to quit]: q\n"
          ],
          "name": "stdout"
        }
      ]
    },
    {
      "cell_type": "markdown",
      "metadata": {
        "id": "5UjRddSgeU-c",
        "colab_type": "text"
      },
      "source": [
        "Break is useful with finite loops, too. In these cases, however, you may want to add additional pieces of codes to run when the loop is terminated, but something unexpected happened.\n"
      ]
    },
    {
      "cell_type": "code",
      "metadata": {
        "id": "uaXdaCcpgwld",
        "colab_type": "code",
        "outputId": "3913a02c-3c67-436d-beba-06965faa3dcc",
        "colab": {
          "base_uri": "https://localhost:8080/",
          "height": 34
        }
      },
      "source": [
        "numbers=[1, 3, 5] \n",
        "position= 0\n",
        "while position < len(numbers):\n",
        "  number= numbers[position]\n",
        "  if number % 2== 0:\n",
        "    print('Found even number', number)\n",
        "    break\n",
        "  position+= 1\n",
        "else:  # break not called\n",
        "  print('No even number found')\n"
      ],
      "execution_count": 0,
      "outputs": [
        {
          "output_type": "stream",
          "text": [
            "No even number found\n"
          ],
          "name": "stdout"
        }
      ]
    },
    {
      "cell_type": "markdown",
      "metadata": {
        "id": "vA12kDFvhZTl",
        "colab_type": "text"
      },
      "source": [
        "In other cases, instead of breaking a loop we may want to skip an iteration and go to the next one. \n",
        "\n",
        "This is done by using the ‘continue’ keyword"
      ]
    },
    {
      "cell_type": "code",
      "metadata": {
        "id": "A7b0KBMkhcHl",
        "colab_type": "code",
        "outputId": "52155522-6f95-4b49-bc2a-253f782f124a",
        "colab": {
          "base_uri": "https://localhost:8080/",
          "height": 87
        }
      },
      "source": [
        "while True: \n",
        "  value= input(\"Integer, please [q to quit]: \")\n",
        "  if value== 'q': # quit\n",
        "    break\n",
        "  number= int(value)\n",
        "  if number % 2== 0:  # an even number\n",
        "    continue\n",
        "  print(number, \"squared is\", number*number)"
      ],
      "execution_count": 0,
      "outputs": [
        {
          "output_type": "stream",
          "text": [
            "Integer, please [q to quit]: 1\n",
            "1 squared is 1\n",
            "Integer, please [q to quit]: 2\n",
            "Integer, please [q to quit]: q\n"
          ],
          "name": "stdout"
        }
      ]
    },
    {
      "cell_type": "markdown",
      "metadata": {
        "id": "ZkQC_rS6iIe1",
        "colab_type": "text"
      },
      "source": [
        "# For loop\n",
        "\n",
        "Another type of loop is the ‘for’ loop.\n",
        "\n",
        "The ‘for’ loop is especially useful when working with iterableobjects, like strings, tuples and dictionaries. "
      ]
    },
    {
      "cell_type": "code",
      "metadata": {
        "id": "dtre_2XeiMy2",
        "colab_type": "code",
        "outputId": "9808aa45-c0ad-4ee1-8259-afc45f4268aa",
        "colab": {
          "base_uri": "https://localhost:8080/",
          "height": 70
        }
      },
      "source": [
        "starters = ['bulbasaur','charmander','squirtle']\n",
        "for pokemon in starters:\n",
        "  print(pokemon)"
      ],
      "execution_count": 0,
      "outputs": [
        {
          "output_type": "stream",
          "text": [
            "bulbasaur\n",
            "charmander\n",
            "squirtle\n"
          ],
          "name": "stdout"
        }
      ]
    },
    {
      "cell_type": "markdown",
      "metadata": {
        "id": "bOHniTEZiSHQ",
        "colab_type": "text"
      },
      "source": [
        "This is the same as:"
      ]
    },
    {
      "cell_type": "code",
      "metadata": {
        "id": "9V04wylRiThm",
        "colab_type": "code",
        "outputId": "6fcce416-5ab0-4e60-ae64-ee3ac7db63ff",
        "colab": {
          "base_uri": "https://localhost:8080/",
          "height": 70
        }
      },
      "source": [
        "starters = ['bulbasaur','charmander','squirtle'] \n",
        "current=0\n",
        "while current < len(starters):\n",
        "    print(starters[current])\n",
        "    current+=1"
      ],
      "execution_count": 0,
      "outputs": [
        {
          "output_type": "stream",
          "text": [
            "bulbasaur\n",
            "charmander\n",
            "squirtle\n"
          ],
          "name": "stdout"
        }
      ]
    },
    {
      "cell_type": "markdown",
      "metadata": {
        "id": "eFnLaJcViuJy",
        "colab_type": "text"
      },
      "source": [
        "When working with dictionaries, a ‘for’ loop can iterate over its keys, values or both. "
      ]
    },
    {
      "cell_type": "code",
      "metadata": {
        "id": "hB2MyR51iv3M",
        "colab_type": "code",
        "outputId": "339d51ec-a55f-43ce-93c0-e912ad063a7a",
        "colab": {
          "base_uri": "https://localhost:8080/",
          "height": 70
        }
      },
      "source": [
        "starters = {\n",
        "    'bulbasaur': 'grass-poison 1st generation',\n",
        "    'charmander': 'fire 1st generation',\n",
        "    'squirtle': 'water 1st generation',\n",
        "}\n",
        "for pokemon in starters:\n",
        "  print(pokemon)"
      ],
      "execution_count": 0,
      "outputs": [
        {
          "output_type": "stream",
          "text": [
            "bulbasaur\n",
            "charmander\n",
            "squirtle\n"
          ],
          "name": "stdout"
        }
      ]
    },
    {
      "cell_type": "markdown",
      "metadata": {
        "id": "vZ_GKMD5i73V",
        "colab_type": "text"
      },
      "source": [
        "This is the same as:"
      ]
    },
    {
      "cell_type": "code",
      "metadata": {
        "id": "hYX0UBaEi85d",
        "colab_type": "code",
        "outputId": "e055b315-2ca9-4e90-cfb2-c6056eb5c548",
        "colab": {
          "base_uri": "https://localhost:8080/",
          "height": 70
        }
      },
      "source": [
        "starters = {\n",
        "    'bulbasaur': 'grass-poison 1st generation',\n",
        "    'charmander': 'fire 1st generation',\n",
        "    'squirtle': 'water 1st generation',\n",
        "}\n",
        "for pokemon in starters.keys():\n",
        "  print(pokemon)"
      ],
      "execution_count": 0,
      "outputs": [
        {
          "output_type": "stream",
          "text": [
            "bulbasaur\n",
            "charmander\n",
            "squirtle\n"
          ],
          "name": "stdout"
        }
      ]
    },
    {
      "cell_type": "markdown",
      "metadata": {
        "id": "6l9hOcRQjG02",
        "colab_type": "text"
      },
      "source": [
        "To get the values:\n"
      ]
    },
    {
      "cell_type": "code",
      "metadata": {
        "id": "bgz_Jf62jIIv",
        "colab_type": "code",
        "outputId": "ae59b3d9-d60d-4843-976d-c14b83bf588f",
        "colab": {
          "base_uri": "https://localhost:8080/",
          "height": 70
        }
      },
      "source": [
        "for value in starters.values():\n",
        "  print(value)"
      ],
      "execution_count": 0,
      "outputs": [
        {
          "output_type": "stream",
          "text": [
            "grass-poison 1st generation\n",
            "fire 1st generation\n",
            "water 1st generation\n"
          ],
          "name": "stdout"
        }
      ]
    },
    {
      "cell_type": "markdown",
      "metadata": {
        "id": "GA-8sEKbjYsG",
        "colab_type": "text"
      },
      "source": [
        "To get both keys and values:"
      ]
    },
    {
      "cell_type": "code",
      "metadata": {
        "id": "nKLXLr1CjaQO",
        "colab_type": "code",
        "outputId": "bcf30982-435f-49d6-c745-06a852eb3016",
        "colab": {
          "base_uri": "https://localhost:8080/",
          "height": 70
        }
      },
      "source": [
        "for item in starters.items():\n",
        "  print(item)"
      ],
      "execution_count": 0,
      "outputs": [
        {
          "output_type": "stream",
          "text": [
            "('bulbasaur', 'grass-poison 1st generation')\n",
            "('charmander', 'fire 1st generation')\n",
            "('squirtle', 'water 1st generation')\n"
          ],
          "name": "stdout"
        }
      ]
    },
    {
      "cell_type": "markdown",
      "metadata": {
        "id": "0pDEZH47je82",
        "colab_type": "text"
      },
      "source": [
        "Another way to iterate over both values and keys of a dictionary is the following one:\n"
      ]
    },
    {
      "cell_type": "code",
      "metadata": {
        "id": "xQhx7Xbfjfem",
        "colab_type": "code",
        "outputId": "3ea872b5-f41a-48e7-9e7f-cebf4695acf4",
        "colab": {
          "base_uri": "https://localhost:8080/",
          "height": 70
        }
      },
      "source": [
        "for pokemon, type in starters.items():\n",
        "  print('Pokemon',pokemon,'is a',type)"
      ],
      "execution_count": 0,
      "outputs": [
        {
          "output_type": "stream",
          "text": [
            "Pokemon bulbasaur is a grass-poison 1st generation\n",
            "Pokemon charmander is a fire 1st generation\n",
            "Pokemon squirtle is a water 1st generation\n"
          ],
          "name": "stdout"
        }
      ]
    },
    {
      "cell_type": "markdown",
      "metadata": {
        "id": "72FtDraFj5wO",
        "colab_type": "text"
      },
      "source": [
        "Furthermore, the ‘for’ loop benefits of the ‘break’ and ‘continue’ keywords used for the ‘while’ loop. "
      ]
    },
    {
      "cell_type": "code",
      "metadata": {
        "id": "5QnatNbCj8Fv",
        "colab_type": "code",
        "outputId": "e76236f8-037c-4001-da2f-fdb5578d03f4",
        "colab": {
          "base_uri": "https://localhost:8080/",
          "height": 70
        }
      },
      "source": [
        "starters = {\n",
        "    'bulbasaur': 'grass-poison 1st generation',\n",
        "    'charmander': 'fire 1st generation',\n",
        "    'squirtle': 'water 1st generation',\n",
        "    'totodile': 'water type of the 2nd generation',\n",
        "}\n",
        "for pokemon,type in starters.items():\n",
        "  if pokemon== 'totodile':\n",
        "    print(pokemon,'is my favourite starter. It is a',type)\n",
        "    break\n",
        "  if pokemon== 'bulbasaur':\n",
        "    continue\n",
        "    print('Pokemon',pokemon,'is a',type)\n",
        "  else:\n",
        "    print('Pokemon',pokemon,'is a',type,'and this is outside the continue command.')\n",
        "else:\n",
        "  print('That’s all') "
      ],
      "execution_count": 0,
      "outputs": [
        {
          "output_type": "stream",
          "text": [
            "Pokemon charmander is a fire 1st generation and this is outside the continue command.\n",
            "Pokemon squirtle is a water 1st generation and this is outside the continue command.\n",
            "totodile is my favourite starter. It is a water type of the 2nd generation\n"
          ],
          "name": "stdout"
        }
      ]
    },
    {
      "cell_type": "markdown",
      "metadata": {
        "id": "ZBNtIBPYlNGr",
        "colab_type": "text"
      },
      "source": [
        "# Range()\n",
        "\n",
        "Lastly, but not least, the range() function helps generating sequences of numbers with a loop, without the need of creating a tuple or a list. \n",
        "\n",
        "The range() function accepts three values: range(start, end, step). The default value for ‘start’ is 0, while is -1 for ‘end’ and 1 for ‘step’. "
      ]
    },
    {
      "cell_type": "code",
      "metadata": {
        "id": "nLd4fNoQlRrA",
        "colab_type": "code",
        "outputId": "090e3634-c373-4b1d-e0fd-7307891a82eb",
        "colab": {
          "base_uri": "https://localhost:8080/",
          "height": 70
        }
      },
      "source": [
        "for x in range(0, 3):\n",
        "  print(x) "
      ],
      "execution_count": 0,
      "outputs": [
        {
          "output_type": "stream",
          "text": [
            "0\n",
            "1\n",
            "2\n"
          ],
          "name": "stdout"
        }
      ]
    },
    {
      "cell_type": "code",
      "metadata": {
        "id": "e54WEgiXlqUD",
        "colab_type": "code",
        "outputId": "82041b56-cde3-4628-d7c0-b50d2883780d",
        "colab": {
          "base_uri": "https://localhost:8080/",
          "height": 34
        }
      },
      "source": [
        "list( range(0, 3) )\n",
        "\n"
      ],
      "execution_count": 0,
      "outputs": [
        {
          "output_type": "execute_result",
          "data": {
            "text/plain": [
              "[0, 1, 2]"
            ]
          },
          "metadata": {
            "tags": []
          },
          "execution_count": 24
        }
      ]
    },
    {
      "cell_type": "code",
      "metadata": {
        "id": "7cYPMZQElu8p",
        "colab_type": "code",
        "outputId": "cc702b21-2289-477d-ed91-2458ccd77805",
        "colab": {
          "base_uri": "https://localhost:8080/",
          "height": 70
        }
      },
      "source": [
        "for x in range(2, -1, -1):\n",
        "  print(x) "
      ],
      "execution_count": 0,
      "outputs": [
        {
          "output_type": "stream",
          "text": [
            "2\n",
            "1\n",
            "0\n"
          ],
          "name": "stdout"
        }
      ]
    },
    {
      "cell_type": "code",
      "metadata": {
        "id": "JfUNhmDMlx86",
        "colab_type": "code",
        "outputId": "f655b031-8241-4550-c38a-55a0a7f9112a",
        "colab": {
          "base_uri": "https://localhost:8080/",
          "height": 34
        }
      },
      "source": [
        "list( range(2, -1, -1) ) "
      ],
      "execution_count": 0,
      "outputs": [
        {
          "output_type": "execute_result",
          "data": {
            "text/plain": [
              "[2, 1, 0]"
            ]
          },
          "metadata": {
            "tags": []
          },
          "execution_count": 26
        }
      ]
    }
  ]
}